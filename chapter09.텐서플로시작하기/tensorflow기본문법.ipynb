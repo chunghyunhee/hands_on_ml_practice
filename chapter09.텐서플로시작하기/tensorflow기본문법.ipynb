{
  "nbformat": 4,
  "nbformat_minor": 0,
  "metadata": {
    "colab": {
      "name": "tensorflow기본문법.ipynb",
      "provenance": []
    },
    "kernelspec": {
      "name": "python3",
      "display_name": "Python 3"
    }
  },
  "cells": [
    {
      "cell_type": "markdown",
      "metadata": {
        "id": "ppbkh0m9sB7W",
        "colab_type": "text"
      },
      "source": [
        "## tensorflow 기본 작동방법\n",
        "## reference :\n",
        "https://m.blog.naver.com/PostView.nhn?blogId=infoefficien&logNo=221085823517&proxyReferer=https%3A%2F%2Fwww.google.com%2F"
      ]
    },
    {
      "cell_type": "code",
      "metadata": {
        "id": "gTUhp64dkqNv",
        "colab_type": "code",
        "colab": {
          "base_uri": "https://localhost:8080/",
          "height": 111
        },
        "outputId": "6b74cd1f-e362-451b-c9bc-3de3980febdb"
      },
      "source": [
        "%tensorflow_version 1.x #버전지정"
      ],
      "execution_count": 1,
      "outputs": [
        {
          "output_type": "stream",
          "text": [
            "`%tensorflow_version` only switches the major version: `1.x` or `2.x`.\n",
            "You set: `1.x #버전지정`. This will be interpreted as: `1.x`.\n",
            "\n",
            "\n",
            "TensorFlow 1.x selected.\n"
          ],
          "name": "stdout"
        }
      ]
    },
    {
      "cell_type": "code",
      "metadata": {
        "id": "Y7T3KcbyknG1",
        "colab_type": "code",
        "colab": {}
      },
      "source": [
        "#tensorflow이전에 import할 것들(확인하기)\n",
        "import tensorflow as tf\n",
        "import numpy as np"
      ],
      "execution_count": 0,
      "outputs": []
    },
    {
      "cell_type": "markdown",
      "metadata": {
        "id": "bUa9LCoylGSE",
        "colab_type": "text"
      },
      "source": [
        "Defining tensors"
      ]
    },
    {
      "cell_type": "code",
      "metadata": {
        "id": "VxTuVfLWkxZ5",
        "colab_type": "code",
        "colab": {}
      },
      "source": [
        "#list, ndarray, tensorlow constant를 비교한다.\n",
        "\n",
        "#list type\n",
        "m1=[[1.0, 2.0], [3.0, 4.0]]\n",
        "#ndarray type\n",
        "m2=np.array([[1.0, 2.0], [3.0, 4.0]], dtype=np.float32)\n",
        "#tensorflow constant type\n",
        "m3=tf.constant([[1.0, 2.0], [3.0, 4.0]])"
      ],
      "execution_count": 0,
      "outputs": []
    },
    {
      "cell_type": "code",
      "metadata": {
        "id": "nQZsDpdslkFY",
        "colab_type": "code",
        "outputId": "d0fa710e-0933-451b-b89e-af79a1fcfd7b",
        "colab": {
          "base_uri": "https://localhost:8080/",
          "height": 36
        }
      },
      "source": [
        "m3 #type확인하기 (노드 자체로는 확인이 불가능:형태만 확인한다)"
      ],
      "execution_count": 5,
      "outputs": [
        {
          "output_type": "execute_result",
          "data": {
            "text/plain": [
              "<tf.Tensor 'Const:0' shape=(2, 2) dtype=float32>"
            ]
          },
          "metadata": {
            "tags": []
          },
          "execution_count": 5
        }
      ]
    },
    {
      "cell_type": "markdown",
      "metadata": {
        "id": "XsFB6O6el2WL",
        "colab_type": "text"
      },
      "source": [
        "tensorflow에서는 graph를 그리는 형태로 정의되므로, graph를 정의하는 형태와 실행하는 형태로 나누어진다. "
      ]
    },
    {
      "cell_type": "code",
      "metadata": {
        "id": "koQwUYHallFh",
        "colab_type": "code",
        "outputId": "fb1f5dfc-f647-46a6-eec4-05840d2db811",
        "colab": {
          "base_uri": "https://localhost:8080/",
          "height": 36
        }
      },
      "source": [
        "#실행하려면 session을 선언해야 한다\n",
        "sess=tf.Session()\n",
        "print(\"open Session\")"
      ],
      "execution_count": 6,
      "outputs": [
        {
          "output_type": "stream",
          "text": [
            "open Session\n"
          ],
          "name": "stdout"
        }
      ]
    },
    {
      "cell_type": "markdown",
      "metadata": {
        "id": "LRDlkn5xmIM9",
        "colab_type": "text"
      },
      "source": [
        "1. constants <br>\n",
        "tensorflow상수 출력(만드는, 선언하는 형태에서 끝나는 것이 아니라 run하는 작업이 필요하다."
      ]
    },
    {
      "cell_type": "code",
      "metadata": {
        "id": "uYIpIANKmESg",
        "colab_type": "code",
        "outputId": "0122d00d-dd4b-4af6-fe68-81fd795d4a26",
        "colab": {
          "base_uri": "https://localhost:8080/",
          "height": 36
        }
      },
      "source": [
        "hello= tf.constant(\"hellow. its me \")\n",
        "print(hello)\n",
        "#아직 run하지 않은 상태이므로 값을 출력하지는 못한다. "
      ],
      "execution_count": 7,
      "outputs": [
        {
          "output_type": "stream",
          "text": [
            "Tensor(\"Const_1:0\", shape=(), dtype=string)\n"
          ],
          "name": "stdout"
        }
      ]
    },
    {
      "cell_type": "code",
      "metadata": {
        "id": "7kAkq0z4mcCc",
        "colab_type": "code",
        "outputId": "a29528d7-d8e7-4c9e-899d-dc7cc7e5f332",
        "colab": {
          "base_uri": "https://localhost:8080/",
          "height": 36
        }
      },
      "source": [
        "#run하는 과정\n",
        "hello_out=sess.run(hello)\n",
        "print(hello_out) #선언된 node를 출력한다. "
      ],
      "execution_count": 8,
      "outputs": [
        {
          "output_type": "stream",
          "text": [
            "b'hellow. its me '\n"
          ],
          "name": "stdout"
        }
      ]
    },
    {
      "cell_type": "code",
      "metadata": {
        "id": "TV-JDEI8nN05",
        "colab_type": "code",
        "outputId": "824b1613-b0fe-4c38-b28b-89dbc5b58a3f",
        "colab": {
          "base_uri": "https://localhost:8080/",
          "height": 55
        }
      },
      "source": [
        "#다른 형태의 constnat를 선언하고 run하는 과정\n",
        "a=tf.constant(1.5) #constant의 선언\n",
        "b=tf.constant(2.5)\n",
        "\n",
        "print(a)\n",
        "print(b)"
      ],
      "execution_count": 9,
      "outputs": [
        {
          "output_type": "stream",
          "text": [
            "Tensor(\"Const_2:0\", shape=(), dtype=float32)\n",
            "Tensor(\"Const_3:0\", shape=(), dtype=float32)\n"
          ],
          "name": "stdout"
        }
      ]
    },
    {
      "cell_type": "code",
      "metadata": {
        "id": "JVUDgFfUnnu7",
        "colab_type": "code",
        "colab": {}
      },
      "source": [
        "#앞에서는 노드를 만들어주는 과정이고 연결하여 계산할 수 있도록 해야 한다. \n",
        "a_out=sess.run(a)\n",
        "b_out=sess.run(b)"
      ],
      "execution_count": 0,
      "outputs": []
    },
    {
      "cell_type": "markdown",
      "metadata": {
        "id": "6ef7k2een4K_",
        "colab_type": "text"
      },
      "source": [
        "2. operations <br>\n",
        "define한 tensor을 run하려면 session을 이용하여 run해야 한다. "
      ]
    },
    {
      "cell_type": "code",
      "metadata": {
        "id": "L3ujQ69enzOX",
        "colab_type": "code",
        "outputId": "7b552de4-4fde-415b-8675-ddacdb43bc9a",
        "colab": {
          "base_uri": "https://localhost:8080/",
          "height": 36
        }
      },
      "source": [
        "#graph에 대한 선언\n",
        "a_plus_b=tf.add(a,b)\n",
        "print(a_plus_b)"
      ],
      "execution_count": 11,
      "outputs": [
        {
          "output_type": "stream",
          "text": [
            "Tensor(\"Add:0\", shape=(), dtype=float32)\n"
          ],
          "name": "stdout"
        }
      ]
    },
    {
      "cell_type": "code",
      "metadata": {
        "id": "xZWjg0XLoLMI",
        "colab_type": "code",
        "outputId": "a3fe1676-50a2-4bcf-b06e-d96de02b7d0b",
        "colab": {
          "base_uri": "https://localhost:8080/",
          "height": 36
        }
      },
      "source": [
        "#graph에 대한 연산\n",
        "a_plus_b_out=sess.run(a_plus_b)\n",
        "print(a_plus_b_out)"
      ],
      "execution_count": 12,
      "outputs": [
        {
          "output_type": "stream",
          "text": [
            "4.0\n"
          ],
          "name": "stdout"
        }
      ]
    },
    {
      "cell_type": "code",
      "metadata": {
        "id": "BOPyy4ezoZwv",
        "colab_type": "code",
        "outputId": "9e3fadba-3a44-4ef7-9801-f201cc311501",
        "colab": {
          "base_uri": "https://localhost:8080/",
          "height": 36
        }
      },
      "source": [
        "#곱하기 연산의 정의 \n",
        "a_mul_b=tf.multiply(a,b) #노드에 대한 연산 정의 \n",
        "a_mul_b=sess #실제 연산\n",
        "\n",
        "print(a_mul_b) #연산의 결과 확인하기 "
      ],
      "execution_count": 13,
      "outputs": [
        {
          "output_type": "stream",
          "text": [
            "<tensorflow.python.client.session.Session object at 0x7f9761f5bba8>\n"
          ],
          "name": "stdout"
        }
      ]
    },
    {
      "cell_type": "markdown",
      "metadata": {
        "id": "eQwjR9OZqEvR",
        "colab_type": "text"
      },
      "source": [
        "tensorflow에서 variable은 모델링된 그래프 내부적으로 사용되는 변수이다. 이 벼눗값이 사용자가 정의하는 모델에 맞게 최적화되어 결과를 만든다. \n"
      ]
    },
    {
      "cell_type": "code",
      "metadata": {
        "id": "l1ntGTDRp59H",
        "colab_type": "code",
        "outputId": "feca6c58-5383-41d7-abbb-506420aed870",
        "colab": {
          "base_uri": "https://localhost:8080/",
          "height": 36
        }
      },
      "source": [
        "#랜덤값을 생성하여 변수에 지정하는 경우 \n",
        "#노드의 선언\n",
        "weight=tf.Variable(tf.random_normal([5,2], stddev=0.1))\n",
        "print(weight)"
      ],
      "execution_count": 14,
      "outputs": [
        {
          "output_type": "stream",
          "text": [
            "<tf.Variable 'Variable_3:0' shape=(5, 2) dtype=float32_ref>\n"
          ],
          "name": "stdout"
        }
      ]
    },
    {
      "cell_type": "code",
      "metadata": {
        "id": "86rz7IMhqjS7",
        "colab_type": "code",
        "outputId": "14d8f202-ae9b-4e33-d08c-edb3add055d1",
        "colab": {
          "base_uri": "https://localhost:8080/",
          "height": 519
        }
      },
      "source": [
        "#define값을 run\n",
        "weight_out=sess.run(weight)\n",
        "print(weight_out)\n",
        "\n",
        "#error : variable을 run하기 위해서는 기본적으로 initializer작업이 필요하다. "
      ],
      "execution_count": 15,
      "outputs": [
        {
          "output_type": "error",
          "ename": "FailedPreconditionError",
          "evalue": "ignored",
          "traceback": [
            "\u001b[0;31m---------------------------------------------------------------------------\u001b[0m",
            "\u001b[0;31mFailedPreconditionError\u001b[0m                   Traceback (most recent call last)",
            "\u001b[0;32m/usr/local/lib/python3.6/dist-packages/tensorflow_core/python/client/session.py\u001b[0m in \u001b[0;36m_do_call\u001b[0;34m(self, fn, *args)\u001b[0m\n\u001b[1;32m   1364\u001b[0m     \u001b[0;32mtry\u001b[0m\u001b[0;34m:\u001b[0m\u001b[0;34m\u001b[0m\u001b[0;34m\u001b[0m\u001b[0m\n\u001b[0;32m-> 1365\u001b[0;31m       \u001b[0;32mreturn\u001b[0m \u001b[0mfn\u001b[0m\u001b[0;34m(\u001b[0m\u001b[0;34m*\u001b[0m\u001b[0margs\u001b[0m\u001b[0;34m)\u001b[0m\u001b[0;34m\u001b[0m\u001b[0;34m\u001b[0m\u001b[0m\n\u001b[0m\u001b[1;32m   1366\u001b[0m     \u001b[0;32mexcept\u001b[0m \u001b[0merrors\u001b[0m\u001b[0;34m.\u001b[0m\u001b[0mOpError\u001b[0m \u001b[0;32mas\u001b[0m \u001b[0me\u001b[0m\u001b[0;34m:\u001b[0m\u001b[0;34m\u001b[0m\u001b[0;34m\u001b[0m\u001b[0m\n",
            "\u001b[0;32m/usr/local/lib/python3.6/dist-packages/tensorflow_core/python/client/session.py\u001b[0m in \u001b[0;36m_run_fn\u001b[0;34m(feed_dict, fetch_list, target_list, options, run_metadata)\u001b[0m\n\u001b[1;32m   1349\u001b[0m       return self._call_tf_sessionrun(options, feed_dict, fetch_list,\n\u001b[0;32m-> 1350\u001b[0;31m                                       target_list, run_metadata)\n\u001b[0m\u001b[1;32m   1351\u001b[0m \u001b[0;34m\u001b[0m\u001b[0m\n",
            "\u001b[0;32m/usr/local/lib/python3.6/dist-packages/tensorflow_core/python/client/session.py\u001b[0m in \u001b[0;36m_call_tf_sessionrun\u001b[0;34m(self, options, feed_dict, fetch_list, target_list, run_metadata)\u001b[0m\n\u001b[1;32m   1442\u001b[0m                                             \u001b[0mfetch_list\u001b[0m\u001b[0;34m,\u001b[0m \u001b[0mtarget_list\u001b[0m\u001b[0;34m,\u001b[0m\u001b[0;34m\u001b[0m\u001b[0;34m\u001b[0m\u001b[0m\n\u001b[0;32m-> 1443\u001b[0;31m                                             run_metadata)\n\u001b[0m\u001b[1;32m   1444\u001b[0m \u001b[0;34m\u001b[0m\u001b[0m\n",
            "\u001b[0;31mFailedPreconditionError\u001b[0m: Attempting to use uninitialized value Variable_3\n\t [[{{node _retval_Variable_3_0_0}}]]",
            "\nDuring handling of the above exception, another exception occurred:\n",
            "\u001b[0;31mFailedPreconditionError\u001b[0m                   Traceback (most recent call last)",
            "\u001b[0;32m<ipython-input-15-7706e39de79f>\u001b[0m in \u001b[0;36m<module>\u001b[0;34m()\u001b[0m\n\u001b[0;32m----> 1\u001b[0;31m \u001b[0mweight_out\u001b[0m\u001b[0;34m=\u001b[0m\u001b[0msess\u001b[0m\u001b[0;34m.\u001b[0m\u001b[0mrun\u001b[0m\u001b[0;34m(\u001b[0m\u001b[0mweight\u001b[0m\u001b[0;34m)\u001b[0m\u001b[0;34m\u001b[0m\u001b[0;34m\u001b[0m\u001b[0m\n\u001b[0m\u001b[1;32m      2\u001b[0m \u001b[0mprint\u001b[0m\u001b[0;34m(\u001b[0m\u001b[0mweight_out\u001b[0m\u001b[0;34m)\u001b[0m\u001b[0;34m\u001b[0m\u001b[0;34m\u001b[0m\u001b[0m\n\u001b[1;32m      3\u001b[0m \u001b[0;34m\u001b[0m\u001b[0m\n\u001b[1;32m      4\u001b[0m \u001b[0;31m#error : variable을 run하기 위해서는 기본적으로 initializer작업이 필요하다.\u001b[0m\u001b[0;34m\u001b[0m\u001b[0;34m\u001b[0m\u001b[0;34m\u001b[0m\u001b[0m\n",
            "\u001b[0;32m/usr/local/lib/python3.6/dist-packages/tensorflow_core/python/client/session.py\u001b[0m in \u001b[0;36mrun\u001b[0;34m(self, fetches, feed_dict, options, run_metadata)\u001b[0m\n\u001b[1;32m    954\u001b[0m     \u001b[0;32mtry\u001b[0m\u001b[0;34m:\u001b[0m\u001b[0;34m\u001b[0m\u001b[0;34m\u001b[0m\u001b[0m\n\u001b[1;32m    955\u001b[0m       result = self._run(None, fetches, feed_dict, options_ptr,\n\u001b[0;32m--> 956\u001b[0;31m                          run_metadata_ptr)\n\u001b[0m\u001b[1;32m    957\u001b[0m       \u001b[0;32mif\u001b[0m \u001b[0mrun_metadata\u001b[0m\u001b[0;34m:\u001b[0m\u001b[0;34m\u001b[0m\u001b[0;34m\u001b[0m\u001b[0m\n\u001b[1;32m    958\u001b[0m         \u001b[0mproto_data\u001b[0m \u001b[0;34m=\u001b[0m \u001b[0mtf_session\u001b[0m\u001b[0;34m.\u001b[0m\u001b[0mTF_GetBuffer\u001b[0m\u001b[0;34m(\u001b[0m\u001b[0mrun_metadata_ptr\u001b[0m\u001b[0;34m)\u001b[0m\u001b[0;34m\u001b[0m\u001b[0;34m\u001b[0m\u001b[0m\n",
            "\u001b[0;32m/usr/local/lib/python3.6/dist-packages/tensorflow_core/python/client/session.py\u001b[0m in \u001b[0;36m_run\u001b[0;34m(self, handle, fetches, feed_dict, options, run_metadata)\u001b[0m\n\u001b[1;32m   1178\u001b[0m     \u001b[0;32mif\u001b[0m \u001b[0mfinal_fetches\u001b[0m \u001b[0;32mor\u001b[0m \u001b[0mfinal_targets\u001b[0m \u001b[0;32mor\u001b[0m \u001b[0;34m(\u001b[0m\u001b[0mhandle\u001b[0m \u001b[0;32mand\u001b[0m \u001b[0mfeed_dict_tensor\u001b[0m\u001b[0;34m)\u001b[0m\u001b[0;34m:\u001b[0m\u001b[0;34m\u001b[0m\u001b[0;34m\u001b[0m\u001b[0m\n\u001b[1;32m   1179\u001b[0m       results = self._do_run(handle, final_targets, final_fetches,\n\u001b[0;32m-> 1180\u001b[0;31m                              feed_dict_tensor, options, run_metadata)\n\u001b[0m\u001b[1;32m   1181\u001b[0m     \u001b[0;32melse\u001b[0m\u001b[0;34m:\u001b[0m\u001b[0;34m\u001b[0m\u001b[0;34m\u001b[0m\u001b[0m\n\u001b[1;32m   1182\u001b[0m       \u001b[0mresults\u001b[0m \u001b[0;34m=\u001b[0m \u001b[0;34m[\u001b[0m\u001b[0;34m]\u001b[0m\u001b[0;34m\u001b[0m\u001b[0;34m\u001b[0m\u001b[0m\n",
            "\u001b[0;32m/usr/local/lib/python3.6/dist-packages/tensorflow_core/python/client/session.py\u001b[0m in \u001b[0;36m_do_run\u001b[0;34m(self, handle, target_list, fetch_list, feed_dict, options, run_metadata)\u001b[0m\n\u001b[1;32m   1357\u001b[0m     \u001b[0;32mif\u001b[0m \u001b[0mhandle\u001b[0m \u001b[0;32mis\u001b[0m \u001b[0;32mNone\u001b[0m\u001b[0;34m:\u001b[0m\u001b[0;34m\u001b[0m\u001b[0;34m\u001b[0m\u001b[0m\n\u001b[1;32m   1358\u001b[0m       return self._do_call(_run_fn, feeds, fetches, targets, options,\n\u001b[0;32m-> 1359\u001b[0;31m                            run_metadata)\n\u001b[0m\u001b[1;32m   1360\u001b[0m     \u001b[0;32melse\u001b[0m\u001b[0;34m:\u001b[0m\u001b[0;34m\u001b[0m\u001b[0;34m\u001b[0m\u001b[0m\n\u001b[1;32m   1361\u001b[0m       \u001b[0;32mreturn\u001b[0m \u001b[0mself\u001b[0m\u001b[0;34m.\u001b[0m\u001b[0m_do_call\u001b[0m\u001b[0;34m(\u001b[0m\u001b[0m_prun_fn\u001b[0m\u001b[0;34m,\u001b[0m \u001b[0mhandle\u001b[0m\u001b[0;34m,\u001b[0m \u001b[0mfeeds\u001b[0m\u001b[0;34m,\u001b[0m \u001b[0mfetches\u001b[0m\u001b[0;34m)\u001b[0m\u001b[0;34m\u001b[0m\u001b[0;34m\u001b[0m\u001b[0m\n",
            "\u001b[0;32m/usr/local/lib/python3.6/dist-packages/tensorflow_core/python/client/session.py\u001b[0m in \u001b[0;36m_do_call\u001b[0;34m(self, fn, *args)\u001b[0m\n\u001b[1;32m   1382\u001b[0m                     \u001b[0;34m'\\nsession_config.graph_options.rewrite_options.'\u001b[0m\u001b[0;34m\u001b[0m\u001b[0;34m\u001b[0m\u001b[0m\n\u001b[1;32m   1383\u001b[0m                     'disable_meta_optimizer = True')\n\u001b[0;32m-> 1384\u001b[0;31m       \u001b[0;32mraise\u001b[0m \u001b[0mtype\u001b[0m\u001b[0;34m(\u001b[0m\u001b[0me\u001b[0m\u001b[0;34m)\u001b[0m\u001b[0;34m(\u001b[0m\u001b[0mnode_def\u001b[0m\u001b[0;34m,\u001b[0m \u001b[0mop\u001b[0m\u001b[0;34m,\u001b[0m \u001b[0mmessage\u001b[0m\u001b[0;34m)\u001b[0m\u001b[0;34m\u001b[0m\u001b[0;34m\u001b[0m\u001b[0m\n\u001b[0m\u001b[1;32m   1385\u001b[0m \u001b[0;34m\u001b[0m\u001b[0m\n\u001b[1;32m   1386\u001b[0m   \u001b[0;32mdef\u001b[0m \u001b[0m_extend_graph\u001b[0m\u001b[0;34m(\u001b[0m\u001b[0mself\u001b[0m\u001b[0;34m)\u001b[0m\u001b[0;34m:\u001b[0m\u001b[0;34m\u001b[0m\u001b[0;34m\u001b[0m\u001b[0m\n",
            "\u001b[0;31mFailedPreconditionError\u001b[0m: Attempting to use uninitialized value Variable_3\n\t [[{{node _retval_Variable_3_0_0}}]]"
          ]
        }
      ]
    },
    {
      "cell_type": "code",
      "metadata": {
        "id": "L4FCnZUSqsEH",
        "colab_type": "code",
        "outputId": "e8f6fcca-915a-4fb8-f5ed-70b11ab248b7",
        "colab": {
          "base_uri": "https://localhost:8080/",
          "height": 111
        }
      },
      "source": [
        "#variable run하기 전에 initializer작업하는 경우\n",
        "sess.run(weight.initializer) #변수 초기화 \n",
        "weight_out=sess.run(weight)\n",
        "print(weight_out)"
      ],
      "execution_count": 16,
      "outputs": [
        {
          "output_type": "stream",
          "text": [
            "[[-0.00431666 -0.1826913 ]\n",
            " [ 0.11269211  0.05082117]\n",
            " [-0.02420279  0.21313237]\n",
            " [-0.0448092   0.05714485]\n",
            " [ 0.1065824  -0.01074505]]\n"
          ],
          "name": "stdout"
        }
      ]
    },
    {
      "cell_type": "code",
      "metadata": {
        "id": "JrU9QtLyrRDR",
        "colab_type": "code",
        "outputId": "56f6e6d3-6b48-4b3d-b6ca-0ed5f3d70130",
        "colab": {
          "base_uri": "https://localhost:8080/",
          "height": 204
        }
      },
      "source": [
        "#만약 변수의 수가 여러개라면 각각을 초기화하기가 힘들다\n",
        "#이에 따라 global_Variable_initiaizer을 사용한다. (한번에 초기화 )\n",
        "weight2=tf.Variable(tf.random_normal([5,2], stddev=0.1))\n",
        "weight3=tf.Variable(tf.Variable(tf.random_normal([5,2], stddev=0.1)))\n",
        "\n",
        "#정의한 variable에 대해 선언한 값을 실행하는 경우 \n",
        "sess.run(tf.global_variables_initializer()) #객체 선언\n",
        "weight2_out=sess.run(weight2)\n",
        "weight3_out=sess.run(weight3)\n",
        "print(weight2_out)\n",
        "print(weight3_out)"
      ],
      "execution_count": 17,
      "outputs": [
        {
          "output_type": "stream",
          "text": [
            "[[ 0.1122026  -0.13258843]\n",
            " [ 0.04271487 -0.03500804]\n",
            " [-0.17091417 -0.0316108 ]\n",
            " [ 0.09881623  0.0553331 ]\n",
            " [ 0.10089757  0.01293109]]\n",
            "[[ 0.07324497 -0.12210313]\n",
            " [-0.0860649   0.01160367]\n",
            " [-0.08585399 -0.03911755]\n",
            " [-0.10564317  0.15665667]\n",
            " [ 0.08416203 -0.00404129]]\n"
          ],
          "name": "stdout"
        }
      ]
    },
    {
      "cell_type": "markdown",
      "metadata": {
        "id": "SjQrT5EpnDVQ",
        "colab_type": "text"
      },
      "source": [
        "place holder는 데이터를 저장하는 역할을 한다. (사이즈는 가변적으로 변한다)"
      ]
    },
    {
      "cell_type": "code",
      "metadata": {
        "id": "t7vr56fJr58F",
        "colab_type": "code",
        "colab": {
          "base_uri": "https://localhost:8080/",
          "height": 36
        },
        "outputId": "8e7a461f-9020-4857-a936-bfa4a19f9fad"
      },
      "source": [
        "x=tf.placeholder(tf.float32, [None, 5])\n",
        "print(x)"
      ],
      "execution_count": 18,
      "outputs": [
        {
          "output_type": "stream",
          "text": [
            "Tensor(\"Placeholder:0\", shape=(?, 5), dtype=float32)\n"
          ],
          "name": "stdout"
        }
      ]
    },
    {
      "cell_type": "code",
      "metadata": {
        "id": "PdDBmFmYnQcx",
        "colab_type": "code",
        "colab": {
          "base_uri": "https://localhost:8080/",
          "height": 36
        },
        "outputId": "5cb22b51-9a28-4ca6-ade5-6b375e195243"
      },
      "source": [
        "#placeholder type x와 weight를 곱한다. \n",
        "oper=tf.matmul(x, weight)\n",
        "print(oper)"
      ],
      "execution_count": 19,
      "outputs": [
        {
          "output_type": "stream",
          "text": [
            "Tensor(\"MatMul:0\", shape=(?, 2), dtype=float32)\n"
          ],
          "name": "stdout"
        }
      ]
    },
    {
      "cell_type": "code",
      "metadata": {
        "id": "AtHMr0LQn3k0",
        "colab_type": "code",
        "colab": {
          "base_uri": "https://localhost:8080/",
          "height": 112
        },
        "outputId": "fdee6c81-61dd-46d2-b7e3-aaec1e582c3c"
      },
      "source": [
        "#행렬의 연산이 가능한 경우 \n",
        "sess = tf.InteractiveSession()\n",
        "mat1=tf.constant([[3., 3.]])\n",
        "mat2=tf.constant([[2.], [2.]])\n",
        "tf.multiply(mat1, mat2).eval()"
      ],
      "execution_count": 24,
      "outputs": [
        {
          "output_type": "stream",
          "text": [
            "/usr/local/lib/python3.6/dist-packages/tensorflow_core/python/client/session.py:1750: UserWarning: An interactive session is already active. This can cause out-of-memory errors in some cases. You must explicitly call `InteractiveSession.close()` to release resources held by the other session(s).\n",
            "  warnings.warn('An interactive session is already active. This can '\n"
          ],
          "name": "stderr"
        },
        {
          "output_type": "execute_result",
          "data": {
            "text/plain": [
              "array([[6., 6.],\n",
              "       [6., 6.]], dtype=float32)"
            ]
          },
          "metadata": {
            "tags": []
          },
          "execution_count": 24
        }
      ]
    },
    {
      "cell_type": "code",
      "metadata": {
        "id": "HdkyjXRspx9j",
        "colab_type": "code",
        "colab": {
          "base_uri": "https://localhost:8080/",
          "height": 55
        },
        "outputId": "e3b63251-6fbd-43cf-f4c9-896408fcb8a5"
      },
      "source": [
        "#broadcasting은 매트릭스의 사이즈가 맞지 않을 때 작은 matrix의 크기가 큰 \n",
        "#matrix의 크기에 맞춰 계산이 가느하도록 한다. \n",
        "matrix1=tf.constant([[3., 3.]])\n",
        "matrix2=tf.constant([[2.], [2.]])\n",
        "(matrix1+matrix2).eval()"
      ],
      "execution_count": 26,
      "outputs": [
        {
          "output_type": "execute_result",
          "data": {
            "text/plain": [
              "array([[5., 5.],\n",
              "       [5., 5.]], dtype=float32)"
            ]
          },
          "metadata": {
            "tags": []
          },
          "execution_count": 26
        }
      ]
    },
    {
      "cell_type": "code",
      "metadata": {
        "id": "x_dCL5rUqfej",
        "colab_type": "code",
        "colab": {}
      },
      "source": [
        ""
      ],
      "execution_count": 0,
      "outputs": []
    },
    {
      "cell_type": "markdown",
      "metadata": {
        "id": "AuduEdQGqnEJ",
        "colab_type": "text"
      },
      "source": [
        "tensorflow는 edges와 nodes로 구조화된 graph로 프로그램이 구성된다. <br>\n",
        "1. tensorflow 모듈을 가져와 tf호출\n",
        "2. x라는 상수값(constant)를 만들고 숫자 35를 지정한다. \n",
        "3. y라는 변수값(variable)을 만들고 방정식으로 정의한다. \n",
        "4. global_variable_initializer로 변수 초기화\n",
        "5. 값을 계산하기 위한 session만들기\n",
        "6. 모델 실행\n",
        "7. 변수 y만 실행하고 현재값을 출력한다. \n"
      ]
    },
    {
      "cell_type": "code",
      "metadata": {
        "id": "GdoCKprTqs7f",
        "colab_type": "code",
        "colab": {}
      },
      "source": [
        "#실습\n",
        "import tensorflow as tf\n",
        "\n",
        "x=tf.constant(35, name='x') #상수 지정\n",
        "y=tf.Variable(x+5, name='y') #변수 지정"
      ],
      "execution_count": 0,
      "outputs": []
    },
    {
      "cell_type": "code",
      "metadata": {
        "id": "rXSbdjkSrRPh",
        "colab_type": "code",
        "colab": {
          "base_uri": "https://localhost:8080/",
          "height": 36
        },
        "outputId": "f6ca265c-44a4-4f0d-987a-27038c297ebf"
      },
      "source": [
        "#변수 초기화 \n",
        "model= tf.global_variables_initializer()\n",
        "\n",
        "with tf.Session() as session:\n",
        "  session.run(model)\n",
        "  print(session.run(y))"
      ],
      "execution_count": 28,
      "outputs": [
        {
          "output_type": "stream",
          "text": [
            "40\n"
          ],
          "name": "stdout"
        }
      ]
    },
    {
      "cell_type": "markdown",
      "metadata": {
        "id": "Yh76oqJvrgdJ",
        "colab_type": "text"
      },
      "source": [
        "tensorflow는 빌딩구조와 세션 구조가 분리되어 있다. "
      ]
    },
    {
      "cell_type": "code",
      "metadata": {
        "id": "4q0gH7lNrd6E",
        "colab_type": "code",
        "colab": {
          "base_uri": "https://localhost:8080/",
          "height": 36
        },
        "outputId": "5015f0cd-30a3-4301-da41-30addd1ae6d1"
      },
      "source": [
        "import tensorflow as tf\n",
        "\n",
        "#Building(변수, 모델 구성하는 단계)\n",
        "x=tf.lin_space(-1.0, 1.0, 10)\n",
        "print(x)"
      ],
      "execution_count": 29,
      "outputs": [
        {
          "output_type": "stream",
          "text": [
            "Tensor(\"LinSpace:0\", shape=(10,), dtype=float32)\n"
          ],
          "name": "stdout"
        }
      ]
    },
    {
      "cell_type": "code",
      "metadata": {
        "id": "tEHUOGkmrpjK",
        "colab_type": "code",
        "colab": {
          "base_uri": "https://localhost:8080/",
          "height": 55
        },
        "outputId": "cb88456e-be37-4886-9139-aed209c9e87e"
      },
      "source": [
        "#session(실행하는 단계)\n",
        "sess=tf.Session()\n",
        "print(sess.run(x))"
      ],
      "execution_count": 30,
      "outputs": [
        {
          "output_type": "stream",
          "text": [
            "[-1.         -0.7777778  -0.5555556  -0.3333333  -0.1111111   0.11111112\n",
            "  0.33333334  0.5555556   0.7777778   1.        ]\n"
          ],
          "name": "stdout"
        }
      ]
    },
    {
      "cell_type": "markdown",
      "metadata": {
        "id": "wB8V_J5ksaag",
        "colab_type": "text"
      },
      "source": [
        "\n",
        "![image](https://user-images.githubusercontent.com/49298791/74580389-08173600-4fe7-11ea-834f-be6ccf704970.png)\n"
      ]
    },
    {
      "cell_type": "code",
      "metadata": {
        "id": "Hq_fu1LFrzwz",
        "colab_type": "code",
        "colab": {
          "base_uri": "https://localhost:8080/",
          "height": 149
        },
        "outputId": "e66ece90-8aa0-4180-fdb0-cf2a45ea7ce8"
      },
      "source": [
        "#1~5의 tensorflow 실행하는 방법\n",
        "import tensorflow as tf\n",
        "x=tf.Variable(0, name='x')\n",
        "model=tf.global_variables_initializer()\n",
        "\n",
        "with tf.Session() as sess:\n",
        "  for i in range(5):\n",
        "    sess.run(model)\n",
        "    x+=1\n",
        "    print(sess.run(x)) #with문 사용하면 session close할 필요가 없다. "
      ],
      "execution_count": 31,
      "outputs": [
        {
          "output_type": "stream",
          "text": [
            "WARNING:tensorflow:Variable += will be deprecated. Use variable.assign_add if you want assignment to the variable value or 'x = x + y' if you want a new python Tensor object.\n",
            "1\n",
            "2\n",
            "3\n",
            "4\n",
            "5\n"
          ],
          "name": "stdout"
        }
      ]
    },
    {
      "cell_type": "code",
      "metadata": {
        "id": "h6-WxLtos1UW",
        "colab_type": "code",
        "colab": {}
      },
      "source": [
        ""
      ],
      "execution_count": 0,
      "outputs": []
    }
  ]
}