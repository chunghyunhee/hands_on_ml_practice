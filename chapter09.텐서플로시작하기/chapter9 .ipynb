{
  "nbformat": 4,
  "nbformat_minor": 0,
  "metadata": {
    "colab": {
      "name": "chapter9.ipynb",
      "provenance": [],
      "collapsed_sections": []
    },
    "kernelspec": {
      "name": "python3",
      "display_name": "Python 3"
    }
  },
  "cells": [
    {
      "cell_type": "markdown",
      "metadata": {
        "id": "ZAURcrApCYQ9",
        "colab_type": "text"
      },
      "source": [
        "### 9.1.설치\n",
        "- 텐서플로우는 수치연산을 기호로 표현한 그래프 구조를 만들고 처리한다는 기본 아이디어를 바탕으로 구현이 되었다. <br>\n",
        "- 또한 알고리즘이 어떻게 돌아가고 있는지를 알려구지 위해 많은 정보를 모니터링하고 디스플레이 해주는 텐서보드 모듈이다. \n",
        "- 수식을 그래프로 표현하고 그래프를 세션에서 실행하여 결과를 얻는 작업을 거친다. 따라서 데이터를 node와 edge로 변환하여 플로우 그래프로 표현해야 한다. tensorflow에서는 node를 operation, edge를 tensor라고 한다. \n",
        "- 그래프에 오퍼레이션을 저장하고 각 데이터를 텐서로 연결하는 형태로 이루어진다. \n",
        "- tensorflow의 기본 idea는 노드를 만들고 edge로 연결하는 연산을 수행하는 것이다. \n"
      ]
    },
    {
      "cell_type": "code",
      "metadata": {
        "id": "x0W3yw_9Bw4m",
        "colab_type": "code",
        "outputId": "1938b20f-af8f-4dec-813a-7c039f3eb85a",
        "colab": {
          "base_uri": "https://localhost:8080/",
          "height": 111
        }
      },
      "source": [
        "%tensorflow_version 1.x #버전지정"
      ],
      "execution_count": 2,
      "outputs": [
        {
          "output_type": "stream",
          "text": [
            "`%tensorflow_version` only switches the major version: `1.x` or `2.x`.\n",
            "You set: `1.x #버전지정`. This will be interpreted as: `1.x`.\n",
            "\n",
            "\n",
            "TensorFlow 1.x selected.\n"
          ],
          "name": "stdout"
        }
      ]
    },
    {
      "cell_type": "code",
      "metadata": {
        "id": "mKKvvENIBjeF",
        "colab_type": "code",
        "outputId": "287e42c8-6deb-47af-e8e8-ba5cb89278ce",
        "colab": {
          "base_uri": "https://localhost:8080/",
          "height": 36
        }
      },
      "source": [
        "import tensorflow as tf\n",
        "print(tf.__version__)"
      ],
      "execution_count": 3,
      "outputs": [
        {
          "output_type": "stream",
          "text": [
            "1.15.0\n"
          ],
          "name": "stdout"
        }
      ]
    },
    {
      "cell_type": "code",
      "metadata": {
        "id": "aPa7kXH9NRUL",
        "colab_type": "code",
        "colab": {}
      },
      "source": [
        "#간단한 예제\n",
        "#식 3*2+1을 계산하는 경우\n",
        "import tensorflow as tf\n",
        "\n",
        "#오퍼레이션 생성\n",
        "tensor_a=tf.constant(3, name='a')\n",
        "tensor_b=tf.constant(2, name='b')\n",
        "tensor_c=tf.constant(1,name='c')\n",
        "\n",
        "tensor_d=tensor_a*tensor_b\n",
        "tensor_e=tensor_d+tensor_c"
      ],
      "execution_count": 0,
      "outputs": []
    },
    {
      "cell_type": "code",
      "metadata": {
        "id": "ahT8kJDjOyjC",
        "colab_type": "code",
        "outputId": "20fe4380-0bfb-4838-febd-549410a85c55",
        "colab": {
          "base_uri": "https://localhost:8080/",
          "height": 111
        }
      },
      "source": [
        "tf.get_default_graph().get_operations()"
      ],
      "execution_count": 5,
      "outputs": [
        {
          "output_type": "execute_result",
          "data": {
            "text/plain": [
              "[<tf.Operation 'a' type=Const>,\n",
              " <tf.Operation 'b' type=Const>,\n",
              " <tf.Operation 'c' type=Const>,\n",
              " <tf.Operation 'mul' type=Mul>,\n",
              " <tf.Operation 'add' type=AddV2>]"
            ]
          },
          "metadata": {
            "tags": []
          },
          "execution_count": 5
        }
      ]
    },
    {
      "cell_type": "code",
      "metadata": {
        "id": "oObaMw4kNsw-",
        "colab_type": "code",
        "outputId": "3d80210a-c253-4340-8a7d-04b7efe61fe0",
        "colab": {
          "base_uri": "https://localhost:8080/",
          "height": 36
        }
      },
      "source": [
        "#세션으로 실행하여 결과확인\n",
        "sess=tf.Session()\n",
        "print(sess.run(tensor_e))"
      ],
      "execution_count": 6,
      "outputs": [
        {
          "output_type": "stream",
          "text": [
            "7\n"
          ],
          "name": "stdout"
        }
      ]
    },
    {
      "cell_type": "code",
      "metadata": {
        "id": "6XQ4PUyWNy2z",
        "colab_type": "code",
        "colab": {}
      },
      "source": [
        "#결과확인\n",
        "sess.close()"
      ],
      "execution_count": 0,
      "outputs": []
    },
    {
      "cell_type": "markdown",
      "metadata": {
        "id": "iC27BPYrCfnM",
        "colab_type": "text"
      },
      "source": [
        "### 9.2.첫번째 계산그래프를 만들어 세션에서 실행하기\n",
        "\n",
        "#### 텐서플로우 프로그램의 구성\n",
        "- 구성단계: 훈련에 필요한 계산과 머신러닝 모델을 표현한 계산 그래프를 만든다<br>\n",
        "- 실행단계: 훈련스탭을 반복해서 평가하고 반복루프를 진행"
      ]
    },
    {
      "cell_type": "markdown",
      "metadata": {
        "id": "3gi9kfONGQH7",
        "colab_type": "text"
      },
      "source": [
        "아래의 형태는 구성단계에 해당하는 코드이다. 실제 f식을 연산하는 것이 아니라, initialized값에 대해 훈련을 하는 stage에 올리기 전의 상태라고 보면 쉽다. "
      ]
    },
    {
      "cell_type": "code",
      "metadata": {
        "id": "HTkAp-y2BmMb",
        "colab_type": "code",
        "colab": {}
      },
      "source": [
        "import tensorflow as tf\n",
        "\n",
        "x = tf.Variable(3, name=\"x\")\n",
        "y = tf.Variable(4, name=\"y\")\n",
        "f = x*x*y + y + 2"
      ],
      "execution_count": 0,
      "outputs": []
    },
    {
      "cell_type": "code",
      "metadata": {
        "id": "SQzDGkzICGzY",
        "colab_type": "code",
        "outputId": "0dcc7e7b-aaf4-4920-95ac-26d3a07e54e9",
        "colab": {
          "base_uri": "https://localhost:8080/",
          "height": 36
        }
      },
      "source": [
        "f"
      ],
      "execution_count": 9,
      "outputs": [
        {
          "output_type": "execute_result",
          "data": {
            "text/plain": [
              "<tf.Tensor 'add_2:0' shape=() dtype=int32>"
            ]
          },
          "metadata": {
            "tags": []
          },
          "execution_count": 9
        }
      ]
    },
    {
      "cell_type": "markdown",
      "metadata": {
        "id": "zZP459pfGahg",
        "colab_type": "text"
      },
      "source": [
        "이제 부터는 실행단계에 속하는 경우이다.실제 stage에서 연산의 단계에 올리며 실제 연산을 해주는 과정이다. "
      ]
    },
    {
      "cell_type": "markdown",
      "metadata": {
        "id": "9O1Bzd08DDvT",
        "colab_type": "text"
      },
      "source": [
        "### (1) . run session을 하나씩 설정하고 해제하는 경우 "
      ]
    },
    {
      "cell_type": "code",
      "metadata": {
        "id": "9yHtB5fKCJDx",
        "colab_type": "code",
        "outputId": "5a5ef96c-d12a-4d43-e74f-f0d2910e772e",
        "colab": {
          "base_uri": "https://localhost:8080/",
          "height": 36
        }
      },
      "source": [
        "sess = tf.Session()\n",
        "sess.run(x.initializer) #변수 초기화 \n",
        "sess.run(y.initializer)\n",
        "result = sess.run(f) #평가 \n",
        "print(result)"
      ],
      "execution_count": 10,
      "outputs": [
        {
          "output_type": "stream",
          "text": [
            "42\n"
          ],
          "name": "stdout"
        }
      ]
    },
    {
      "cell_type": "code",
      "metadata": {
        "id": "9KrKDHpBCKiD",
        "colab_type": "code",
        "colab": {}
      },
      "source": [
        "sess.close() #자원 해제"
      ],
      "execution_count": 0,
      "outputs": []
    },
    {
      "cell_type": "markdown",
      "metadata": {
        "id": "IIsSBRLCDIXP",
        "colab_type": "text"
      },
      "source": [
        "#### (2). with 선언문 사용하는 겨웅 "
      ]
    },
    {
      "cell_type": "code",
      "metadata": {
        "id": "ZwnefqS5DMYX",
        "colab_type": "code",
        "colab": {}
      },
      "source": [
        "with tf.Session() as sess:\n",
        "  x.initializer.run()\n",
        "  y.initializer.run()\n",
        "  result=f.eval()"
      ],
      "execution_count": 0,
      "outputs": []
    },
    {
      "cell_type": "markdown",
      "metadata": {
        "id": "Iz654NW9DVJN",
        "colab_type": "text"
      },
      "source": [
        "#### (3).각 변수를 초기화하는 대신 global_variables_initializer()함수를 사용하는 경우"
      ]
    },
    {
      "cell_type": "code",
      "metadata": {
        "id": "i3wqib-ZDS8s",
        "colab_type": "code",
        "colab": {}
      },
      "source": [
        "init=tf.global_variables_initializer() #변수의 초기화 \n",
        "with tf.Session() as sess:\n",
        "  init.run()\n",
        "  result=f.eval()\n"
      ],
      "execution_count": 0,
      "outputs": []
    },
    {
      "cell_type": "code",
      "metadata": {
        "id": "ODXhgjolD-Y5",
        "colab_type": "code",
        "outputId": "63b78a9a-63a2-4d67-d9d2-c16fa3d6327e",
        "colab": {
          "base_uri": "https://localhost:8080/",
          "height": 36
        }
      },
      "source": [
        "result"
      ],
      "execution_count": 14,
      "outputs": [
        {
          "output_type": "execute_result",
          "data": {
            "text/plain": [
              "42"
            ]
          },
          "metadata": {
            "tags": []
          },
          "execution_count": 14
        }
      ]
    },
    {
      "cell_type": "markdown",
      "metadata": {
        "id": "Ifq9akVtEZJ-",
        "colab_type": "text"
      },
      "source": [
        "#### (4). 자기자신을 한 세션으로 지정하는 interactiveSession을 사용한다.  "
      ]
    },
    {
      "cell_type": "code",
      "metadata": {
        "id": "aHq0k6PrD__i",
        "colab_type": "code",
        "outputId": "35332214-5f7a-4f43-c99c-4392e55893c4",
        "colab": {
          "base_uri": "https://localhost:8080/",
          "height": 36
        }
      },
      "source": [
        "init=tf.global_variables_initializer()\n",
        "sess=tf.InteractiveSession()\n",
        "init.run()\n",
        "result=f.eval()\n",
        "print(result)"
      ],
      "execution_count": 15,
      "outputs": [
        {
          "output_type": "stream",
          "text": [
            "42\n"
          ],
          "name": "stdout"
        }
      ]
    },
    {
      "cell_type": "code",
      "metadata": {
        "id": "X8sLfanGEDzL",
        "colab_type": "code",
        "colab": {}
      },
      "source": [
        "sess.close()"
      ],
      "execution_count": 0,
      "outputs": []
    },
    {
      "cell_type": "code",
      "metadata": {
        "id": "PTjjcQKHEp8c",
        "colab_type": "code",
        "outputId": "c6acb575-7c50-469a-9d66-c5ce0f852fae",
        "colab": {
          "base_uri": "https://localhost:8080/",
          "height": 36
        }
      },
      "source": [
        "result"
      ],
      "execution_count": 17,
      "outputs": [
        {
          "output_type": "execute_result",
          "data": {
            "text/plain": [
              "42"
            ]
          },
          "metadata": {
            "tags": []
          },
          "execution_count": 17
        }
      ]
    },
    {
      "cell_type": "markdown",
      "metadata": {
        "id": "0Voo_acqFw68",
        "colab_type": "text"
      },
      "source": [
        "### 9.3.계산그래프 관리"
      ]
    },
    {
      "cell_type": "code",
      "metadata": {
        "id": "oxrc0Ol_EqUs",
        "colab_type": "code",
        "outputId": "4b051e1a-6bc4-4ae0-f3c1-1cfb09488fd5",
        "colab": {
          "base_uri": "https://localhost:8080/",
          "height": 36
        }
      },
      "source": [
        "#노드를 만들면 자동으로 기본 계산 그래프에 추가된다. \n",
        "#또한 노드가 중복되지 않도록 기본그래프 초기화 tf.reset_default_graph()해준다. \n",
        "x1= tf.Variable(1) #노드를 생성하는 경우\n",
        "x1.graph is tf.get_default_graph() #해당 노드가 그래프에 있는지를 확인"
      ],
      "execution_count": 18,
      "outputs": [
        {
          "output_type": "execute_result",
          "data": {
            "text/plain": [
              "True"
            ]
          },
          "metadata": {
            "tags": []
          },
          "execution_count": 18
        }
      ]
    },
    {
      "cell_type": "markdown",
      "metadata": {
        "id": "FUQQKiUwKLCF",
        "colab_type": "text"
      },
      "source": [
        "독립적인 계산그래프를 여러개 만들어야 할 때 graph객체를 with블록 내에 임시로 만들어 임시 계산 그래프로 사용이 가능하다"
      ]
    },
    {
      "cell_type": "code",
      "metadata": {
        "id": "0oCFpTO9JhZa",
        "colab_type": "code",
        "colab": {}
      },
      "source": [
        " graph=tf.Graph()\n",
        " with graph.as_default():\n",
        "   x2=tf.Variable(2)"
      ],
      "execution_count": 0,
      "outputs": []
    },
    {
      "cell_type": "code",
      "metadata": {
        "id": "gnt5FyMGKd0m",
        "colab_type": "code",
        "outputId": "3305358b-1907-4b69-992f-2161d1063589",
        "colab": {
          "base_uri": "https://localhost:8080/",
          "height": 36
        }
      },
      "source": [
        "x2.graph is graph"
      ],
      "execution_count": 20,
      "outputs": [
        {
          "output_type": "execute_result",
          "data": {
            "text/plain": [
              "True"
            ]
          },
          "metadata": {
            "tags": []
          },
          "execution_count": 20
        }
      ]
    },
    {
      "cell_type": "markdown",
      "metadata": {
        "id": "xiDae95SKsEB",
        "colab_type": "text"
      },
      "source": [
        "#### 9.4. 노드값의 생애주기\n",
        "한 노드를 평가할 때 텐서플로우는 이 노드가 의존하고 있는 다른 노드들을 자동으로 찾아 먼저 평가한다. "
      ]
    },
    {
      "cell_type": "code",
      "metadata": {
        "id": "qaaseuRYKn5k",
        "colab_type": "code",
        "colab": {}
      },
      "source": [
        "#오퍼레이션(각 노드에 대한 데이터)을 설정하는 방법\n",
        "w = tf.constant(3) #구성\n",
        "x = w + 2\n",
        "y = x + 5\n",
        "z = x * 3"
      ],
      "execution_count": 0,
      "outputs": []
    },
    {
      "cell_type": "code",
      "metadata": {
        "id": "D5F-opRcLVQW",
        "colab_type": "code",
        "outputId": "46ae9b8f-1c40-4e1d-c7e0-68dcbc74ae82",
        "colab": {
          "base_uri": "https://localhost:8080/",
          "height": 55
        }
      },
      "source": [
        "with tf.Session() as sess: #실행\n",
        "    print(y.eval())  #자동계산을 지원한다. \n",
        "    print(z.eval())  "
      ],
      "execution_count": 22,
      "outputs": [
        {
          "output_type": "stream",
          "text": [
            "10\n",
            "15\n"
          ],
          "name": "stdout"
        }
      ]
    },
    {
      "cell_type": "markdown",
      "metadata": {
        "id": "morbqAhMz2fv",
        "colab_type": "text"
      },
      "source": [
        "### 9.5. 텐서플로우를 이용한 선형회귀\n",
        "앞에서는 iteration을 돌리는 형태로 작성을 했었음. 여기서는 편향값을 넣고 신경망 형태로 작성을 한다. "
      ]
    },
    {
      "cell_type": "code",
      "metadata": {
        "id": "OEH68iUoLXH9",
        "colab_type": "code",
        "outputId": "e88da2fb-2149-483c-f169-de8efe674e9e",
        "colab": {
          "base_uri": "https://localhost:8080/",
          "height": 36
        }
      },
      "source": [
        "import numpy as np\n",
        "from sklearn.datasets import fetch_california_housing\n",
        "\n",
        "housing=fetch_california_housing() #데이터 \n",
        "m,n=housing.data.shape\n",
        "housing_data_plus_bias=np.c_[np.ones((m,1)), housing.data] #편향데이터를 넣은 형태로 데이터를 생성하는 경우 \n",
        "\n",
        "X = tf.constant(housing_data_plus_bias, dtype=tf.float32, name=\"X\")\n",
        "y = tf.constant(housing.target.reshape(-1, 1), dtype=tf.float32, name=\"y\")\n",
        "XT = tf.transpose(X)\n",
        "theta = tf.matmul(tf.matmul(tf.matrix_inverse(tf.matmul(XT, X)), XT), y)"
      ],
      "execution_count": 23,
      "outputs": [
        {
          "output_type": "stream",
          "text": [
            "Downloading Cal. housing from https://ndownloader.figshare.com/files/5976036 to /root/scikit_learn_data\n"
          ],
          "name": "stderr"
        }
      ]
    },
    {
      "cell_type": "code",
      "metadata": {
        "id": "Ap2Zlm2A55G1",
        "colab_type": "code",
        "colab": {}
      },
      "source": [
        "with tf.Session() as sess:\n",
        "    theta_value = theta.eval()"
      ],
      "execution_count": 0,
      "outputs": []
    },
    {
      "cell_type": "code",
      "metadata": {
        "id": "9yeZWc6J58gk",
        "colab_type": "code",
        "outputId": "58f29d80-725f-4c61-cc39-6b9f4162f937",
        "colab": {
          "base_uri": "https://localhost:8080/",
          "height": 185
        }
      },
      "source": [
        "theta_value"
      ],
      "execution_count": 25,
      "outputs": [
        {
          "output_type": "execute_result",
          "data": {
            "text/plain": [
              "array([[-3.67372932e+01],\n",
              "       [ 4.37366009e-01],\n",
              "       [ 9.47520509e-03],\n",
              "       [-1.08159676e-01],\n",
              "       [ 6.48537397e-01],\n",
              "       [-3.84734449e-06],\n",
              "       [-3.79239232e-03],\n",
              "       [-4.19136107e-01],\n",
              "       [-4.32144403e-01]], dtype=float32)"
            ]
          },
          "metadata": {
            "tags": []
          },
          "execution_count": 25
        }
      ]
    },
    {
      "cell_type": "code",
      "metadata": {
        "id": "hXw6E8lc5-tf",
        "colab_type": "code",
        "outputId": "4b2aeea9-8788-4bb5-d1bb-73490c258bbd",
        "colab": {
          "base_uri": "https://localhost:8080/",
          "height": 185
        }
      },
      "source": [
        "#numpy를 사용하여 구현했던 선형회귀의 경우 \n",
        "X = housing_data_plus_bias\n",
        "y = housing.target.reshape(-1, 1)\n",
        "theta_numpy = np.linalg.inv(X.T.dot(X)).dot(X.T).dot(y)\n",
        "\n",
        "print(theta_numpy)"
      ],
      "execution_count": 26,
      "outputs": [
        {
          "output_type": "stream",
          "text": [
            "[[-3.69419202e+01]\n",
            " [ 4.36693293e-01]\n",
            " [ 9.43577803e-03]\n",
            " [-1.07322041e-01]\n",
            " [ 6.45065694e-01]\n",
            " [-3.97638942e-06]\n",
            " [-3.78654265e-03]\n",
            " [-4.21314378e-01]\n",
            " [-4.34513755e-01]]\n"
          ],
          "name": "stdout"
        }
      ]
    },
    {
      "cell_type": "code",
      "metadata": {
        "id": "bdXBKiYc6PvL",
        "colab_type": "code",
        "outputId": "2910a7fa-0658-4716-a73c-32236472495a",
        "colab": {
          "base_uri": "https://localhost:8080/",
          "height": 185
        }
      },
      "source": [
        "#sklearn으로 구현했던 경우\n",
        "from sklearn.linear_model import LinearRegression\n",
        "lin_reg = LinearRegression()\n",
        "lin_reg.fit(housing.data, housing.target.reshape(-1, 1))\n",
        "\n",
        "print(np.r_[lin_reg.intercept_.reshape(-1, 1), lin_reg.coef_.T])"
      ],
      "execution_count": 27,
      "outputs": [
        {
          "output_type": "stream",
          "text": [
            "[[-3.69419202e+01]\n",
            " [ 4.36693293e-01]\n",
            " [ 9.43577803e-03]\n",
            " [-1.07322041e-01]\n",
            " [ 6.45065694e-01]\n",
            " [-3.97638942e-06]\n",
            " [-3.78654265e-03]\n",
            " [-4.21314378e-01]\n",
            " [-4.34513755e-01]]\n"
          ],
          "name": "stdout"
        }
      ]
    },
    {
      "cell_type": "markdown",
      "metadata": {
        "id": "oxE59ZI86Xgz",
        "colab_type": "text"
      },
      "source": [
        "### 9.6.경사하강법 구현\n",
        "\n",
        "\n",
        "```python\n",
        "#비용함수 계산이 가능한 함수 \n",
        "def h(theta,X): #Linear hypothesis function\n",
        "    return np.dot(X,theta)\n",
        "\n",
        "def computeCost(mytheta,X,y): #Cost function\n",
        "    \"\"\"\n",
        "    theta_start is an n- dimensional vector of initial theta guess\n",
        "    X is matrix with n- columns and m- rows\n",
        "    y is a matrix with m- rows and 1 column\n",
        "    \"\"\"\n",
        "    #note to self: *.shape is (rows, columns)\n",
        "    return float((1./(2*m)) * np.dot((h(mytheta,X)-y).T,(h(mytheta,X)-y)))\n",
        "\n",
        "#Test that running computeCost with 0's as theta returns 32.07:\n",
        "initial_theta = np.zeros((X.shape[1],1)) #(theta is a vector with n rows and 1 columns (if X has n features) )\n",
        "print (computeCost(initial_theta,X,y))\n",
        "\n",
        "#min cost의 theta값을 구하는 경우 \n",
        "#Actual gradient descent minimizing routine\n",
        "def descendGradient(X, theta_start = np.zeros(2)):\n",
        "    \"\"\"\n",
        "    theta_start is an n- dimensional vector of initial theta guess\n",
        "    X is matrix with n- columns and m- rows\n",
        "    \"\"\"\n",
        "    theta = theta_start\n",
        "    jvec = [] #Used to plot cost as function of iteration\n",
        "    thetahistory = [] #Used to visualize the minimization path later on\n",
        "    for meaninglessvariable in range(iterations):\n",
        "        tmptheta = theta\n",
        "        jvec.append(computeCost(theta,X,y))\n",
        "        # Buggy line\n",
        "        #thetahistory.append(list(tmptheta))\n",
        "        # Fixed line\n",
        "        thetahistory.append(list(theta[:,0]))\n",
        "        #Simultaneously updating theta values\n",
        "        for j in range(len(tmptheta)):\n",
        "            tmptheta[j] = theta[j] - (alpha/m)*np.sum((h(theta,X) - y)*np.array(X[:,j]).reshape(m,1))\n",
        "        theta = tmptheta\n",
        "    return theta, thetahistory, jvec\n",
        "```\n",
        "\n"
      ]
    },
    {
      "cell_type": "code",
      "metadata": {
        "id": "U9V_4iAo8TGs",
        "colab_type": "code",
        "colab": {}
      },
      "source": [
        "from sklearn.preprocessing import StandardScaler\n",
        "scaler = StandardScaler()\n",
        "scaled_housing_data = scaler.fit_transform(housing.data)\n",
        "scaled_housing_data_plus_bias = np.c_[np.ones((m, 1)), scaled_housing_data]"
      ],
      "execution_count": 0,
      "outputs": []
    },
    {
      "cell_type": "markdown",
      "metadata": {
        "id": "puZomx6-7MVT",
        "colab_type": "text"
      },
      "source": [
        "앞에서는 정규방정식을 이용하여 theta값을 구했다면 여기서는 gradient descent방법을 이용하여 optimized theta값을 구하게 된다. (tensorflow의 내장함수를 이용한다)"
      ]
    },
    {
      "cell_type": "code",
      "metadata": {
        "id": "5jB1RkgE9uCv",
        "colab_type": "code",
        "colab": {}
      },
      "source": [
        "optimizer = tf.train.GradientDescentOptimizer(learning_rate=learning_rate)\n",
        "training_op = optimizer.minimize(mse)"
      ],
      "execution_count": 0,
      "outputs": []
    },
    {
      "cell_type": "code",
      "metadata": {
        "id": "kOGP9zEj6T9F",
        "colab_type": "code",
        "colab": {}
      },
      "source": [
        "n_epochs=1000\n",
        "learning_rate=0.01\n",
        "\n",
        "#노드 생성\n",
        "X = tf.constant(scaled_housing_data_plus_bias, dtype=tf.float32, name=\"X\")\n",
        "y=tf.constant(housing.target.reshape(-1,1), dtype=tf.float32, name='y')\n",
        "theta = tf.Variable(tf.random_uniform([n + 1, 1], -1.0, 1.0, seed=42), name=\"theta\")\n",
        "y_pred = tf.matmul(X, theta, name=\"predictions\")\n",
        "error = y_pred - y\n",
        "mse = tf.reduce_mean(tf.square(error), name=\"mse\")"
      ],
      "execution_count": 0,
      "outputs": []
    },
    {
      "cell_type": "code",
      "metadata": {
        "id": "PkOszW1h8Kp8",
        "colab_type": "code",
        "colab": {}
      },
      "source": [
        "optimizer = tf.train.GradientDescentOptimizer(learning_rate=learning_rate)\n",
        "training_op = optimizer.minimize(mse)"
      ],
      "execution_count": 0,
      "outputs": []
    },
    {
      "cell_type": "code",
      "metadata": {
        "id": "myKdBSNV8ccC",
        "colab_type": "code",
        "outputId": "eb87faa6-40d8-4a1a-abb5-897a51c25243",
        "colab": {
          "base_uri": "https://localhost:8080/",
          "height": 391
        }
      },
      "source": [
        "\n",
        "init = tf.global_variables_initializer()\n",
        "\n",
        "with tf.Session() as sess:\n",
        "    sess.run(init)\n",
        "\n",
        "    for epoch in range(n_epochs):\n",
        "        if epoch % 100 == 0:\n",
        "            print(\"Epoch\", epoch, \"MSE =\", mse.eval())\n",
        "        sess.run(training_op)\n",
        "    \n",
        "    best_theta = theta.eval()\n",
        "\n",
        "print(\"Best theta:\")\n",
        "print(best_theta)"
      ],
      "execution_count": 34,
      "outputs": [
        {
          "output_type": "stream",
          "text": [
            "Epoch 0 MSE = 2.754427\n",
            "Epoch 100 MSE = 0.63222194\n",
            "Epoch 200 MSE = 0.5727803\n",
            "Epoch 300 MSE = 0.5585008\n",
            "Epoch 400 MSE = 0.54907006\n",
            "Epoch 500 MSE = 0.54228806\n",
            "Epoch 600 MSE = 0.5373791\n",
            "Epoch 700 MSE = 0.533822\n",
            "Epoch 800 MSE = 0.53124255\n",
            "Epoch 900 MSE = 0.5293704\n",
            "Best theta:\n",
            "[[ 2.0685525e+00]\n",
            " [ 7.7407807e-01]\n",
            " [ 1.3119237e-01]\n",
            " [-1.1784508e-01]\n",
            " [ 1.6477816e-01]\n",
            " [ 7.4407790e-04]\n",
            " [-3.9194509e-02]\n",
            " [-8.6135662e-01]\n",
            " [-8.2347977e-01]]\n"
          ],
          "name": "stdout"
        }
      ]
    },
    {
      "cell_type": "markdown",
      "metadata": {
        "id": "Kf52EyZN9zRG",
        "colab_type": "text"
      },
      "source": [
        "#### 9.6.2.자동미분 사용\n",
        "- 단순 선형회귀에서는 MSE를 유도하는 것이 가능하지만 뉴럴 네트워크에서 이 비용함수를 유도하려면 계산식이 더욱 복잡해진다. 이에 따라 기호미분을 사용하여 자동으로 편미분 결과를 도출해낸다. 하지만 효율이 좋지 않음 \n",
        "- 자동으로 그래디언트를 계산하는 방법은 후진모드 자동미분을 사용한다. (307참고하기)"
      ]
    },
    {
      "cell_type": "code",
      "metadata": {
        "id": "o_8vS1Qo8d2v",
        "colab_type": "code",
        "colab": {}
      },
      "source": [
        "#그래디언트 미분 가능한 4개의 방법 중에 후진모드 자동미분 방법을 사용한다. \n",
        "def my_func(a,b):\n",
        "  z=0\n",
        "  for i in range(100):\n",
        "    z=a*np.cos(z+i)+z*np.sin(b-1)\n",
        "  return z"
      ],
      "execution_count": 0,
      "outputs": []
    },
    {
      "cell_type": "code",
      "metadata": {
        "id": "6fdySF77yDxq",
        "colab_type": "code",
        "colab": {
          "base_uri": "https://localhost:8080/",
          "height": 36
        },
        "outputId": "af0d8fc2-772b-4c50-f957-3ef24e49d2d3"
      },
      "source": [
        "my_func(0.2, 0.3)"
      ],
      "execution_count": 36,
      "outputs": [
        {
          "output_type": "execute_result",
          "data": {
            "text/plain": [
              "0.04779633778994678"
            ]
          },
          "metadata": {
            "tags": []
          },
          "execution_count": 36
        }
      ]
    },
    {
      "cell_type": "code",
      "metadata": {
        "id": "dKA3RPbnwQby",
        "colab_type": "code",
        "colab": {
          "base_uri": "https://localhost:8080/",
          "height": 36
        },
        "outputId": "cef39eda-5532-43cc-f3e9-afc7ccb56517"
      },
      "source": [
        "#tensorflow의 자동미분기능은 효율적으로 그래디언트를 계산한다. \n",
        "gradients=tf.gradients(mse, [theta])[0]\n",
        "gradients"
      ],
      "execution_count": 38,
      "outputs": [
        {
          "output_type": "execute_result",
          "data": {
            "text/plain": [
              "<tf.Tensor 'gradients_3/predictions_1_grad/MatMul_1:0' shape=(9, 1) dtype=float32>"
            ]
          },
          "metadata": {
            "tags": []
          },
          "execution_count": 38
        }
      ]
    },
    {
      "cell_type": "code",
      "metadata": {
        "id": "zZxxNHDryLoG",
        "colab_type": "code",
        "colab": {}
      },
      "source": [
        "#옵티마이저의 사용\n",
        "#최적의 옵티마이저 \n",
        "optimizer=tf.train.GradientDescentOptimizer(learning_rate=learning_rate)\n",
        "training_op=optimizer.minimize(mse)"
      ],
      "execution_count": 0,
      "outputs": []
    },
    {
      "cell_type": "code",
      "metadata": {
        "id": "jBEKwtbwypRW",
        "colab_type": "code",
        "colab": {
          "base_uri": "https://localhost:8080/",
          "height": 391
        },
        "outputId": "62a19596-24fc-4043-8fe8-34fd9ed52883"
      },
      "source": [
        "#최적의 옵티마이저로 gradient descent를 실행\n",
        "init = tf.global_variables_initializer()\n",
        "\n",
        "with tf.Session() as sess:\n",
        "    sess.run(init)\n",
        "\n",
        "    for epoch in range(n_epochs):\n",
        "        if epoch % 100 == 0:\n",
        "            print(\"Epoch\", epoch, \"MSE =\", mse.eval())\n",
        "        sess.run(training_op)\n",
        "    \n",
        "    best_theta = theta.eval()\n",
        "\n",
        "print(\"Best theta:\")\n",
        "print(best_theta)"
      ],
      "execution_count": 40,
      "outputs": [
        {
          "output_type": "stream",
          "text": [
            "Epoch 0 MSE = 2.754427\n",
            "Epoch 100 MSE = 0.63222194\n",
            "Epoch 200 MSE = 0.5727803\n",
            "Epoch 300 MSE = 0.5585008\n",
            "Epoch 400 MSE = 0.54907006\n",
            "Epoch 500 MSE = 0.54228806\n",
            "Epoch 600 MSE = 0.5373791\n",
            "Epoch 700 MSE = 0.533822\n",
            "Epoch 800 MSE = 0.53124255\n",
            "Epoch 900 MSE = 0.5293704\n",
            "Best theta:\n",
            "[[ 2.0685525e+00]\n",
            " [ 7.7407807e-01]\n",
            " [ 1.3119237e-01]\n",
            " [-1.1784508e-01]\n",
            " [ 1.6477816e-01]\n",
            " [ 7.4407790e-04]\n",
            " [-3.9194509e-02]\n",
            " [-8.6135662e-01]\n",
            " [-8.2347977e-01]]\n"
          ],
          "name": "stdout"
        }
      ]
    },
    {
      "cell_type": "markdown",
      "metadata": {
        "id": "ruND56qfzG36",
        "colab_type": "text"
      },
      "source": [
        "### 9.7.훈련알고리즘에 데이터 주입\n",
        "- 미니배치 경사하강법을 실행하려면 매번 x,y,값을 바꿔줘여 한다.\n",
        "- placeholder노드를 사용하여 실제로는 아무런 계산도하지 않는 특수한 노드이다. \n",
        "- 전형적으로 훈련을 하는 동안 텐서플로우에 훈련데이터를 주입하기 위해 사용한다. "
      ]
    },
    {
      "cell_type": "code",
      "metadata": {
        "id": "ncb5Zwo7y5gj",
        "colab_type": "code",
        "colab": {}
      },
      "source": [
        "A=tf.placeholder(tf.float32, shape=(None,3)) #훈련데이터를 주입하기 위한다. \n",
        "B=A+5\n",
        "\n",
        "#실행하는 session\n",
        "with tf.Session() as sess:\n",
        "  B_val_1=B.eval(feed_dict={A:[[1,2,3]]})\n",
        "  B_val_2=B.eval(feed_dict={A:[[4,5,6],[7,8,9]]})"
      ],
      "execution_count": 0,
      "outputs": []
    },
    {
      "cell_type": "code",
      "metadata": {
        "id": "AR4Jr_EB0Lyi",
        "colab_type": "code",
        "colab": {
          "base_uri": "https://localhost:8080/",
          "height": 73
        },
        "outputId": "e5fa5a9d-0b6a-4085-e262-186a67457629"
      },
      "source": [
        "print(B_val_1)\n",
        "print(B_val_2)"
      ],
      "execution_count": 51,
      "outputs": [
        {
          "output_type": "stream",
          "text": [
            "[[6. 7. 8.]]\n",
            "[[ 9. 10. 11.]\n",
            " [12. 13. 14.]]\n"
          ],
          "name": "stdout"
        }
      ]
    },
    {
      "cell_type": "markdown",
      "metadata": {
        "id": "yziF93Rq1sfo",
        "colab_type": "text"
      },
      "source": [
        "미니배치 경사하강법(전체 데이터를 가지고 경사하강법을 설정하는 것보단 효율적이면서 SGD의 단점을 극복하는 알고리즘이다.)을 구현하기 위해 구성단계에서 X,y의 정의를 placeholder 노드로 변경한다. "
      ]
    },
    {
      "cell_type": "code",
      "metadata": {
        "id": "sJPnE9Rn2upj",
        "colab_type": "code",
        "colab": {}
      },
      "source": [
        "#기본값을 설정하는 경우 \n",
        "n_epochs = 1000\n",
        "learning_rate = 0.01"
      ],
      "execution_count": 0,
      "outputs": []
    },
    {
      "cell_type": "code",
      "metadata": {
        "id": "ky4mIzAI1sE-",
        "colab_type": "code",
        "colab": {}
      },
      "source": [
        "X=tf.placeholder(tf.float32, shape=(None, n+1), name=\"X\")\n",
        "y=tf.placeholder(tf.float32, shape=(None,1), name=\"y\")"
      ],
      "execution_count": 0,
      "outputs": []
    },
    {
      "cell_type": "code",
      "metadata": {
        "id": "iSX8KDXz1ise",
        "colab_type": "code",
        "colab": {}
      },
      "source": [
        "#배치크기와 전체 배치 횟수를 지정한다. \n",
        "batch_size=100\n",
        "n_batches=int(np.ceil(m/batch_size))"
      ],
      "execution_count": 0,
      "outputs": []
    },
    {
      "cell_type": "code",
      "metadata": {
        "id": "XyH4EF1W30u7",
        "colab_type": "code",
        "colab": {}
      },
      "source": [
        "#노드를 평가할 때는 미니배치를 하나씩 추출하여 feed_dict매채변수로 전달\n",
        "def fetch_batch(epoch, batch_index, batch_size):\n",
        "    np.random.seed(epoch * n_batches + batch_index)  # not shown in the book\n",
        "    indices = np.random.randint(m, size=batch_size)  # not shown\n",
        "    X_batch = scaled_housing_data_plus_bias[indices] # not shown\n",
        "    y_batch = housing.target.reshape(-1, 1)[indices] # not shown\n",
        "    return X_batch, y_batch\n",
        "\n",
        "#연산을 실행하는 경우 \n",
        "with tf.Session() as sess:\n",
        "    sess.run(init)\n",
        "\n",
        "    for epoch in range(n_epochs):\n",
        "        for batch_index in range(n_batches):\n",
        "            X_batch, y_batch = fetch_batch(epoch, batch_index, batch_size)\n",
        "            sess.run(training_op, feed_dict={X: X_batch, y: y_batch})\n",
        "\n",
        "    best_theta = theta.eval()"
      ],
      "execution_count": 0,
      "outputs": []
    },
    {
      "cell_type": "markdown",
      "metadata": {
        "id": "jApWGpr151Cw",
        "colab_type": "text"
      },
      "source": [
        "### 9.8.모델복원\n",
        "- 모델파라미터를 디스크에 저장하는 방법이다.\n",
        "- 체크포인트를 설정하여 다음 모델훈련의 파라미터를 결정하는데 참고가 되도록 한다. \n",
        "- 실행단계에서 모델을 저장하고 싶을 때 save()매서드에 체크포인트 파일의 경로를 저장한다 \n",
        "\n",
        "### 9.9. 텐서보드로 그래프와 학습곡선 시각화 하기 \n",
        "- 이제까지 미니배치 경사하강법을 사용하는 선형회귀 모델을 훈련시킬 계산 그래프를 만들었다. 그리고 일정한 간격으로 체크포인트를 저장한다. \n",
        "- 먼저 그래프 정의와 훈련 통계를 텐서보드가 읽을 수 있는 로그 디렉토르에 쓰도록 프로그램을 수정한다. "
      ]
    },
    {
      "cell_type": "code",
      "metadata": {
        "id": "JUqqkq7s5d6m",
        "colab_type": "code",
        "colab": {}
      },
      "source": [
        "from datetime import datetime\n",
        "\n",
        "now=datetime.utcnow().strftime(\"%Y%m%d%H%M%S\")\n",
        "root_logdir=\"tf_logs\"\n",
        "logdir=\"{}/run-{}\".format(root_logdir, now)"
      ],
      "execution_count": 0,
      "outputs": []
    },
    {
      "cell_type": "code",
      "metadata": {
        "id": "WFI8Kd6W9ncV",
        "colab_type": "code",
        "colab": {}
      },
      "source": [
        "#미니배치 경사하강법을 구성한다\n",
        "#기본적으로 노드를 형성하고 연결하는 과정을 거친다. \n",
        "n_epochs=1000\n",
        "learning_rate=0.01\n",
        "\n",
        "X=tf.placeholder(tf.float32, shape=(None, n+1), name=\"X\")\n",
        "y=tf.placeholder(tf.float32, shape=(None, 1), name=\"y\")\n",
        "theta= tf.Variable(tf.random_uniform([n+1,1], -1.0, 1.0, seed=42), name=\"theta\")\n",
        "y_pred=tf.matmul(X, theta, name=\"predictions\")\n",
        "error=y_pred-y\n",
        "mse=tf.reduce_mean(tf.square(error), name=\"mse\")\n",
        "optimizer=tf.train.GradientDescentOptimizer(learning_rate=learning_rate)\n",
        "optimizer=tf.train.GradientDescentOptimizer(learning_rate=learning_rate)\n",
        "training_op=optimizer.minimize(mse)\n",
        "\n",
        "init=tf.global_variables_initializer()"
      ],
      "execution_count": 0,
      "outputs": []
    },
    {
      "cell_type": "code",
      "metadata": {
        "id": "rscADYrTCKKV",
        "colab_type": "code",
        "colab": {}
      },
      "source": [
        "#mse를 평가하고 텐서보드로 인식하는 summary\n",
        "mse_summary=tf.summary.scalar('MSE', mse)\n",
        "\n",
        "#객체를 만들고 로그디렉토리에 저장\n",
        "file_writer=tf.summary.FileWriter(logdir, tf.get_default_graph())"
      ],
      "execution_count": 0,
      "outputs": []
    },
    {
      "cell_type": "code",
      "metadata": {
        "id": "F5R2WyUMDg2_",
        "colab_type": "code",
        "colab": {}
      },
      "source": [
        "\n",
        "n_epochs = 10\n",
        "batch_size = 100\n",
        "n_batches = int(np.ceil(m / batch_size))"
      ],
      "execution_count": 0,
      "outputs": []
    },
    {
      "cell_type": "code",
      "metadata": {
        "id": "fA0TFVtwC4ZL",
        "colab_type": "code",
        "colab": {}
      },
      "source": [
        "#그래프를 정의하여 작성하는 방법\n",
        "with tf.Session() as sess:                                                        # not shown in the book\n",
        "    sess.run(init)                                                                # not shown\n",
        "\n",
        "    for epoch in range(n_epochs):                                                 # not shown\n",
        "        for batch_index in range(n_batches):\n",
        "            X_batch, y_batch = fetch_batch(epoch, batch_index, batch_size)\n",
        "            if batch_index % 10 == 0:\n",
        "                summary_str = mse_summary.eval(feed_dict={X: X_batch, y: y_batch})\n",
        "                step = epoch * n_batches + batch_index\n",
        "                file_writer.add_summary(summary_str, step)\n",
        "            sess.run(training_op, feed_dict={X: X_batch, y: y_batch})\n",
        "\n",
        "    best_theta = theta.eval()  "
      ],
      "execution_count": 0,
      "outputs": []
    },
    {
      "cell_type": "code",
      "metadata": {
        "id": "CohcEAHuDj7z",
        "colab_type": "code",
        "colab": {}
      },
      "source": [
        "file_writer.close()"
      ],
      "execution_count": 0,
      "outputs": []
    },
    {
      "cell_type": "code",
      "metadata": {
        "id": "wlSWCYvIDlG9",
        "colab_type": "code",
        "colab": {
          "base_uri": "https://localhost:8080/",
          "height": 185
        },
        "outputId": "89de449b-66ac-4334-df91-59707cbd5dda"
      },
      "source": [
        "best_theta"
      ],
      "execution_count": 67,
      "outputs": [
        {
          "output_type": "execute_result",
          "data": {
            "text/plain": [
              "array([[ 2.070016  ],\n",
              "       [ 0.8204561 ],\n",
              "       [ 0.11731729],\n",
              "       [-0.22739056],\n",
              "       [ 0.31134024],\n",
              "       [ 0.00353192],\n",
              "       [-0.01126995],\n",
              "       [-0.9164395 ],\n",
              "       [-0.8795009 ]], dtype=float32)"
            ]
          },
          "metadata": {
            "tags": []
          },
          "execution_count": 67
        }
      ]
    },
    {
      "cell_type": "code",
      "metadata": {
        "id": "myQIKzXJDmea",
        "colab_type": "code",
        "colab": {
          "base_uri": "https://localhost:8080/",
          "height": 204
        },
        "outputId": "e2dd5767-ac58-460a-9fe3-d6682937305e"
      },
      "source": [
        "#tensorboard이외에 jupyter에서 시각화를 확인할 수 있는 방법\n",
        "!pip install tfgraphviz"
      ],
      "execution_count": 68,
      "outputs": [
        {
          "output_type": "stream",
          "text": [
            "Collecting tfgraphviz\n",
            "  Downloading https://files.pythonhosted.org/packages/52/5e/111e64a39f129b27d811c3f1744012824f5db11caa1d0c71c5f7da33d8aa/tfgraphviz-0.0.7.tar.gz\n",
            "Requirement already satisfied: graphviz in /usr/local/lib/python3.6/dist-packages (from tfgraphviz) (0.10.1)\n",
            "Building wheels for collected packages: tfgraphviz\n",
            "  Building wheel for tfgraphviz (setup.py) ... \u001b[?25l\u001b[?25hdone\n",
            "  Created wheel for tfgraphviz: filename=tfgraphviz-0.0.7-cp36-none-any.whl size=4432 sha256=a9e77ed7e81121f940795730400c22ba297cbe1ecd040042e190c414d91eeb2d\n",
            "  Stored in directory: /root/.cache/pip/wheels/09/32/14/5a088574d718bfeb86629b01549771914c53a06b4363576b67\n",
            "Successfully built tfgraphviz\n",
            "Installing collected packages: tfgraphviz\n",
            "Successfully installed tfgraphviz-0.0.7\n"
          ],
          "name": "stdout"
        }
      ]
    },
    {
      "cell_type": "code",
      "metadata": {
        "id": "QXjdSvjdEFxd",
        "colab_type": "code",
        "colab": {
          "base_uri": "https://localhost:8080/",
          "height": 36
        },
        "outputId": "7b3324dd-f6d4-4764-a108-66c86f7895ed"
      },
      "source": [
        "import tensorflow as tf\n",
        "import tfgraphviz as tfg\n",
        "\n",
        "a = tf.constant(1, name=\"a\")\n",
        "b = tf.constant(2, name=\"b\")\n",
        "c = tf.add(a, b, name=\"add\")\n",
        "g = tfg.board(tf.get_default_graph())\n",
        "g.view()"
      ],
      "execution_count": 70,
      "outputs": [
        {
          "output_type": "execute_result",
          "data": {
            "text/plain": [
              "'G.gv.pdf'"
            ]
          },
          "metadata": {
            "tags": []
          },
          "execution_count": 70
        }
      ]
    },
    {
      "cell_type": "markdown",
      "metadata": {
        "id": "GPv08ubVEfNa",
        "colab_type": "text"
      },
      "source": [
        "### 9.10. 이름범위\n",
        "신경망처럼 복잡한 모델을 다룰때는 계산그래프가 수천개의 노드에 의해 어질리거지기가 쉽다. 이를 피하기 위해 이름 범위를 만들어 관련 있는 노드들을 그룹으로 묶는다. "
      ]
    },
    {
      "cell_type": "code",
      "metadata": {
        "id": "0cZL9tThENiv",
        "colab_type": "code",
        "colab": {}
      },
      "source": [
        "#이전 코드를 사용하여 loss이름범위안에 있는 error와 mse를 정의한다. \n",
        "now = datetime.utcnow().strftime(\"%Y%m%d%H%M%S\")\n",
        "root_logdir = \"tf_logs\"\n",
        "logdir = \"{}/run-{}/\".format(root_logdir, now)\n",
        "\n",
        "n_epochs = 1000\n",
        "learning_rate = 0.01\n",
        "\n",
        "X = tf.placeholder(tf.float32, shape=(None, n + 1), name=\"X\")\n",
        "y = tf.placeholder(tf.float32, shape=(None, 1), name=\"y\")\n",
        "theta = tf.Variable(tf.random_uniform([n + 1, 1], -1.0, 1.0, seed=42), name=\"theta\")\n",
        "y_pred = tf.matmul(X, theta, name=\"predictions\")"
      ],
      "execution_count": 0,
      "outputs": []
    },
    {
      "cell_type": "code",
      "metadata": {
        "id": "gGiXHA6dKy0f",
        "colab_type": "code",
        "colab": {}
      },
      "source": [
        "#이름 loss라는 범위 내에 error와 mse노드를 추가하는 경우 \n",
        "with tf.name_scope(\"loss\") as scope:\n",
        "    error = y_pred - y\n",
        "    mse = tf.reduce_mean(tf.square(error), name=\"mse\")"
      ],
      "execution_count": 0,
      "outputs": []
    },
    {
      "cell_type": "code",
      "metadata": {
        "id": "S_TLD9MGK6uB",
        "colab_type": "code",
        "colab": {
          "base_uri": "https://localhost:8080/",
          "height": 55
        },
        "outputId": "fbffac6a-b82b-483c-e906-e3825223973a"
      },
      "source": [
        "print(error.op.name)\n",
        "print(mse.op.name)"
      ],
      "execution_count": 73,
      "outputs": [
        {
          "output_type": "stream",
          "text": [
            "loss/sub\n",
            "loss/mse\n"
          ],
          "name": "stdout"
        }
      ]
    },
    {
      "cell_type": "markdown",
      "metadata": {
        "id": "con8nzz5LIil",
        "colab_type": "text"
      },
      "source": [
        "### 9.11.모듈화\n",
        "- ReLU함수는 sigmoid와 같은 일종의 활성함수이다. \n",
        "- binary의 경우에 내부 hidden layer을 활성화하는 함수로 sigmoid를 사용했다. \n",
        "- ReLU함수는 0보다 작은 값이 나오면 0을 반환하고 0이상의 값이 나오면 그 값을 출력하는 형태이다. \n",
        "![image](https://user-images.githubusercontent.com/49298791/74582068-233f7100-4ffa-11ea-8f44-6c641b7da0f6.png)"
      ]
    },
    {
      "cell_type": "code",
      "metadata": {
        "id": "CnybBbnoLEhi",
        "colab_type": "code",
        "colab": {}
      },
      "source": [
        "#2개의 ReLU함수를 정하는 그래프를 작성한다고 본다. \n",
        "n_features = 3\n",
        "X = tf.placeholder(tf.float32, shape=(None, n_features), name=\"X\")\n",
        "\n",
        "w1 = tf.Variable(tf.random_normal((n_features, 1)), name=\"weights1\")\n",
        "w2 = tf.Variable(tf.random_normal((n_features, 1)), name=\"weights2\")\n",
        "b1 = tf.Variable(0.0, name=\"bias1\")\n",
        "b2 = tf.Variable(0.0, name=\"bias2\")\n",
        "\n",
        "z1 = tf.add(tf.matmul(X, w1), b1, name=\"z1\")\n",
        "z2 = tf.add(tf.matmul(X, w2), b2, name=\"z2\")\n",
        "\n",
        "relu1 = tf.maximum(z1, 0., name=\"relu1\")\n",
        "relu2 = tf.maximum(z2, 0., name=\"relu2\")  # Oops, cut&paste error! Did you spot it?\n",
        "\n",
        "output = tf.add(relu1, relu2, name=\"output\")"
      ],
      "execution_count": 0,
      "outputs": []
    },
    {
      "cell_type": "code",
      "metadata": {
        "id": "QxFWhMgqOFu1",
        "colab_type": "code",
        "colab": {}
      },
      "source": [
        "def relu(X):\n",
        "    w_shape = (int(X.get_shape()[1]), 1)\n",
        "    w = tf.Variable(tf.random_normal(w_shape), name=\"weights\")\n",
        "    b = tf.Variable(0.0, name=\"bias\")\n",
        "    z = tf.add(tf.matmul(X, w), b, name=\"z\")\n",
        "    return tf.maximum(z, 0., name=\"relu\")\n",
        "\n",
        "n_features = 3\n",
        "X = tf.placeholder(tf.float32, shape=(None, n_features), name=\"X\")\n",
        "relus = [relu(X) for i in range(5)]\n",
        "output = tf.add_n(relus, name=\"output\")"
      ],
      "execution_count": 0,
      "outputs": []
    },
    {
      "cell_type": "code",
      "metadata": {
        "id": "VGDAWJWUOIon",
        "colab_type": "code",
        "colab": {}
      },
      "source": [
        "file_writer = tf.summary.FileWriter(\"logs/relu1\", tf.get_default_graph())"
      ],
      "execution_count": 0,
      "outputs": []
    },
    {
      "cell_type": "code",
      "metadata": {
        "id": "L8WlM2PTOKG3",
        "colab_type": "code",
        "colab": {}
      },
      "source": [
        "#혹은 이름범위를 사용하여 정의도 가능하다. \n",
        "def relu(X):\n",
        "    with tf.name_scope(\"relu\"):\n",
        "        w_shape = (int(X.get_shape()[1]), 1)                          # not shown in the book\n",
        "        w = tf.Variable(tf.random_normal(w_shape), name=\"weights\")    # not shown\n",
        "        b = tf.Variable(0.0, name=\"bias\")                             # not shown\n",
        "        z = tf.add(tf.matmul(X, w), b, name=\"z\")                      # not shown\n",
        "        return tf.maximum(z, 0., name=\"max\")                          # not shown"
      ],
      "execution_count": 0,
      "outputs": []
    },
    {
      "cell_type": "code",
      "metadata": {
        "id": "YYF0wkL0OQpF",
        "colab_type": "code",
        "colab": {}
      },
      "source": [
        "\n",
        "n_features = 3\n",
        "X = tf.placeholder(tf.float32, shape=(None, n_features), name=\"X\")\n",
        "relus = [relu(X) for i in range(5)]\n",
        "output = tf.add_n(relus, name=\"output\")\n",
        "\n",
        "file_writer = tf.summary.FileWriter(\"logs/relu2\", tf.get_default_graph())\n",
        "file_writer.close()"
      ],
      "execution_count": 0,
      "outputs": []
    },
    {
      "cell_type": "markdown",
      "metadata": {
        "id": "bJty5nYdOS-L",
        "colab_type": "text"
      },
      "source": [
        "### 9.12. 변수 공유\n",
        "- 그래프의 여러 구성요소 간에 변수를 공유하고 싶다면 간단한 해결 방법은 변수를 먼저 만들고 함수에 매개변수로 전달하는 방법을 사용한다. "
      ]
    },
    {
      "cell_type": "code",
      "metadata": {
        "id": "9Gh_9JenOR26",
        "colab_type": "code",
        "colab": {}
      },
      "source": [
        "def relu(X, threshold):\n",
        "    with tf.name_scope(\"relu\"):\n",
        "        w_shape = (int(X.get_shape()[1]), 1)                        # not shown in the book\n",
        "        w = tf.Variable(tf.random_normal(w_shape), name=\"weights\")  # not shown\n",
        "        b = tf.Variable(0.0, name=\"bias\")                           # not shown\n",
        "        z = tf.add(tf.matmul(X, w), b, name=\"z\")                    # not shown\n",
        "        return tf.maximum(z, threshold, name=\"max\")\n",
        "\n",
        "threshold = tf.Variable(0.0, name=\"threshold\")\n",
        "X = tf.placeholder(tf.float32, shape=(None, n_features), name=\"X\")\n",
        "relus = [relu(X, threshold) for i in range(5)]\n",
        "output = tf.add_n(relus, name=\"output\")"
      ],
      "execution_count": 0,
      "outputs": []
    },
    {
      "cell_type": "code",
      "metadata": {
        "id": "7sdZLj7vOlnx",
        "colab_type": "code",
        "colab": {}
      },
      "source": [
        "def relu(X):\n",
        "    with tf.name_scope(\"relu\"):\n",
        "        if not hasattr(relu, \"threshold\"):\n",
        "            relu.threshold = tf.Variable(0.0, name=\"threshold\")\n",
        "        w_shape = int(X.get_shape()[1]), 1                          # not shown in the book\n",
        "        w = tf.Variable(tf.random_normal(w_shape), name=\"weights\")  # not shown\n",
        "        b = tf.Variable(0.0, name=\"bias\")                           # not shown\n",
        "        z = tf.add(tf.matmul(X, w), b, name=\"z\")                    # not shown\n",
        "        return tf.maximum(z, relu.threshold, name=\"max\")"
      ],
      "execution_count": 0,
      "outputs": []
    },
    {
      "cell_type": "code",
      "metadata": {
        "id": "1iJ9DBOzPKxJ",
        "colab_type": "code",
        "colab": {}
      },
      "source": [
        "X = tf.placeholder(tf.float32, shape=(None, n_features), name=\"X\")\n",
        "relus = [relu(X) for i in range(5)]\n",
        "output = tf.add_n(relus, name=\"output\")"
      ],
      "execution_count": 0,
      "outputs": []
    },
    {
      "cell_type": "code",
      "metadata": {
        "id": "Jp9WmvzmO81d",
        "colab_type": "code",
        "colab": {}
      },
      "source": [
        "def relu(X):\n",
        "    with tf.variable_scope(\"relu\", reuse=True):\n",
        "        threshold = tf.get_variable(\"threshold\")\n",
        "        w_shape = int(X.get_shape()[1]), 1                          # not shown\n",
        "        w = tf.Variable(tf.random_normal(w_shape), name=\"weights\")  # not shown\n",
        "        b = tf.Variable(0.0, name=\"bias\")                           # not shown\n",
        "        z = tf.add(tf.matmul(X, w), b, name=\"z\")                    # not shown\n",
        "        return tf.maximum(z, threshold, name=\"max\")\n",
        "\n",
        "X = tf.placeholder(tf.float32, shape=(None, n_features), name=\"X\")\n",
        "with tf.variable_scope(\"relu\"):\n",
        "    threshold = tf.get_variable(\"threshold\", shape=(),\n",
        "                                initializer=tf.constant_initializer(0.0))\n",
        "relus = [relu(X) for relu_index in range(5)]\n",
        "output = tf.add_n(relus, name=\"output\")"
      ],
      "execution_count": 0,
      "outputs": []
    },
    {
      "cell_type": "code",
      "metadata": {
        "id": "tnUR71uePZT_",
        "colab_type": "code",
        "colab": {}
      },
      "source": [
        ""
      ],
      "execution_count": 0,
      "outputs": []
    }
  ]
}