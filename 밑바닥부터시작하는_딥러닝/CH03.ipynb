{
  "nbformat": 4,
  "nbformat_minor": 0,
  "metadata": {
    "colab": {
      "name": "CH03_김민지.ipynb",
      "provenance": [],
      "collapsed_sections": []
    },
    "kernelspec": {
      "name": "python3",
      "display_name": "Python 3"
    }
  },
  "cells": [
    {
      "cell_type": "markdown",
      "metadata": {
        "id": "8VuF4wItC6j3",
        "colab_type": "text"
      },
      "source": [
        "# **Chapter 3 신경망**"
      ]
    },
    {
      "cell_type": "markdown",
      "metadata": {
        "id": "p5O0y7fsDIKV",
        "colab_type": "text"
      },
      "source": [
        "앞 장에서는 퍼셉트론의 가중치를 사람이 수동으로 정해주었다. 하지만 신경망이 이 번거로움을 해결해준다. 가중치 매개변수의 적절한 값을 데이터로부터 자동으로 학습하는 능력이 신경망의 중요한 성질이다."
      ]
    },
    {
      "cell_type": "markdown",
      "metadata": {
        "id": "rr0zq7zcDDlT",
        "colab_type": "text"
      },
      "source": [
        "## **3.1 퍼셉트론에서 신경망으로**"
      ]
    },
    {
      "cell_type": "markdown",
      "metadata": {
        "id": "taHwMf-9DYPS",
        "colab_type": "text"
      },
      "source": [
        "신경망에는 입력층, 은닉층, 출력층이 있다. 은닉층의 뉴런은 입력층, 출력층과는 달리 사람 눈에 보이지 않는다. "
      ]
    },
    {
      "cell_type": "markdown",
      "metadata": {
        "id": "x3dwy0GYDimS",
        "colab_type": "text"
      },
      "source": [
        "### **3.1.2 퍼셉트론 복습**"
      ]
    },
    {
      "cell_type": "markdown",
      "metadata": {
        "id": "rp3FS12yD1kD",
        "colab_type": "text"
      },
      "source": [
        "편향: 뉴런이 얼마나 쉽게 활성화되느냐를 제어\n",
        "\n",
        "가중치: 각 신호의 영향력을 제어"
      ]
    },
    {
      "cell_type": "markdown",
      "metadata": {
        "id": "-IDVV6jxD3XT",
        "colab_type": "text"
      },
      "source": [
        "### **3.1.3 활성화 함수의 등장**"
      ]
    },
    {
      "cell_type": "markdown",
      "metadata": {
        "id": "zQYfgLN1D60K",
        "colab_type": "text"
      },
      "source": [
        "입력 신호의 총합을 출력 신호로 변환하는 함수를 활성화 함수라고 한다. 활성화 함수는 입력 신호의 총합이 활성화를 일으키는지를 정하는 역할을 한다. "
      ]
    },
    {
      "cell_type": "markdown",
      "metadata": {
        "id": "CUBo2g4TEJ2T",
        "colab_type": "text"
      },
      "source": [
        "## **3.2 활성화 함수**"
      ]
    },
    {
      "cell_type": "markdown",
      "metadata": {
        "id": "zuigwo0jEM2z",
        "colab_type": "text"
      },
      "source": [
        "임계값을 경계로 출력이 바뀌는 함수를 계단 함수라고 한다."
      ]
    },
    {
      "cell_type": "markdown",
      "metadata": {
        "id": "5ZeZcKc6ESP6",
        "colab_type": "text"
      },
      "source": [
        "### **3.2.1 시그모이드 함수**"
      ]
    },
    {
      "cell_type": "markdown",
      "metadata": {
        "id": "9tjBPn_jEVM6",
        "colab_type": "text"
      },
      "source": [
        "h(x) = 1 / (x + exp(-x))"
      ]
    },
    {
      "cell_type": "markdown",
      "metadata": {
        "id": "WR49yRRcEh35",
        "colab_type": "text"
      },
      "source": [
        "### **3.2.2 계단 함수 구현하기**"
      ]
    },
    {
      "cell_type": "code",
      "metadata": {
        "id": "qJ1DMorkDzuV",
        "colab_type": "code",
        "colab": {}
      },
      "source": [
        "def step_function(x):\n",
        "  if x>0:\n",
        "    return 1\n",
        "  else:\n",
        "    return 0"
      ],
      "execution_count": 0,
      "outputs": []
    },
    {
      "cell_type": "markdown",
      "metadata": {
        "id": "9E9CLHd6E94R",
        "colab_type": "text"
      },
      "source": [
        "계단 함수를 구현했다. 그러나 위의 경우 인수 x로 실수(부동소수점)만 받아들인다. 넘파이 배열을 인수로 넣을 수는 없다."
      ]
    },
    {
      "cell_type": "code",
      "metadata": {
        "id": "IYZQrWquE6R9",
        "colab_type": "code",
        "colab": {}
      },
      "source": [
        "def step_function(x):\n",
        "  y = x>0\n",
        "  return y.astype(np.int)"
      ],
      "execution_count": 0,
      "outputs": []
    },
    {
      "cell_type": "markdown",
      "metadata": {
        "id": "xWwBhDFLFMdJ",
        "colab_type": "text"
      },
      "source": [
        "넘파이 배열도 지원하도록 수정했다. "
      ]
    },
    {
      "cell_type": "code",
      "metadata": {
        "id": "jGONhJYrFLtV",
        "colab_type": "code",
        "outputId": "29218d20-52a3-4eaf-c4ce-ddaa3c65ffb2",
        "colab": {
          "base_uri": "https://localhost:8080/",
          "height": 35
        }
      },
      "source": [
        "import numpy as np\n",
        "x = np.array([-1.0,1.0,2.0])\n",
        "x"
      ],
      "execution_count": 0,
      "outputs": [
        {
          "output_type": "execute_result",
          "data": {
            "text/plain": [
              "array([-1.,  1.,  2.])"
            ]
          },
          "metadata": {
            "tags": []
          },
          "execution_count": 3
        }
      ]
    },
    {
      "cell_type": "code",
      "metadata": {
        "id": "5kaKojJOFa6m",
        "colab_type": "code",
        "outputId": "ff874187-9225-4a1f-bfaa-94bc82c1f198",
        "colab": {
          "base_uri": "https://localhost:8080/",
          "height": 35
        }
      },
      "source": [
        "y = x>0\n",
        "y"
      ],
      "execution_count": 0,
      "outputs": [
        {
          "output_type": "execute_result",
          "data": {
            "text/plain": [
              "array([False,  True,  True])"
            ]
          },
          "metadata": {
            "tags": []
          },
          "execution_count": 4
        }
      ]
    },
    {
      "cell_type": "markdown",
      "metadata": {
        "id": "aSdPAMgjFe7R",
        "colab_type": "text"
      },
      "source": [
        "넘파이 배열에 부등호 연산을 수행했더니 원소 각각이 0보다 크면 True, 0 이하면 False로 변환한 새로운 배열이 생성되었다."
      ]
    },
    {
      "cell_type": "code",
      "metadata": {
        "id": "3vwd4WAMFdc6",
        "colab_type": "code",
        "outputId": "ad99b003-97b5-474f-a14f-8f384d4d143e",
        "colab": {
          "base_uri": "https://localhost:8080/",
          "height": 35
        }
      },
      "source": [
        "y=y.astype(np.int)\n",
        "y"
      ],
      "execution_count": 0,
      "outputs": [
        {
          "output_type": "execute_result",
          "data": {
            "text/plain": [
              "array([0, 1, 1])"
            ]
          },
          "metadata": {
            "tags": []
          },
          "execution_count": 5
        }
      ]
    },
    {
      "cell_type": "markdown",
      "metadata": {
        "id": "mJIXA7OaFtW4",
        "colab_type": "text"
      },
      "source": [
        "넘파이 배열의 자료형을 변환하기 위해 astype() 메서드를 이용했다. bool을 int로 변환하면 True는 1로, False는 0으로 변환된다. "
      ]
    },
    {
      "cell_type": "markdown",
      "metadata": {
        "id": "F7qN54-BF8mJ",
        "colab_type": "text"
      },
      "source": [
        "### **3.2.3 계단 함수의 그래프**"
      ]
    },
    {
      "cell_type": "code",
      "metadata": {
        "id": "uPCm6GSJFsaf",
        "colab_type": "code",
        "outputId": "b34de231-83e1-42cf-b690-02ca2b8c63ac",
        "colab": {
          "base_uri": "https://localhost:8080/",
          "height": 265
        }
      },
      "source": [
        "import numpy as np\n",
        "import matplotlib.pylab as plt\n",
        "\n",
        "def step_function(x):\n",
        "  return np.array(x>0,dtype=np.int)\n",
        "\n",
        "x=np.arange(-5.0,5.0,0.1)\n",
        "y=step_function(x)\n",
        "plt.plot(x,y)\n",
        "plt.ylim(-0.1,1.1) #y축의 범위를 지정해주었다.\n",
        "plt.show()"
      ],
      "execution_count": 0,
      "outputs": [
        {
          "output_type": "display_data",
          "data": {
            "image/png": "[encoded data removed]",
            "text/plain": [
              "<Figure size 432x288 with 1 Axes>"
            ]
          },
          "metadata": {
            "tags": []
          }
        }
      ]
    },
    {
      "cell_type": "markdown",
      "metadata": {
        "id": "ZmVQfBmNGiMH",
        "colab_type": "text"
      },
      "source": [
        "0을 경계로 출력이 0에서 1로 바뀌는 것을 알 수 있다."
      ]
    },
    {
      "cell_type": "markdown",
      "metadata": {
        "id": "orSKrTsxGm1I",
        "colab_type": "text"
      },
      "source": [
        "### **3.2.4 시그모이드 함수 구현하기**"
      ]
    },
    {
      "cell_type": "code",
      "metadata": {
        "id": "5ejbBT2rGgNr",
        "colab_type": "code",
        "colab": {}
      },
      "source": [
        "def sigmoid(x):\n",
        "  return 1/(1+np.exp(-x))"
      ],
      "execution_count": 0,
      "outputs": []
    },
    {
      "cell_type": "markdown",
      "metadata": {
        "id": "9ooevkWUG1mw",
        "colab_type": "text"
      },
      "source": [
        "여기서는 인수 x가 넘파이 배열이어도 올바른 결과가 나온다."
      ]
    },
    {
      "cell_type": "code",
      "metadata": {
        "id": "Ps8UWLlPGy_g",
        "colab_type": "code",
        "outputId": "45ab2022-729f-4746-da2b-6be4600b8d78",
        "colab": {
          "base_uri": "https://localhost:8080/",
          "height": 35
        }
      },
      "source": [
        "x=np.array([-1.0,1.0,2.0])\n",
        "sigmoid(x)"
      ],
      "execution_count": 0,
      "outputs": [
        {
          "output_type": "execute_result",
          "data": {
            "text/plain": [
              "array([0.26894142, 0.73105858, 0.88079708])"
            ]
          },
          "metadata": {
            "tags": []
          },
          "execution_count": 8
        }
      ]
    },
    {
      "cell_type": "markdown",
      "metadata": {
        "id": "Wm8xSkQtG_NY",
        "colab_type": "text"
      },
      "source": [
        "이렇게 넘파이 배열도 잘 처리되는 이유는 넘파이의 브로드캐스트 때문이다. 브로드캐스트 기능이란 넘파이 배여로가 스칼라값의 연산을 넘파이 배열의 원소 각각과 스칼라값의 연산으로 바꿔 수행하는 것이다. "
      ]
    },
    {
      "cell_type": "code",
      "metadata": {
        "id": "tkG9ugjwG8-4",
        "colab_type": "code",
        "colab": {}
      },
      "source": [
        "t = np.array([1.0,2.0,3.0])"
      ],
      "execution_count": 0,
      "outputs": []
    },
    {
      "cell_type": "code",
      "metadata": {
        "id": "7CdFOj7EHPHN",
        "colab_type": "code",
        "outputId": "91705478-4c72-45a4-dc46-af87fb398b34",
        "colab": {
          "base_uri": "https://localhost:8080/",
          "height": 35
        }
      },
      "source": [
        "1.0+t"
      ],
      "execution_count": 0,
      "outputs": [
        {
          "output_type": "execute_result",
          "data": {
            "text/plain": [
              "array([2., 3., 4.])"
            ]
          },
          "metadata": {
            "tags": []
          },
          "execution_count": 10
        }
      ]
    },
    {
      "cell_type": "code",
      "metadata": {
        "id": "x2Ibm4G3HM-P",
        "colab_type": "code",
        "outputId": "b6bc9b70-7e7c-4ef2-d92d-ed0787396533",
        "colab": {
          "base_uri": "https://localhost:8080/",
          "height": 35
        }
      },
      "source": [
        "1.0/t"
      ],
      "execution_count": 0,
      "outputs": [
        {
          "output_type": "execute_result",
          "data": {
            "text/plain": [
              "array([1.        , 0.5       , 0.33333333])"
            ]
          },
          "metadata": {
            "tags": []
          },
          "execution_count": 11
        }
      ]
    },
    {
      "cell_type": "markdown",
      "metadata": {
        "id": "EhYmhI5LHYCG",
        "colab_type": "text"
      },
      "source": [
        "스칼라값과 넘파이 배열의 각 원소 사이에서 연산이 이뤄지고, 연산 겨로가가 넘파이 배열로 출력되었다."
      ]
    },
    {
      "cell_type": "code",
      "metadata": {
        "id": "SEfurKWRHSLz",
        "colab_type": "code",
        "outputId": "5326918f-e6ca-47db-bf1c-da29111c23c1",
        "colab": {
          "base_uri": "https://localhost:8080/",
          "height": 265
        }
      },
      "source": [
        "x = np.arange(-5.0,5.0,0.1)\n",
        "y=sigmoid(x)\n",
        "plt.plot(x,y)\n",
        "plt.ylim(-0.1,1.1) #y축 범위 지정\n",
        "plt.show()"
      ],
      "execution_count": 0,
      "outputs": [
        {
          "output_type": "display_data",
          "data": {
            "image/png": "[encoded data removed]",
            "text/plain": [
              "<Figure size 432x288 with 1 Axes>"
            ]
          },
          "metadata": {
            "tags": []
          }
        }
      ]
    },
    {
      "cell_type": "markdown",
      "metadata": {
        "id": "dzn2xrSgHqOf",
        "colab_type": "text"
      },
      "source": [
        "### **3.2.5 시그모이드 함수와 계단 함수의 비교**"
      ]
    },
    {
      "cell_type": "markdown",
      "metadata": {
        "id": "gpudhobEHugH",
        "colab_type": "text"
      },
      "source": [
        "시그모이드 함수와 계단 함수는 매끄러움에 차이가 있다. 시그모이드 함수는 부드러운 곡선이며 입력에 따라 출력이 연속적으로 변화하는 반면 계단 함수는 0을 경계로 출력이 갑자기 바뀐다. \n",
        "\n",
        "퍼셉트론에서는 뉴런 사이에 0 혹은 1이 흘렀다면, 신경망에서는 연속적인 실수가 흐른다."
      ]
    },
    {
      "cell_type": "markdown",
      "metadata": {
        "id": "PG0TNQhrH_9D",
        "colab_type": "text"
      },
      "source": [
        "### **3.2.6 비선형 함수**"
      ]
    },
    {
      "cell_type": "markdown",
      "metadata": {
        "id": "A7FDJJPAICNU",
        "colab_type": "text"
      },
      "source": [
        "계단 함수와 시그모이드 함수의 공통점은 둘 다 비선형 함수라는 것이다. \n",
        "\n",
        "신경망에서는 활성화 함수로 비선형 함수를 사용해야 한다. 선형 함수를 이용하면 신경망의 층을 깊게 하는 의미가 없어지기 때문이다. 선형 함수의 문제는 층을 아무리 깊게 해도 은닉층이 없는 네트워크로도 똑같은 기능을 할 수 있다는 데 있다. 예를 들어 h(x)=cx 를 활성화함수로 사용하는 3층 네트워크는 y(x)=cccx 처럼 곱셈을 세번 수행하지만, 실은 y(x)=ax 와 똑같은 식이다. "
      ]
    },
    {
      "cell_type": "markdown",
      "metadata": {
        "id": "K4B-MYmdI68P",
        "colab_type": "text"
      },
      "source": [
        "### **3.2.7 ReLU 함수**"
      ]
    },
    {
      "cell_type": "markdown",
      "metadata": {
        "id": "bFo1LsO7JBF9",
        "colab_type": "text"
      },
      "source": [
        "입력이 0을 넘으면 그 입력을 그대로 출력하고, 0 이하이면 0을 출력하는 함수이다."
      ]
    },
    {
      "cell_type": "code",
      "metadata": {
        "id": "VhJuTOqcHoOz",
        "colab_type": "code",
        "colab": {}
      },
      "source": [
        "def relu(x):\n",
        "  return np.maximum(0,x)"
      ],
      "execution_count": 0,
      "outputs": []
    },
    {
      "cell_type": "code",
      "metadata": {
        "id": "3XlmX4IGJLfF",
        "colab_type": "code",
        "outputId": "da8231f0-b299-4c01-86b1-8585bc3d7c70",
        "colab": {
          "base_uri": "https://localhost:8080/",
          "height": 266
        }
      },
      "source": [
        "x = np.arange(-6.0,6.0,0.1)\n",
        "y=relu(x)\n",
        "plt.plot(x,y)\n",
        "plt.ylim(-1,5.1) #y축 범위 지정\n",
        "plt.show()"
      ],
      "execution_count": 0,
      "outputs": [
        {
          "output_type": "display_data",
          "data": {
            "image/png": "[encoded data removed]",
            "text/plain": [
              "<Figure size 432x288 with 1 Axes>"
            ]
          },
          "metadata": {
            "tags": []
          }
        }
      ]
    },
    {
      "cell_type": "markdown",
      "metadata": {
        "id": "eiNPwZf7Jgr0",
        "colab_type": "text"
      },
      "source": [
        "## **3.3 다차원 배열의 계산**"
      ]
    },
    {
      "cell_type": "markdown",
      "metadata": {
        "id": "_nug7Y2LJmZp",
        "colab_type": "text"
      },
      "source": [
        "### **3.3.1 다차원 배열**"
      ]
    },
    {
      "cell_type": "markdown",
      "metadata": {
        "id": "GRPet3q2Mv01",
        "colab_type": "text"
      },
      "source": [
        "다차원 배열도 그 기본은 숫자의 집합이다. 숫자가 한 줄로 늘어선 것이나 직사각형으로 늘어놓은 것, 3차원으로 늘어놓은 것이나 일반화하여 N차원으로 나열하는 것을 모두 통틀어 다차원 배열이라고 한다."
      ]
    },
    {
      "cell_type": "code",
      "metadata": {
        "id": "bYw3VXeMJPF0",
        "colab_type": "code",
        "colab": {}
      },
      "source": [
        "import numpy as np\n",
        "A=np.array([1,2,3,4])"
      ],
      "execution_count": 0,
      "outputs": []
    },
    {
      "cell_type": "code",
      "metadata": {
        "id": "3gX-pM4hNDAS",
        "colab_type": "code",
        "outputId": "e71344e2-d333-4cd2-eff7-b81d8ffb83b8",
        "colab": {
          "base_uri": "https://localhost:8080/",
          "height": 35
        }
      },
      "source": [
        "print(A)"
      ],
      "execution_count": 0,
      "outputs": [
        {
          "output_type": "stream",
          "text": [
            "[1 2 3 4]\n"
          ],
          "name": "stdout"
        }
      ]
    },
    {
      "cell_type": "code",
      "metadata": {
        "id": "xrGY2GENNEIo",
        "colab_type": "code",
        "outputId": "aad31dd2-24cc-4d71-e08f-305ea3818e76",
        "colab": {
          "base_uri": "https://localhost:8080/",
          "height": 35
        }
      },
      "source": [
        "np.ndim(A)"
      ],
      "execution_count": 0,
      "outputs": [
        {
          "output_type": "execute_result",
          "data": {
            "text/plain": [
              "1"
            ]
          },
          "metadata": {
            "tags": []
          },
          "execution_count": 17
        }
      ]
    },
    {
      "cell_type": "markdown",
      "metadata": {
        "id": "IsbquSETNP6g",
        "colab_type": "text"
      },
      "source": [
        "배열의 차원 수를 확인했다."
      ]
    },
    {
      "cell_type": "code",
      "metadata": {
        "id": "tNjIYlACNFtA",
        "colab_type": "code",
        "outputId": "334a2d36-8038-4ec7-c9bf-7d1e67a9aa52",
        "colab": {
          "base_uri": "https://localhost:8080/",
          "height": 35
        }
      },
      "source": [
        "A.shape"
      ],
      "execution_count": 0,
      "outputs": [
        {
          "output_type": "execute_result",
          "data": {
            "text/plain": [
              "(4,)"
            ]
          },
          "metadata": {
            "tags": []
          },
          "execution_count": 18
        }
      ]
    },
    {
      "cell_type": "markdown",
      "metadata": {
        "id": "1Z591uw0NU01",
        "colab_type": "text"
      },
      "source": [
        "배열의 형상을 확인했다. A.shaper은 1차원 배열이라도 다차원 배열일 때와 통일된 형태로 결과를 반환하기 위해 튜플을 반환한다."
      ]
    },
    {
      "cell_type": "code",
      "metadata": {
        "id": "H2b2cWLNNHF8",
        "colab_type": "code",
        "outputId": "a03685eb-7eee-42e2-d6e7-9e003ce57814",
        "colab": {
          "base_uri": "https://localhost:8080/",
          "height": 35
        }
      },
      "source": [
        "A.shape[0]"
      ],
      "execution_count": 0,
      "outputs": [
        {
          "output_type": "execute_result",
          "data": {
            "text/plain": [
              "4"
            ]
          },
          "metadata": {
            "tags": []
          },
          "execution_count": 19
        }
      ]
    },
    {
      "cell_type": "code",
      "metadata": {
        "id": "3wBlKRhRNJk1",
        "colab_type": "code",
        "colab": {}
      },
      "source": [
        "B=np.array([[1,2],[3,4],[5,6]])"
      ],
      "execution_count": 0,
      "outputs": []
    },
    {
      "cell_type": "markdown",
      "metadata": {
        "id": "Ruzfm3imN4P3",
        "colab_type": "text"
      },
      "source": [
        "3x2 배열을 작성했다. 3x2 배열은 처음 차원에는 원소가 3개, 다음 차원에는 원소가 2개 있다는 의미이다.\n",
        "\n",
        "2차원 배열은 특히 행렬이라고 부르고 배열의 가로 방향을 행, 세로 방향을 열이라고 한다."
      ]
    },
    {
      "cell_type": "code",
      "metadata": {
        "id": "3GN9twOKNrkZ",
        "colab_type": "code",
        "outputId": "0dfd3e71-b3c2-4e6d-b650-de02643d2989",
        "colab": {
          "base_uri": "https://localhost:8080/",
          "height": 71
        }
      },
      "source": [
        "print(B)"
      ],
      "execution_count": 0,
      "outputs": [
        {
          "output_type": "stream",
          "text": [
            "[[1 2]\n",
            " [3 4]\n",
            " [5 6]]\n"
          ],
          "name": "stdout"
        }
      ]
    },
    {
      "cell_type": "code",
      "metadata": {
        "id": "GJSJ-cznNtAI",
        "colab_type": "code",
        "outputId": "11e8c939-e45c-41d9-aaa6-169786f4a523",
        "colab": {
          "base_uri": "https://localhost:8080/",
          "height": 35
        }
      },
      "source": [
        "np.ndim(B)"
      ],
      "execution_count": 0,
      "outputs": [
        {
          "output_type": "execute_result",
          "data": {
            "text/plain": [
              "2"
            ]
          },
          "metadata": {
            "tags": []
          },
          "execution_count": 22
        }
      ]
    },
    {
      "cell_type": "code",
      "metadata": {
        "id": "UqBg2hVwNuz4",
        "colab_type": "code",
        "outputId": "6227ddc0-09f5-4299-ab10-a22d359362d2",
        "colab": {
          "base_uri": "https://localhost:8080/",
          "height": 35
        }
      },
      "source": [
        "B.shape"
      ],
      "execution_count": 0,
      "outputs": [
        {
          "output_type": "execute_result",
          "data": {
            "text/plain": [
              "(3, 2)"
            ]
          },
          "metadata": {
            "tags": []
          },
          "execution_count": 23
        }
      ]
    },
    {
      "cell_type": "markdown",
      "metadata": {
        "id": "77LABEeJORyc",
        "colab_type": "text"
      },
      "source": [
        "### **3.3.2 행렬의 곱**"
      ]
    },
    {
      "cell_type": "code",
      "metadata": {
        "id": "s97cg1vfNwGT",
        "colab_type": "code",
        "outputId": "41205fe4-261d-4455-b1c4-f44f36e5ef0a",
        "colab": {
          "base_uri": "https://localhost:8080/",
          "height": 35
        }
      },
      "source": [
        "A = np.array([[1,2],[3,4]])\n",
        "A.shape"
      ],
      "execution_count": 0,
      "outputs": [
        {
          "output_type": "execute_result",
          "data": {
            "text/plain": [
              "(2, 2)"
            ]
          },
          "metadata": {
            "tags": []
          },
          "execution_count": 24
        }
      ]
    },
    {
      "cell_type": "code",
      "metadata": {
        "id": "G6IV1R9FOwB3",
        "colab_type": "code",
        "outputId": "e9babac9-bec9-47c4-c532-9905fec6f06d",
        "colab": {
          "base_uri": "https://localhost:8080/",
          "height": 35
        }
      },
      "source": [
        "B = np.array([[5,6],[7,8]])\n",
        "B.shape"
      ],
      "execution_count": 0,
      "outputs": [
        {
          "output_type": "execute_result",
          "data": {
            "text/plain": [
              "(2, 2)"
            ]
          },
          "metadata": {
            "tags": []
          },
          "execution_count": 25
        }
      ]
    },
    {
      "cell_type": "code",
      "metadata": {
        "id": "BS_OasYaO2mI",
        "colab_type": "code",
        "outputId": "f2d789ae-83e5-418d-82ff-25c4e50df215",
        "colab": {
          "base_uri": "https://localhost:8080/",
          "height": 53
        }
      },
      "source": [
        "np.dot(A,B)"
      ],
      "execution_count": 0,
      "outputs": [
        {
          "output_type": "execute_result",
          "data": {
            "text/plain": [
              "array([[19, 22],\n",
              "       [43, 50]])"
            ]
          },
          "metadata": {
            "tags": []
          },
          "execution_count": 26
        }
      ]
    },
    {
      "cell_type": "code",
      "metadata": {
        "id": "XKXk7w20O4p1",
        "colab_type": "code",
        "outputId": "7a7bb720-8f04-44bb-9532-fa6930855ebc",
        "colab": {
          "base_uri": "https://localhost:8080/",
          "height": 53
        }
      },
      "source": [
        "np.dot(B,A)"
      ],
      "execution_count": 0,
      "outputs": [
        {
          "output_type": "execute_result",
          "data": {
            "text/plain": [
              "array([[23, 34],\n",
              "       [31, 46]])"
            ]
          },
          "metadata": {
            "tags": []
          },
          "execution_count": 27
        }
      ]
    },
    {
      "cell_type": "markdown",
      "metadata": {
        "id": "2ccj2yj_PDRx",
        "colab_type": "text"
      },
      "source": [
        "np.dot()은 입력이 1차원 배열이면 벡터를, 2차원 배열이면 행렬 곱을 계산한다. 행렬의 곱에서는 피연산자의 순서가 다르면 결과가 다르기 때문에 np.dot(A,B)와 np.dot(B,A)의 결과가 다르게 나온 것이다."
      ]
    },
    {
      "cell_type": "code",
      "metadata": {
        "id": "AVKjUtrpPAXp",
        "colab_type": "code",
        "outputId": "ce3bcfdb-31ce-41e9-84ff-914d91f268a0",
        "colab": {
          "base_uri": "https://localhost:8080/",
          "height": 35
        }
      },
      "source": [
        "A=np.array([[1,2,3],[4,5,6]])\n",
        "A.shape"
      ],
      "execution_count": 0,
      "outputs": [
        {
          "output_type": "execute_result",
          "data": {
            "text/plain": [
              "(2, 3)"
            ]
          },
          "metadata": {
            "tags": []
          },
          "execution_count": 28
        }
      ]
    },
    {
      "cell_type": "code",
      "metadata": {
        "id": "Xtd_ExxkPWhF",
        "colab_type": "code",
        "outputId": "fcfe0f02-b55a-456a-ec6d-5c83f76f4627",
        "colab": {
          "base_uri": "https://localhost:8080/",
          "height": 35
        }
      },
      "source": [
        "B=np.array([[1,2],[3,4],[5,6]])\n",
        "B.shape"
      ],
      "execution_count": 0,
      "outputs": [
        {
          "output_type": "execute_result",
          "data": {
            "text/plain": [
              "(3, 2)"
            ]
          },
          "metadata": {
            "tags": []
          },
          "execution_count": 29
        }
      ]
    },
    {
      "cell_type": "code",
      "metadata": {
        "id": "-dFIu-7oPcjY",
        "colab_type": "code",
        "outputId": "082cd095-dff3-4d42-ee4c-8ebdfc9d6266",
        "colab": {
          "base_uri": "https://localhost:8080/",
          "height": 53
        }
      },
      "source": [
        "np.dot(A,B)"
      ],
      "execution_count": 0,
      "outputs": [
        {
          "output_type": "execute_result",
          "data": {
            "text/plain": [
              "array([[22, 28],\n",
              "       [49, 64]])"
            ]
          },
          "metadata": {
            "tags": []
          },
          "execution_count": 30
        }
      ]
    },
    {
      "cell_type": "markdown",
      "metadata": {
        "id": "6I1tsAaWPhN7",
        "colab_type": "text"
      },
      "source": [
        "2x3 행렬과 3x2 행렬의 곱을 구현했다."
      ]
    },
    {
      "cell_type": "code",
      "metadata": {
        "id": "bj3Q9b3HPgae",
        "colab_type": "code",
        "outputId": "6ebaea82-a5b0-4fb7-f800-584ccf57389b",
        "colab": {
          "base_uri": "https://localhost:8080/",
          "height": 35
        }
      },
      "source": [
        "C=np.array([[1,2],[3,4]])\n",
        "C.shape"
      ],
      "execution_count": 0,
      "outputs": [
        {
          "output_type": "execute_result",
          "data": {
            "text/plain": [
              "(2, 2)"
            ]
          },
          "metadata": {
            "tags": []
          },
          "execution_count": 31
        }
      ]
    },
    {
      "cell_type": "code",
      "metadata": {
        "id": "JaWPVAUsPq5P",
        "colab_type": "code",
        "outputId": "ec0235c8-b8d2-4a3f-b099-dc2b0d4dbe12",
        "colab": {
          "base_uri": "https://localhost:8080/",
          "height": 35
        }
      },
      "source": [
        "A.shape"
      ],
      "execution_count": 0,
      "outputs": [
        {
          "output_type": "execute_result",
          "data": {
            "text/plain": [
              "(2, 3)"
            ]
          },
          "metadata": {
            "tags": []
          },
          "execution_count": 32
        }
      ]
    },
    {
      "cell_type": "code",
      "metadata": {
        "id": "BvORKrnLPr_Y",
        "colab_type": "code",
        "outputId": "f5cc1c91-359b-4698-f035-4507c028e343",
        "colab": {
          "base_uri": "https://localhost:8080/",
          "height": 208
        }
      },
      "source": [
        "np.dot(A,C)"
      ],
      "execution_count": 0,
      "outputs": [
        {
          "output_type": "error",
          "ename": "ValueError",
          "evalue": "ignored",
          "traceback": [
            "\u001b[0;31m---------------------------------------------------------------------------\u001b[0m",
            "\u001b[0;31mValueError\u001b[0m                                Traceback (most recent call last)",
            "\u001b[0;32m<ipython-input-33-bef0a2d6fb5b>\u001b[0m in \u001b[0;36m<module>\u001b[0;34m()\u001b[0m\n\u001b[0;32m----> 1\u001b[0;31m \u001b[0mnp\u001b[0m\u001b[0;34m.\u001b[0m\u001b[0mdot\u001b[0m\u001b[0;34m(\u001b[0m\u001b[0mA\u001b[0m\u001b[0;34m,\u001b[0m\u001b[0mC\u001b[0m\u001b[0;34m)\u001b[0m\u001b[0;34m\u001b[0m\u001b[0;34m\u001b[0m\u001b[0m\n\u001b[0m",
            "\u001b[0;32m<__array_function__ internals>\u001b[0m in \u001b[0;36mdot\u001b[0;34m(*args, **kwargs)\u001b[0m\n",
            "\u001b[0;31mValueError\u001b[0m: shapes (2,3) and (2,2) not aligned: 3 (dim 1) != 2 (dim 0)"
          ]
        }
      ]
    },
    {
      "cell_type": "markdown",
      "metadata": {
        "id": "BS9TBSCwPwAg",
        "colab_type": "text"
      },
      "source": [
        "행렬 A의 1번째 차원의 원소 수(열 수)와 행렬 C의 0번째 차원의 원소 수(행 수)가 달라 행렬의 곱을 계산할 수 없다."
      ]
    },
    {
      "cell_type": "code",
      "metadata": {
        "id": "fmoW7OpZPtZD",
        "colab_type": "code",
        "outputId": "1e6ec37c-f231-4617-856b-240b2e6d4822",
        "colab": {
          "base_uri": "https://localhost:8080/",
          "height": 35
        }
      },
      "source": [
        "A = np.array([[1,2],[3,4],[5,6]])\n",
        "A.shape"
      ],
      "execution_count": 0,
      "outputs": [
        {
          "output_type": "execute_result",
          "data": {
            "text/plain": [
              "(3, 2)"
            ]
          },
          "metadata": {
            "tags": []
          },
          "execution_count": 34
        }
      ]
    },
    {
      "cell_type": "code",
      "metadata": {
        "id": "D0D4ef8PQLOL",
        "colab_type": "code",
        "outputId": "e6651ac8-8f78-48bb-d238-b69d31abe584",
        "colab": {
          "base_uri": "https://localhost:8080/",
          "height": 35
        }
      },
      "source": [
        "B = np.array([7,8])\n",
        "B.shape"
      ],
      "execution_count": 0,
      "outputs": [
        {
          "output_type": "execute_result",
          "data": {
            "text/plain": [
              "(2,)"
            ]
          },
          "metadata": {
            "tags": []
          },
          "execution_count": 35
        }
      ]
    },
    {
      "cell_type": "code",
      "metadata": {
        "id": "vVtuj3uIQPz-",
        "colab_type": "code",
        "outputId": "44aa8c30-a99f-4295-ba4c-c3251081092d",
        "colab": {
          "base_uri": "https://localhost:8080/",
          "height": 35
        }
      },
      "source": [
        "np.dot(A,B)"
      ],
      "execution_count": 0,
      "outputs": [
        {
          "output_type": "execute_result",
          "data": {
            "text/plain": [
              "array([23, 53, 83])"
            ]
          },
          "metadata": {
            "tags": []
          },
          "execution_count": 36
        }
      ]
    },
    {
      "cell_type": "markdown",
      "metadata": {
        "id": "O0mR_KjcQWvv",
        "colab_type": "text"
      },
      "source": [
        "B가 1차원 배열이지만 대응하는 차원의 원소 수를 일치시켰기 때문에 계산을 할 수 있었다."
      ]
    },
    {
      "cell_type": "markdown",
      "metadata": {
        "id": "I-x7fTnuQiDh",
        "colab_type": "text"
      },
      "source": [
        "### **3.3.3 신경망에서의 행렬 곱**"
      ]
    },
    {
      "cell_type": "code",
      "metadata": {
        "id": "JqwQ_ZjEQQ_m",
        "colab_type": "code",
        "outputId": "501eb7c2-5b12-448a-eb18-e12fed039a1c",
        "colab": {
          "base_uri": "https://localhost:8080/",
          "height": 35
        }
      },
      "source": [
        "X=np.array([1,2])\n",
        "X.shape"
      ],
      "execution_count": 0,
      "outputs": [
        {
          "output_type": "execute_result",
          "data": {
            "text/plain": [
              "(2,)"
            ]
          },
          "metadata": {
            "tags": []
          },
          "execution_count": 37
        }
      ]
    },
    {
      "cell_type": "code",
      "metadata": {
        "id": "GdFMlBVYRPJS",
        "colab_type": "code",
        "outputId": "a3978ece-47c6-4030-f508-7acdb529cc83",
        "colab": {
          "base_uri": "https://localhost:8080/",
          "height": 53
        }
      },
      "source": [
        "W=np.array([[1,3,5],[2,4,6]])\n",
        "print(W)"
      ],
      "execution_count": 0,
      "outputs": [
        {
          "output_type": "stream",
          "text": [
            "[[1 3 5]\n",
            " [2 4 6]]\n"
          ],
          "name": "stdout"
        }
      ]
    },
    {
      "cell_type": "code",
      "metadata": {
        "id": "nHOFLWj6RUdd",
        "colab_type": "code",
        "outputId": "ddad57ca-d35c-4b30-824f-7b9d63559c15",
        "colab": {
          "base_uri": "https://localhost:8080/",
          "height": 35
        }
      },
      "source": [
        "W.shape"
      ],
      "execution_count": 0,
      "outputs": [
        {
          "output_type": "execute_result",
          "data": {
            "text/plain": [
              "(2, 3)"
            ]
          },
          "metadata": {
            "tags": []
          },
          "execution_count": 39
        }
      ]
    },
    {
      "cell_type": "code",
      "metadata": {
        "id": "QC7G_qc0RVVd",
        "colab_type": "code",
        "outputId": "ea47ed91-4a24-4eca-f38a-49023ad2245d",
        "colab": {
          "base_uri": "https://localhost:8080/",
          "height": 35
        }
      },
      "source": [
        "Y = np.dot(X,W)\n",
        "print(Y)"
      ],
      "execution_count": 0,
      "outputs": [
        {
          "output_type": "stream",
          "text": [
            "[ 5 11 17]\n"
          ],
          "name": "stdout"
        }
      ]
    },
    {
      "cell_type": "markdown",
      "metadata": {
        "id": "AwAYa9CAXgjV",
        "colab_type": "text"
      },
      "source": [
        "## **3.4 3층 신경망 구현하기**"
      ]
    },
    {
      "cell_type": "markdown",
      "metadata": {
        "id": "FXcIlIw7XoEU",
        "colab_type": "text"
      },
      "source": [
        "### **3.4.1 표기법 설명**"
      ]
    },
    {
      "cell_type": "markdown",
      "metadata": {
        "id": "PORmJ97jX3mM",
        "colab_type": "text"
      },
      "source": [
        "교재 p.83~84 참고"
      ]
    },
    {
      "cell_type": "markdown",
      "metadata": {
        "id": "Skh_BClkX7S4",
        "colab_type": "text"
      },
      "source": [
        "### **3.4.2 각 층의 신호 전달 구현하기**"
      ]
    },
    {
      "cell_type": "markdown",
      "metadata": {
        "id": "XsKcabpDYAHL",
        "colab_type": "text"
      },
      "source": [
        "교재 p.84~88와 코드 함께 보기"
      ]
    },
    {
      "cell_type": "code",
      "metadata": {
        "id": "unca7tOSRY5B",
        "colab_type": "code",
        "colab": {}
      },
      "source": [
        "X = np.array([1.0,0.5])\n",
        "W1 = np.array([[0.1,0.3,0.5],[0.2,0.4,0.6]])\n",
        "B1 = np.array([0.1,0.2,0.3])"
      ],
      "execution_count": 0,
      "outputs": []
    },
    {
      "cell_type": "code",
      "metadata": {
        "id": "sI2JvMrCY-fs",
        "colab_type": "code",
        "outputId": "2c244bda-d8b3-41da-aacf-83f56064c801",
        "colab": {
          "base_uri": "https://localhost:8080/",
          "height": 35
        }
      },
      "source": [
        "print(W1.shape)"
      ],
      "execution_count": 0,
      "outputs": [
        {
          "output_type": "stream",
          "text": [
            "(2, 3)\n"
          ],
          "name": "stdout"
        }
      ]
    },
    {
      "cell_type": "code",
      "metadata": {
        "id": "STVQOWfbY_h7",
        "colab_type": "code",
        "outputId": "7204848d-d02a-4521-fb39-58570f23e231",
        "colab": {
          "base_uri": "https://localhost:8080/",
          "height": 35
        }
      },
      "source": [
        "print(X.shape)"
      ],
      "execution_count": 0,
      "outputs": [
        {
          "output_type": "stream",
          "text": [
            "(2,)\n"
          ],
          "name": "stdout"
        }
      ]
    },
    {
      "cell_type": "markdown",
      "metadata": {
        "id": "ci7YzepKZWLi",
        "colab_type": "text"
      },
      "source": [
        "W1은 2x3 행렬, X는 원소가 2개인 1차원 배열로 W1과 X의 대응하는 차원의 원소 수가 일치한다."
      ]
    },
    {
      "cell_type": "code",
      "metadata": {
        "id": "eVE5LRzgZCYy",
        "colab_type": "code",
        "outputId": "adb421ac-3ed8-475a-81f6-1844c57dbf5e",
        "colab": {
          "base_uri": "https://localhost:8080/",
          "height": 35
        }
      },
      "source": [
        "print(B1.shape)"
      ],
      "execution_count": 0,
      "outputs": [
        {
          "output_type": "stream",
          "text": [
            "(3,)\n"
          ],
          "name": "stdout"
        }
      ]
    },
    {
      "cell_type": "code",
      "metadata": {
        "id": "1Df1QAGqZEdF",
        "colab_type": "code",
        "colab": {}
      },
      "source": [
        "A1 = np.dot(X,W1) + B1"
      ],
      "execution_count": 0,
      "outputs": []
    },
    {
      "cell_type": "markdown",
      "metadata": {
        "id": "oikDG6YFZjEN",
        "colab_type": "text"
      },
      "source": [
        "가중치를 곱한 신호에 편향을 합한 값을 A1에 저장했다."
      ]
    },
    {
      "cell_type": "code",
      "metadata": {
        "id": "S3iqFq0-ZSGu",
        "colab_type": "code",
        "colab": {}
      },
      "source": [
        "Z1 = sigmoid(A1)"
      ],
      "execution_count": 0,
      "outputs": []
    },
    {
      "cell_type": "code",
      "metadata": {
        "id": "2jnksUk-eob4",
        "colab_type": "code",
        "outputId": "134f15b4-0a74-47e7-e02d-532535d8638f",
        "colab": {
          "base_uri": "https://localhost:8080/",
          "height": 35
        }
      },
      "source": [
        "print(A1)"
      ],
      "execution_count": 0,
      "outputs": [
        {
          "output_type": "stream",
          "text": [
            "[0.3 0.7 1.1]\n"
          ],
          "name": "stdout"
        }
      ]
    },
    {
      "cell_type": "code",
      "metadata": {
        "id": "8zANDjy5eqBg",
        "colab_type": "code",
        "outputId": "8ba0ae12-5069-4e4d-b837-117ebdf56461",
        "colab": {
          "base_uri": "https://localhost:8080/",
          "height": 35
        }
      },
      "source": [
        "print(Z1)"
      ],
      "execution_count": 0,
      "outputs": [
        {
          "output_type": "stream",
          "text": [
            "[0.57444252 0.66818777 0.75026011]\n"
          ],
          "name": "stdout"
        }
      ]
    },
    {
      "cell_type": "markdown",
      "metadata": {
        "id": "ivPRyDAQetLQ",
        "colab_type": "text"
      },
      "source": [
        "가중 신호와 편향의 총합을 활성화 함수를 통해 변환시켰다. 활성화 함수로는 앞서 정의한 시그모이드 함수를 사용했다."
      ]
    },
    {
      "cell_type": "code",
      "metadata": {
        "id": "ymmqOhq4erW9",
        "colab_type": "code",
        "colab": {}
      },
      "source": [
        "W2 = np.array([[0.1,0.4],[0.2,0.5],[0.3,0.6]])\n",
        "B2 = np.array([0.1,0.2])"
      ],
      "execution_count": 0,
      "outputs": []
    },
    {
      "cell_type": "code",
      "metadata": {
        "id": "ioCCGszbfN-f",
        "colab_type": "code",
        "outputId": "d5bbad62-6078-4997-aaaf-ca0d92673a5f",
        "colab": {
          "base_uri": "https://localhost:8080/",
          "height": 35
        }
      },
      "source": [
        "print(Z1.shape)"
      ],
      "execution_count": 0,
      "outputs": [
        {
          "output_type": "stream",
          "text": [
            "(3,)\n"
          ],
          "name": "stdout"
        }
      ]
    },
    {
      "cell_type": "code",
      "metadata": {
        "id": "tssJUXkxfSCy",
        "colab_type": "code",
        "outputId": "90530f82-d5ca-4b75-a9c4-358ba46e8391",
        "colab": {
          "base_uri": "https://localhost:8080/",
          "height": 35
        }
      },
      "source": [
        "print(W2.shape)"
      ],
      "execution_count": 0,
      "outputs": [
        {
          "output_type": "stream",
          "text": [
            "(3, 2)\n"
          ],
          "name": "stdout"
        }
      ]
    },
    {
      "cell_type": "code",
      "metadata": {
        "id": "Tk-mgJYPfU9q",
        "colab_type": "code",
        "outputId": "1410ce52-ad76-4eec-8f9a-ddd512d6123f",
        "colab": {
          "base_uri": "https://localhost:8080/",
          "height": 35
        }
      },
      "source": [
        "print(B2.shape)"
      ],
      "execution_count": 0,
      "outputs": [
        {
          "output_type": "stream",
          "text": [
            "(2,)\n"
          ],
          "name": "stdout"
        }
      ]
    },
    {
      "cell_type": "code",
      "metadata": {
        "id": "zNwjF5szfXgK",
        "colab_type": "code",
        "colab": {}
      },
      "source": [
        "A2 = np.dot(Z1,W2) +B2\n",
        "Z2 = sigmoid(A2)"
      ],
      "execution_count": 0,
      "outputs": []
    },
    {
      "cell_type": "markdown",
      "metadata": {
        "id": "eaMYo1E_fl84",
        "colab_type": "text"
      },
      "source": [
        "1층에서 2층으로 가는 과정을 구현했다. 1층의 출력 Z1이 2층의 입력이 된다는 점을 제외하면 이전 구현과 동일하다."
      ]
    },
    {
      "cell_type": "code",
      "metadata": {
        "id": "yZpZkSOtfd9-",
        "colab_type": "code",
        "colab": {}
      },
      "source": [
        "def identity_function(x):\n",
        "  return x\n",
        "\n",
        "W3 = np.array([[0.1,0.3],[0.2,0.4]])\n",
        "B3 = np.array([0.1,0.2])\n",
        "\n",
        "A3 = np.dot(Z2,W3) +B3\n",
        "Y = identity_function(A3)"
      ],
      "execution_count": 0,
      "outputs": []
    },
    {
      "cell_type": "markdown",
      "metadata": {
        "id": "Ai5Xn7-7gJT_",
        "colab_type": "text"
      },
      "source": [
        "2층에서 출력층으로의 과정을 구현했다. 활성화 함수로 항등 함수를 이용한 것을 제외하면 지금까지의 구현과 거의 같다. 앞의 흐름과 통일하기 위해 identity_function()을 정의해주었지만 결국 입력을 그대로 출력해주기 때문에 굳이 정의하지 않아도 된다. "
      ]
    },
    {
      "cell_type": "markdown",
      "metadata": {
        "id": "GrBDuifshIq9",
        "colab_type": "text"
      },
      "source": [
        "### **3.4.3 구현 정리**"
      ]
    },
    {
      "cell_type": "code",
      "metadata": {
        "id": "3bnv0Mw8gIix",
        "colab_type": "code",
        "outputId": "83f979f5-66f4-4eb3-d386-7bfaac1e2ef5",
        "colab": {
          "base_uri": "https://localhost:8080/",
          "height": 35
        }
      },
      "source": [
        "def init_network():\n",
        "  network = {}\n",
        "  network['W1'] = np.array([[0.1,0.3,0.5],[0.2,0.4,0.6]])\n",
        "  network['b1'] = np.array([0.1,0.2,0.3])\n",
        "  network['W2'] = np.array([[0.1,0.4],[0.2,0.5],[0.3,0.6]])\n",
        "  network['b2'] = np.array([0.1,0.2])\n",
        "  network['W3'] = np.array([[0.1,0.3],[0.2,0.4]])\n",
        "  network['b3'] = np.array([0.1,0.2])\n",
        "\n",
        "  return network\n",
        "\n",
        "def forward(network,x):\n",
        "  W1,W2,W3 = network['W1'],network['W2'],network['W3']\n",
        "  b1,b2,b3 = network['b1'],network['b2'],network['b3']\n",
        "\n",
        "  a1 = np.dot(x,W1) + b1\n",
        "  z1 = sigmoid(a1)\n",
        "  a2 = np.dot(z1,W2) + b2\n",
        "  z2 = sigmoid(a2)\n",
        "  a3 = np.dot(z2,W3) + b3\n",
        "  y = identity_function(a3)\n",
        "\n",
        "  return y\n",
        "\n",
        "network = init_network()\n",
        "x = np.array([1.0,0.5])\n",
        "y = forward(network,x)\n",
        "print(y)"
      ],
      "execution_count": 0,
      "outputs": [
        {
          "output_type": "stream",
          "text": [
            "[0.31682708 0.69627909]\n"
          ],
          "name": "stdout"
        }
      ]
    },
    {
      "cell_type": "markdown",
      "metadata": {
        "id": "jGApcXQboMAP",
        "colab_type": "text"
      },
      "source": [
        "init_network() 함수는 가중치와 편향을 초기화하고 이들을 딕셔너리 변수인 network에 저장했다. 딕셔너리 변수 network에는 각 층에 필요한 매개변수(가중치와 편향)를 저장했다. 그리고 forward() 함수는 입력 신호를 출력으로 변환하는 처리 과정을 구현하고 있다. "
      ]
    },
    {
      "cell_type": "markdown",
      "metadata": {
        "id": "SGWAnaGco3z3",
        "colab_type": "text"
      },
      "source": [
        "## **3.5 출력층 설계하기**"
      ]
    },
    {
      "cell_type": "markdown",
      "metadata": {
        "id": "6FS-u0TEo7NH",
        "colab_type": "text"
      },
      "source": [
        "신경망은 분류와 회귀 모두에 이용할 수 있다. 다만 둘 중 어떤 문제냐에 따라 출력층에서 사용하는 활성화 함수가 달라진다. 일반적으로 회귀에는 항등 함수를, 분류에는 소프트맥스 함수를 사용한다."
      ]
    },
    {
      "cell_type": "markdown",
      "metadata": {
        "id": "NyO3Pyd9pciP",
        "colab_type": "text"
      },
      "source": [
        "### **3.5.1 항등 함수와 소프트맥스 함수 구현하기**"
      ]
    },
    {
      "cell_type": "markdown",
      "metadata": {
        "id": "OgyLk0ZDptQm",
        "colab_type": "text"
      },
      "source": [
        "항등 함수는 입력을 그대로 출력한다. 소프트맥스 함수의 경우 분자는 k번째 입력 신호의 지수 함수, 분모는 모든 입력 신호의 지수 함수의 합으로 이루어져 있다.\n"
      ]
    },
    {
      "cell_type": "code",
      "metadata": {
        "id": "toB53veDiaIz",
        "colab_type": "code",
        "outputId": "5df721d0-cb47-49bb-acc5-f721cddca97b",
        "colab": {
          "base_uri": "https://localhost:8080/",
          "height": 35
        }
      },
      "source": [
        "a = np.array([0.3,2.9,4.0])\n",
        "\n",
        "exp_a = np.exp(a) #지수 함수\n",
        "print(exp_a)"
      ],
      "execution_count": 0,
      "outputs": [
        {
          "output_type": "stream",
          "text": [
            "[ 1.34985881 18.17414537 54.59815003]\n"
          ],
          "name": "stdout"
        }
      ]
    },
    {
      "cell_type": "code",
      "metadata": {
        "id": "heUZ4IbgrQKU",
        "colab_type": "code",
        "outputId": "86ca8817-c17a-4159-c83a-e59218b4eda7",
        "colab": {
          "base_uri": "https://localhost:8080/",
          "height": 35
        }
      },
      "source": [
        "sum_exp_a = np.sum(exp_a) #지수 함수의 합\n",
        "print(sum_exp_a)"
      ],
      "execution_count": 0,
      "outputs": [
        {
          "output_type": "stream",
          "text": [
            "74.1221542101633\n"
          ],
          "name": "stdout"
        }
      ]
    },
    {
      "cell_type": "code",
      "metadata": {
        "id": "S-rqF82LrZJI",
        "colab_type": "code",
        "outputId": "efbcc11f-55a1-4b49-ac9b-0bc4b3076f6b",
        "colab": {
          "base_uri": "https://localhost:8080/",
          "height": 35
        }
      },
      "source": [
        "y = exp_a / sum_exp_a\n",
        "print(y)"
      ],
      "execution_count": 0,
      "outputs": [
        {
          "output_type": "stream",
          "text": [
            "[0.01821127 0.24519181 0.73659691]\n"
          ],
          "name": "stdout"
        }
      ]
    },
    {
      "cell_type": "markdown",
      "metadata": {
        "id": "xcw67huVrg_0",
        "colab_type": "text"
      },
      "source": [
        "소프트맥스 함수를 구현해보았다."
      ]
    },
    {
      "cell_type": "code",
      "metadata": {
        "id": "Joe3rJRAref0",
        "colab_type": "code",
        "colab": {}
      },
      "source": [
        "def softmax(a):\n",
        "  exp_a = np.exp(a)\n",
        "  sum_exp_a = np.sum(exp_a)\n",
        "  y = exp_a / sum_exp_a\n",
        "  \n",
        "  return y"
      ],
      "execution_count": 0,
      "outputs": []
    },
    {
      "cell_type": "markdown",
      "metadata": {
        "id": "856u3z71r6FS",
        "colab_type": "text"
      },
      "source": [
        "위의 논리 흐름을 파이썬 함수로 정의하여, 앞으로 필요할 때 사용할 수 있도록 했다."
      ]
    },
    {
      "cell_type": "markdown",
      "metadata": {
        "id": "mqWpCh-ssASZ",
        "colab_type": "text"
      },
      "source": [
        "### **3.5.2 소프트맥스 함수 구현 시 주의점**"
      ]
    },
    {
      "cell_type": "markdown",
      "metadata": {
        "id": "QrU5Kz0mtloT",
        "colab_type": "text"
      },
      "source": [
        "앞에서 구현 한 소프트맥스 함수 코드는 컴퓨터로 계산할 때 오버플로 문제가 생긴다. 소프트맥스 함수는 지수 함수를 사용하는데, 지수 함수는 쉽게 아주 큰 값을 내뱉는다. 그리고 그런 큰 값끼리 나눗셈을 하면 결과 수치가 불안정해진다. \n",
        "\n",
        "소프트맥스 함수 구현을 개선한 것은 교재 p.93 참고"
      ]
    },
    {
      "cell_type": "code",
      "metadata": {
        "id": "MwWT4eDhr5Ev",
        "colab_type": "code",
        "outputId": "cbfddcaf-953c-4f73-865a-6f3fe802bbd4",
        "colab": {
          "base_uri": "https://localhost:8080/",
          "height": 107
        }
      },
      "source": [
        "a = np.array([1010,1000,990])\n",
        "np.exp(a)/np.sum(np.exp(a)) #소프트맥스 함수의 계산"
      ],
      "execution_count": 0,
      "outputs": [
        {
          "output_type": "stream",
          "text": [
            "/usr/local/lib/python3.6/dist-packages/ipykernel_launcher.py:2: RuntimeWarning: overflow encountered in exp\n",
            "  \n",
            "/usr/local/lib/python3.6/dist-packages/ipykernel_launcher.py:2: RuntimeWarning: invalid value encountered in true_divide\n",
            "  \n"
          ],
          "name": "stderr"
        },
        {
          "output_type": "execute_result",
          "data": {
            "text/plain": [
              "array([nan, nan, nan])"
            ]
          },
          "metadata": {
            "tags": []
          },
          "execution_count": 61
        }
      ]
    },
    {
      "cell_type": "markdown",
      "metadata": {
        "id": "PWmfk4lQuf1q",
        "colab_type": "text"
      },
      "source": [
        "제대로 계산이 되지 않고 nan(not a number의 약자)이 출력되었다. "
      ]
    },
    {
      "cell_type": "code",
      "metadata": {
        "id": "xpv1YSdkudkT",
        "colab_type": "code",
        "outputId": "99ded351-3bc0-4bc5-cd0c-356892a6dea6",
        "colab": {
          "base_uri": "https://localhost:8080/",
          "height": 35
        }
      },
      "source": [
        "c = np.max(a)\n",
        "a - c"
      ],
      "execution_count": 0,
      "outputs": [
        {
          "output_type": "execute_result",
          "data": {
            "text/plain": [
              "array([  0, -10, -20])"
            ]
          },
          "metadata": {
            "tags": []
          },
          "execution_count": 62
        }
      ]
    },
    {
      "cell_type": "markdown",
      "metadata": {
        "id": "J_XZFb7muy6u",
        "colab_type": "text"
      },
      "source": [
        "올바르게 계산하기 위해 입력 신호 중 최댓값을 빼주었다."
      ]
    },
    {
      "cell_type": "code",
      "metadata": {
        "id": "HLgliirouxdL",
        "colab_type": "code",
        "outputId": "a4aeda48-31d6-48db-b635-4c944239ee62",
        "colab": {
          "base_uri": "https://localhost:8080/",
          "height": 35
        }
      },
      "source": [
        "np.exp(a-c)/np.sum(np.exp(a-c))"
      ],
      "execution_count": 0,
      "outputs": [
        {
          "output_type": "execute_result",
          "data": {
            "text/plain": [
              "array([9.99954600e-01, 4.53978686e-05, 2.06106005e-09])"
            ]
          },
          "metadata": {
            "tags": []
          },
          "execution_count": 63
        }
      ]
    },
    {
      "cell_type": "markdown",
      "metadata": {
        "id": "Kk32hW17u7Ef",
        "colab_type": "text"
      },
      "source": [
        "정상적으로 계산이 되는 것을 확인했다."
      ]
    },
    {
      "cell_type": "code",
      "metadata": {
        "id": "dw4yWKUYu6O5",
        "colab_type": "code",
        "colab": {}
      },
      "source": [
        "def softmax(a):\n",
        "  c = np.max(a)\n",
        "  exp_a = np.exp(a-c)\n",
        "  sum_exp_a = np.sum(exp_a)\n",
        "  y = exp_a / sum_exp_a\n",
        "  \n",
        "  return y"
      ],
      "execution_count": 0,
      "outputs": []
    },
    {
      "cell_type": "markdown",
      "metadata": {
        "id": "kGkRv5tDvLhk",
        "colab_type": "text"
      },
      "source": [
        "개선된 소프트맥스 함수를 다시 구현해보았다."
      ]
    },
    {
      "cell_type": "markdown",
      "metadata": {
        "id": "soH2dU2vvSnS",
        "colab_type": "text"
      },
      "source": [
        "### **3.5.3 소프트맥수 함수의 특징**"
      ]
    },
    {
      "cell_type": "code",
      "metadata": {
        "id": "KwbZ_VNHvKux",
        "colab_type": "code",
        "outputId": "3905bd54-501c-43fc-bf18-84715d3e0c93",
        "colab": {
          "base_uri": "https://localhost:8080/",
          "height": 35
        }
      },
      "source": [
        "a = np.array([0.3,2.9,4.0])\n",
        "y = softmax(a)\n",
        "print(y)"
      ],
      "execution_count": 0,
      "outputs": [
        {
          "output_type": "stream",
          "text": [
            "[0.01821127 0.24519181 0.73659691]\n"
          ],
          "name": "stdout"
        }
      ]
    },
    {
      "cell_type": "markdown",
      "metadata": {
        "id": "fF5LOEBWyabk",
        "colab_type": "text"
      },
      "source": [
        "softmax() 함수를 이용해 신경망의 출력을 계산했다. 소프트맥스 함수의 출력은 0에서 1.0 사이의 실수이다."
      ]
    },
    {
      "cell_type": "code",
      "metadata": {
        "id": "N1QELC0wyUdV",
        "colab_type": "code",
        "outputId": "88899848-9e8b-4ff7-e79a-1c01be2540d6",
        "colab": {
          "base_uri": "https://localhost:8080/",
          "height": 35
        }
      },
      "source": [
        "np.sum(y)"
      ],
      "execution_count": 0,
      "outputs": [
        {
          "output_type": "execute_result",
          "data": {
            "text/plain": [
              "1.0"
            ]
          },
          "metadata": {
            "tags": []
          },
          "execution_count": 68
        }
      ]
    },
    {
      "cell_type": "markdown",
      "metadata": {
        "id": "TcivALvWyh6l",
        "colab_type": "text"
      },
      "source": [
        "출력의 총합은 1이다. 이러한 성질 덕분에 소프트맥스 함수의 출력을 '확률'로 해석할 수 있다.\n",
        "___\n",
        "소프트맥스 함수를 적용해도 각 원소의 대소 관계는 변하지 않는다. 지수 함수 y=exp(x)가 단조 증가 함수이기 때문이다. 실제로 a에서 가장 큰 원소는 2번째 원소이고, y에서 가장 큰 원소도 마찬가지로 2번째 원소이다. \n",
        "___\n",
        "신경망을 이용한 분류에서는 일반적으로 가장 큰 출력을 내는 뉴런에 해당하는 클래스로만 인식한다. 그리고 소프트맥스 함수를 적용해도 출력이 가장 큰 뉴런의 위치는 달라지지 않는다. 그래서 신경망으로 분류할 때 지수 함수 계산에 드는 자원 낭비를 줄이고자 출력층의 소프트맥스 함수를 생략하는 것이 일반적이다.\n"
      ]
    },
    {
      "cell_type": "markdown",
      "metadata": {
        "id": "CZ8O25cuzwRm",
        "colab_type": "text"
      },
      "source": [
        "### **3.5.4 출력층의 뉴런 수 정하기**"
      ]
    },
    {
      "cell_type": "markdown",
      "metadata": {
        "id": "sWG738mxzzkk",
        "colab_type": "text"
      },
      "source": [
        "출력층의 뉴런 수는 풀려는 문제에 맞게 적절히 정해야 한다. 분류에서는 분류하고 싶은 클래스 수로 설정하는 것이 일반적이다."
      ]
    },
    {
      "cell_type": "markdown",
      "metadata": {
        "id": "y2h24a6d0HHp",
        "colab_type": "text"
      },
      "source": [
        "## **3.6 손글씨 숫자 인식**"
      ]
    },
    {
      "cell_type": "markdown",
      "metadata": {
        "id": "_Dez0xGa0T2z",
        "colab_type": "text"
      },
      "source": [
        "### **3.6.1 MNIST 데이터셋**"
      ]
    },
    {
      "cell_type": "code",
      "metadata": {
        "id": "f6nA2Z_E2yn8",
        "colab_type": "code",
        "colab": {}
      },
      "source": [
        ""
      ],
      "execution_count": 0,
      "outputs": []
    }
  ]
}