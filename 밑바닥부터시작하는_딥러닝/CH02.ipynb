{
  "nbformat": 4,
  "nbformat_minor": 0,
  "metadata": {
    "colab": {
      "name": "CH02_김민지.ipynb",
      "provenance": [],
      "collapsed_sections": []
    },
    "kernelspec": {
      "name": "python3",
      "display_name": "Python 3"
    }
  },
  "cells": [
    {
      "cell_type": "markdown",
      "metadata": {
        "id": "8VF2T0QUH93A",
        "colab_type": "text"
      },
      "source": [
        "# **Chapter 2 퍼셉트론**"
      ]
    },
    {
      "cell_type": "markdown",
      "metadata": {
        "id": "y_0CL3GHIIAA",
        "colab_type": "text"
      },
      "source": [
        "퍼셉트론 알고리즘은 신경망(딥러닝)의 기원이 되는 알고리즘이다."
      ]
    },
    {
      "cell_type": "markdown",
      "metadata": {
        "id": "Gy1qg1zNIIB4",
        "colab_type": "text"
      },
      "source": [
        "## **2.1 퍼셉트론이란?**"
      ]
    },
    {
      "cell_type": "markdown",
      "metadata": {
        "id": "9qbAVyG7IVRA",
        "colab_type": "text"
      },
      "source": [
        "퍼셉트론은 다수의 신호를 입력으로 받아 하나의 신호를 출력한다. 전류가 전선을 타고 흐르는 전자를 내보내듯, 퍼셉트론 신호도 흐름을 만들고 정보를 앞으로 전달한다. 퍼셉트론 신호는 '흐른다(1)' 또는 '안 흐른다(0)'의 두 가지 값을 가질 수 있다. \n",
        "\n",
        "입력 신호가 뉴런에 보내질 때는 각각 고유한 가중치가 곱해지게 되고, 뉴런에서 보내온 신호의 총합이 정해진 한계를 넘어설 때만 1을 출력하게 된다. (이를 '뉴런이 활성화한다'라고 표현하기도 한다.) 그 한계를 임계값이라고 하며 기호 θ로 나타낸다. 가중치는 각 신호가 결과에 주는 영향력을 조절하는 요소로 작용한다. 즉 가중치가 클수록 해당 신호가 그만큼 더 중요함을 의미한다."
      ]
    },
    {
      "cell_type": "markdown",
      "metadata": {
        "id": "INZ61rfXKcLw",
        "colab_type": "text"
      },
      "source": [
        "## **2.2 단순한 논리 회로**"
      ]
    },
    {
      "cell_type": "markdown",
      "metadata": {
        "id": "StesVgZrKg3s",
        "colab_type": "text"
      },
      "source": [
        "### **2.2.1 AND 게이트**"
      ]
    },
    {
      "cell_type": "markdown",
      "metadata": {
        "id": "q_DqxfzdKktq",
        "colab_type": "text"
      },
      "source": [
        "AND 게이트는 입력이 둘이고 출력이 하나이다. 두 입력이 모두 1일 때 1을 출력하고 그 외에는 0을 출력한다. "
      ]
    },
    {
      "cell_type": "markdown",
      "metadata": {
        "id": "Eq_JTzV6KsAz",
        "colab_type": "text"
      },
      "source": [
        "### **2.2.2 NAND 게이트와 OR 게이트**"
      ]
    },
    {
      "cell_type": "markdown",
      "metadata": {
        "id": "GJBUCItFKwbi",
        "colab_type": "text"
      },
      "source": [
        "NAND는 Not AND를 의미하며, AND 게이트의 출력을 뒤집은 것과 같다. 즉, 두 입력이 모두 1일 때 0을 출력하고 그 외에는 1을 출력한다.\n",
        "\n",
        "OR 게이트는 입력 신호 중 하나 이상이 1이면 출력이 1이 되는 논리 회로이다."
      ]
    },
    {
      "cell_type": "markdown",
      "metadata": {
        "id": "kOysTrURLAdz",
        "colab_type": "text"
      },
      "source": [
        "## **2.3 퍼셉트론 구현하기**"
      ]
    },
    {
      "cell_type": "markdown",
      "metadata": {
        "id": "R2Ep5LPHLHgS",
        "colab_type": "text"
      },
      "source": [
        "### **2.3.1 간단한 구현부터**"
      ]
    },
    {
      "cell_type": "code",
      "metadata": {
        "id": "vCs4BNojH6Cc",
        "colab_type": "code",
        "colab": {}
      },
      "source": [
        "def AND(x1, x2):\n",
        "  w1, w2, theta = 0.5, 0.5, 0.7\n",
        "  tmp = x1*w1 +x2*w2\n",
        "  if tmp <= theta:\n",
        "    return 0\n",
        "  elif tmp > theta:\n",
        "    return 1"
      ],
      "execution_count": 0,
      "outputs": []
    },
    {
      "cell_type": "markdown",
      "metadata": {
        "id": "k2MQsHjeLiV6",
        "colab_type": "text"
      },
      "source": [
        "매개변수 w1, w2, theta 는 함수 안에서 초기화하고, 가중치를 곱한 입력의 총합이 임계값을 넘으면 1을 반환하고 그 외에는 0을 반환하는 함수를 만들었다."
      ]
    },
    {
      "cell_type": "code",
      "metadata": {
        "id": "tgSKQT9ELcua",
        "colab_type": "code",
        "outputId": "14970df4-f743-4bcc-f9ce-e06a440bc3c9",
        "colab": {
          "base_uri": "https://localhost:8080/",
          "height": 35
        }
      },
      "source": [
        "AND(0,0)"
      ],
      "execution_count": 0,
      "outputs": [
        {
          "output_type": "execute_result",
          "data": {
            "text/plain": [
              "0"
            ]
          },
          "metadata": {
            "tags": []
          },
          "execution_count": 4
        }
      ]
    },
    {
      "cell_type": "code",
      "metadata": {
        "id": "0l8Aeuv7L0Q3",
        "colab_type": "code",
        "outputId": "583d2de6-feeb-497b-9207-fea624d448f5",
        "colab": {
          "base_uri": "https://localhost:8080/",
          "height": 35
        }
      },
      "source": [
        "AND(1,0)"
      ],
      "execution_count": 0,
      "outputs": [
        {
          "output_type": "execute_result",
          "data": {
            "text/plain": [
              "0"
            ]
          },
          "metadata": {
            "tags": []
          },
          "execution_count": 5
        }
      ]
    },
    {
      "cell_type": "code",
      "metadata": {
        "id": "4P13p9YEL3vv",
        "colab_type": "code",
        "outputId": "a528cbf5-a334-4cf8-de78-db2992f94546",
        "colab": {
          "base_uri": "https://localhost:8080/",
          "height": 35
        }
      },
      "source": [
        "AND(0,1)"
      ],
      "execution_count": 0,
      "outputs": [
        {
          "output_type": "execute_result",
          "data": {
            "text/plain": [
              "0"
            ]
          },
          "metadata": {
            "tags": []
          },
          "execution_count": 6
        }
      ]
    },
    {
      "cell_type": "code",
      "metadata": {
        "id": "054BOG-KL5ez",
        "colab_type": "code",
        "outputId": "726e4849-1607-4997-9fa7-6562c5bfc2a6",
        "colab": {
          "base_uri": "https://localhost:8080/",
          "height": 35
        }
      },
      "source": [
        "AND(1,1)"
      ],
      "execution_count": 0,
      "outputs": [
        {
          "output_type": "execute_result",
          "data": {
            "text/plain": [
              "1"
            ]
          },
          "metadata": {
            "tags": []
          },
          "execution_count": 7
        }
      ]
    },
    {
      "cell_type": "markdown",
      "metadata": {
        "id": "EaiWphx2L66r",
        "colab_type": "text"
      },
      "source": [
        "AND 게이트가 제대로 구현되었음을 알 수 있다."
      ]
    },
    {
      "cell_type": "markdown",
      "metadata": {
        "id": "wwK5HHVVMHFq",
        "colab_type": "text"
      },
      "source": [
        "### **2.3.2 가중치와 편향 도입**"
      ]
    },
    {
      "cell_type": "markdown",
      "metadata": {
        "id": "y9qbsPaTMgXV",
        "colab_type": "text"
      },
      "source": [
        "w1x1 + w2x2 > θ 이면 1을 출력하게 되어있는데, 여기서 θ를 -b로 치환하면 b+ w1x1 + w2x2 > 0 이렇게 된다. 여기에서 b를 편향이라고 한다. 즉 퍼셉트론은 입력 신호에 가중치를 곱한 값과 편향을 합하여, 그 값이 0을 넘으면 1을 출력하고 그렇지 않으면 0을 출력한다. "
      ]
    },
    {
      "cell_type": "code",
      "metadata": {
        "id": "Pki-buMEL6KM",
        "colab_type": "code",
        "colab": {}
      },
      "source": [
        "import numpy as np\n",
        "x=np.array([0,1]) #입력\n",
        "w=np.array([0.5,0.5]) #가중치\n",
        "b=-0.7 #편향"
      ],
      "execution_count": 0,
      "outputs": []
    },
    {
      "cell_type": "code",
      "metadata": {
        "id": "oqi1UehvNN22",
        "colab_type": "code",
        "outputId": "a17df203-a625-4679-ecc2-495f7f57f463",
        "colab": {
          "base_uri": "https://localhost:8080/",
          "height": 35
        }
      },
      "source": [
        "w*x"
      ],
      "execution_count": 0,
      "outputs": [
        {
          "output_type": "execute_result",
          "data": {
            "text/plain": [
              "array([0. , 0.5])"
            ]
          },
          "metadata": {
            "tags": []
          },
          "execution_count": 9
        }
      ]
    },
    {
      "cell_type": "code",
      "metadata": {
        "id": "r_zcdK_jNOuZ",
        "colab_type": "code",
        "outputId": "7776a4d2-174f-46b4-c05e-423aefe59f57",
        "colab": {
          "base_uri": "https://localhost:8080/",
          "height": 35
        }
      },
      "source": [
        "np.sum(w*x)"
      ],
      "execution_count": 0,
      "outputs": [
        {
          "output_type": "execute_result",
          "data": {
            "text/plain": [
              "0.5"
            ]
          },
          "metadata": {
            "tags": []
          },
          "execution_count": 10
        }
      ]
    },
    {
      "cell_type": "code",
      "metadata": {
        "id": "ynLxpfPMNRCl",
        "colab_type": "code",
        "outputId": "689057d6-ee7c-4273-9376-4470ed12e61d",
        "colab": {
          "base_uri": "https://localhost:8080/",
          "height": 35
        }
      },
      "source": [
        "np.sum(w*x)+b"
      ],
      "execution_count": 0,
      "outputs": [
        {
          "output_type": "execute_result",
          "data": {
            "text/plain": [
              "-0.19999999999999996"
            ]
          },
          "metadata": {
            "tags": []
          },
          "execution_count": 12
        }
      ]
    },
    {
      "cell_type": "markdown",
      "metadata": {
        "id": "muI5iLPZNljR",
        "colab_type": "text"
      },
      "source": [
        "위의 방식대로 가중치와 편향을 도입하여 구현해보았다."
      ]
    },
    {
      "cell_type": "markdown",
      "metadata": {
        "id": "rozIHHSDNtpH",
        "colab_type": "text"
      },
      "source": [
        "### **2.3.3 가중치와 편향 구현하기**"
      ]
    },
    {
      "cell_type": "code",
      "metadata": {
        "id": "uRX6lDJVNVt9",
        "colab_type": "code",
        "colab": {}
      },
      "source": [
        "def AND(x1,x2):\n",
        "  x=np.array([x1,x2]) \n",
        "  w=np.array([0.5,0.5]) \n",
        "  b=-0.7\n",
        "  tmp=np.sum(w*x)+b\n",
        "  if tmp<=0:\n",
        "    return 0\n",
        "  else:\n",
        "    return 1"
      ],
      "execution_count": 0,
      "outputs": []
    },
    {
      "cell_type": "markdown",
      "metadata": {
        "id": "q8AQFBwVOoSe",
        "colab_type": "text"
      },
      "source": [
        "가중치와 편향을 도입한 AND 게이트를 구현했다.\n",
        "\n",
        "가중치는 각 입력 신호가 결과에 주는 영향력(중요도)을 조절하는 매개변수인 반면 편향은 뉴런이 얼마나 쉽게 활성화(결과로 1을 출력)하느냐를 조정하는 매개변수이다."
      ]
    },
    {
      "cell_type": "code",
      "metadata": {
        "id": "AitaOSM5OnYc",
        "colab_type": "code",
        "colab": {}
      },
      "source": [
        "def NAND(x1,x2):\n",
        "  x=np.array([x1,x2])\n",
        "  w=np.array([-0.5,-0.5]) #AND 게이트와 가중치와 편향만 다름\n",
        "  b=0.7\n",
        "  tmp=np.sum(w*x)+b\n",
        "  if tmp<=0:\n",
        "    return 0\n",
        "  else:\n",
        "    return 1"
      ],
      "execution_count": 0,
      "outputs": []
    },
    {
      "cell_type": "markdown",
      "metadata": {
        "id": "LNjg2NoSPulB",
        "colab_type": "text"
      },
      "source": [
        "NAND 게이트를 구현했다."
      ]
    },
    {
      "cell_type": "code",
      "metadata": {
        "id": "4fchka4GWTFv",
        "colab_type": "code",
        "outputId": "106c8c17-dd0e-436e-9a37-957f405a8742",
        "colab": {
          "base_uri": "https://localhost:8080/",
          "height": 35
        }
      },
      "source": [
        "NAND(0,0)"
      ],
      "execution_count": 0,
      "outputs": [
        {
          "output_type": "execute_result",
          "data": {
            "text/plain": [
              "1"
            ]
          },
          "metadata": {
            "tags": []
          },
          "execution_count": 42
        }
      ]
    },
    {
      "cell_type": "code",
      "metadata": {
        "id": "3yG3G-4HWo0Q",
        "colab_type": "code",
        "outputId": "0c063d02-1517-49e0-f6d4-21e5d7b85ce6",
        "colab": {
          "base_uri": "https://localhost:8080/",
          "height": 35
        }
      },
      "source": [
        "NAND(0,1)"
      ],
      "execution_count": 0,
      "outputs": [
        {
          "output_type": "execute_result",
          "data": {
            "text/plain": [
              "1"
            ]
          },
          "metadata": {
            "tags": []
          },
          "execution_count": 43
        }
      ]
    },
    {
      "cell_type": "code",
      "metadata": {
        "id": "O8mxoMCAWsIA",
        "colab_type": "code",
        "outputId": "c4759ddd-10c8-40f6-b8d7-d2687d706505",
        "colab": {
          "base_uri": "https://localhost:8080/",
          "height": 35
        }
      },
      "source": [
        "NAND(1,0)"
      ],
      "execution_count": 0,
      "outputs": [
        {
          "output_type": "execute_result",
          "data": {
            "text/plain": [
              "1"
            ]
          },
          "metadata": {
            "tags": []
          },
          "execution_count": 44
        }
      ]
    },
    {
      "cell_type": "code",
      "metadata": {
        "id": "qKd8lanSWu0G",
        "colab_type": "code",
        "outputId": "f29e8179-35ba-4386-c627-11a798b30425",
        "colab": {
          "base_uri": "https://localhost:8080/",
          "height": 35
        }
      },
      "source": [
        "NAND(1,1)"
      ],
      "execution_count": 0,
      "outputs": [
        {
          "output_type": "execute_result",
          "data": {
            "text/plain": [
              "0"
            ]
          },
          "metadata": {
            "tags": []
          },
          "execution_count": 45
        }
      ]
    },
    {
      "cell_type": "code",
      "metadata": {
        "id": "bEYbOO0pPsjw",
        "colab_type": "code",
        "colab": {}
      },
      "source": [
        "def OR(x1,x2):\n",
        "  x=np.array([x1,x2])\n",
        "  w=np.array([0.5,0.5]) \n",
        "  b=-0.2 #AND 게이트와 편향만 다름\n",
        "  tmp=np.sum(w*x)+b\n",
        "  if tmp<=0:\n",
        "    return 0\n",
        "  else:\n",
        "    return 1"
      ],
      "execution_count": 0,
      "outputs": []
    },
    {
      "cell_type": "markdown",
      "metadata": {
        "id": "rhVNLsAqQFW8",
        "colab_type": "text"
      },
      "source": [
        "OR 게이트를 구현했다."
      ]
    },
    {
      "cell_type": "code",
      "metadata": {
        "id": "c1rLA6-uWJrW",
        "colab_type": "code",
        "outputId": "801942e7-6b6d-46ef-e96c-58d0914631ee",
        "colab": {
          "base_uri": "https://localhost:8080/",
          "height": 35
        }
      },
      "source": [
        "OR(0,0)"
      ],
      "execution_count": 0,
      "outputs": [
        {
          "output_type": "execute_result",
          "data": {
            "text/plain": [
              "0"
            ]
          },
          "metadata": {
            "tags": []
          },
          "execution_count": 36
        }
      ]
    },
    {
      "cell_type": "code",
      "metadata": {
        "id": "9rRQk4UhWMYp",
        "colab_type": "code",
        "outputId": "dfeb4796-77a3-4fd9-9fcb-388dba97d189",
        "colab": {
          "base_uri": "https://localhost:8080/",
          "height": 35
        }
      },
      "source": [
        "OR(0,1)"
      ],
      "execution_count": 0,
      "outputs": [
        {
          "output_type": "execute_result",
          "data": {
            "text/plain": [
              "1"
            ]
          },
          "metadata": {
            "tags": []
          },
          "execution_count": 37
        }
      ]
    },
    {
      "cell_type": "code",
      "metadata": {
        "id": "oqV_wiSKWOby",
        "colab_type": "code",
        "outputId": "d04e7633-489d-401f-f331-cbe35cc96534",
        "colab": {
          "base_uri": "https://localhost:8080/",
          "height": 35
        }
      },
      "source": [
        "OR(1,0)"
      ],
      "execution_count": 0,
      "outputs": [
        {
          "output_type": "execute_result",
          "data": {
            "text/plain": [
              "1"
            ]
          },
          "metadata": {
            "tags": []
          },
          "execution_count": 38
        }
      ]
    },
    {
      "cell_type": "code",
      "metadata": {
        "id": "jdR9KSNSWQBI",
        "colab_type": "code",
        "outputId": "b91abab4-5f92-4285-b018-9bc61e57e51c",
        "colab": {
          "base_uri": "https://localhost:8080/",
          "height": 35
        }
      },
      "source": [
        "OR(1,1)"
      ],
      "execution_count": 0,
      "outputs": [
        {
          "output_type": "execute_result",
          "data": {
            "text/plain": [
              "1"
            ]
          },
          "metadata": {
            "tags": []
          },
          "execution_count": 39
        }
      ]
    },
    {
      "cell_type": "markdown",
      "metadata": {
        "id": "eQg6oChxQMau",
        "colab_type": "text"
      },
      "source": [
        "## **2.4 퍼셉트론의 한계**"
      ]
    },
    {
      "cell_type": "markdown",
      "metadata": {
        "id": "f8sPapUPQR91",
        "colab_type": "text"
      },
      "source": [
        "### **2.4.1 도전! XOR 게이트**"
      ]
    },
    {
      "cell_type": "markdown",
      "metadata": {
        "id": "1t85SuNXQZT8",
        "colab_type": "text"
      },
      "source": [
        "XOR 게이트는 배타적 논리합이라는 논리 회로이다. x1과 x2 중 한쪽이 1일 때만 1을 출력한다. 지금까지 본 퍼셉트론으로는 XOR 게이트를 구현할 수 없다. XOR 게이트의 출력을 좌표평면에 나타낸 뒤 직선 하나로 출력 0과 출력 1을 나누는 영역을 만드는 것은 불가능하다."
      ]
    },
    {
      "cell_type": "markdown",
      "metadata": {
        "id": "Md56CZceTk8R",
        "colab_type": "text"
      },
      "source": [
        "### **2.4.2 선형과 비선형**"
      ]
    },
    {
      "cell_type": "markdown",
      "metadata": {
        "id": "Iz-cegB6Tr31",
        "colab_type": "text"
      },
      "source": [
        "만약 '직선'이라는 제약을 없앤다면 곡선을 가지고 출력0과 출력1을 나누는 영역을 만들 수 있다. 퍼셉트론은 직선 하나로 나눈 영역만 표현할 수 있다는 한계가 있다.\n",
        "\n",
        "곡선의 영역을 비선형 영역, 직선의 영역을 선형 영역이라고 부른다."
      ]
    },
    {
      "cell_type": "markdown",
      "metadata": {
        "id": "Vn3OBlOKT8ds",
        "colab_type": "text"
      },
      "source": [
        "## **2.5 다층 퍼셉트론이 출동한다면**"
      ]
    },
    {
      "cell_type": "markdown",
      "metadata": {
        "id": "PnUfhaJ4UUp0",
        "colab_type": "text"
      },
      "source": [
        "퍼셉트론 층을 여러 개 쌓으면 다층 퍼셉트론을 만들 수 있다. 층을 하나만 더 추가하면 XOR을 표현할 수도 있게 된다."
      ]
    },
    {
      "cell_type": "markdown",
      "metadata": {
        "id": "D-98_jnyU5lk",
        "colab_type": "text"
      },
      "source": [
        "### **2.5.1 기존 게이트 조합하기**"
      ]
    },
    {
      "cell_type": "markdown",
      "metadata": {
        "id": "R4us_0sSU_E8",
        "colab_type": "text"
      },
      "source": [
        "AND,NAND,OR 게이트를 조합하여 XOR 게이트를 만들 수 있다."
      ]
    },
    {
      "cell_type": "markdown",
      "metadata": {
        "id": "BrWxB6YWVFuz",
        "colab_type": "text"
      },
      "source": [
        "### **2.5.2 XOR 게이트 구현하기**"
      ]
    },
    {
      "cell_type": "code",
      "metadata": {
        "id": "qIBOrRO1QEVd",
        "colab_type": "code",
        "colab": {}
      },
      "source": [
        "def XOR(x1,x2):\n",
        "  s1=NAND(x1,x2)\n",
        "  s2=OR(x1,x2)\n",
        "  y=AND(s1,s2)\n",
        "  return y"
      ],
      "execution_count": 0,
      "outputs": []
    },
    {
      "cell_type": "code",
      "metadata": {
        "id": "ipuB4bJLVTvr",
        "colab_type": "code",
        "outputId": "58731ca7-0062-49ae-ad24-dc07643da411",
        "colab": {
          "base_uri": "https://localhost:8080/",
          "height": 35
        }
      },
      "source": [
        "XOR(0,0)"
      ],
      "execution_count": 0,
      "outputs": [
        {
          "output_type": "execute_result",
          "data": {
            "text/plain": [
              "0"
            ]
          },
          "metadata": {
            "tags": []
          },
          "execution_count": 47
        }
      ]
    },
    {
      "cell_type": "code",
      "metadata": {
        "id": "os-p8S3jVVZu",
        "colab_type": "code",
        "outputId": "e8c6c551-1ec9-46e7-e4b5-3cd334c8ca13",
        "colab": {
          "base_uri": "https://localhost:8080/",
          "height": 35
        }
      },
      "source": [
        "XOR(1,0)"
      ],
      "execution_count": 0,
      "outputs": [
        {
          "output_type": "execute_result",
          "data": {
            "text/plain": [
              "1"
            ]
          },
          "metadata": {
            "tags": []
          },
          "execution_count": 48
        }
      ]
    },
    {
      "cell_type": "code",
      "metadata": {
        "id": "syg2tdKEVkKm",
        "colab_type": "code",
        "outputId": "04eba210-ea70-4569-9b6d-5fa5c6388506",
        "colab": {
          "base_uri": "https://localhost:8080/",
          "height": 35
        }
      },
      "source": [
        "XOR(0,1)"
      ],
      "execution_count": 0,
      "outputs": [
        {
          "output_type": "execute_result",
          "data": {
            "text/plain": [
              "1"
            ]
          },
          "metadata": {
            "tags": []
          },
          "execution_count": 49
        }
      ]
    },
    {
      "cell_type": "code",
      "metadata": {
        "id": "CfzcKAPYVpOR",
        "colab_type": "code",
        "outputId": "a867d5b0-c3e9-4926-eaf5-288fc246085b",
        "colab": {
          "base_uri": "https://localhost:8080/",
          "height": 35
        }
      },
      "source": [
        "XOR(1,1)"
      ],
      "execution_count": 0,
      "outputs": [
        {
          "output_type": "execute_result",
          "data": {
            "text/plain": [
              "0"
            ]
          },
          "metadata": {
            "tags": []
          },
          "execution_count": 50
        }
      ]
    },
    {
      "cell_type": "markdown",
      "metadata": {
        "id": "9FLiihB5W3P3",
        "colab_type": "text"
      },
      "source": [
        "지금까지 정의한 NAND, OR, AND 함수를 이용하여 XOR 게이트를 성공적으로 구현했다."
      ]
    },
    {
      "cell_type": "markdown",
      "metadata": {
        "id": "EulB1EFmXhJx",
        "colab_type": "text"
      },
      "source": [
        "## **2.6 NAND에서 컴퓨터까지**"
      ]
    },
    {
      "cell_type": "markdown",
      "metadata": {
        "id": "VujIsVYPXlwV",
        "colab_type": "text"
      },
      "source": [
        "NAND 게이트의 조합만으로도 컴퓨터가 수행하는 일을 재현할 수 있다. 이론상으로는 2층 퍼셉트론이면 컴퓨터를 만들 수 있다고 한다."
      ]
    },
    {
      "cell_type": "code",
      "metadata": {
        "id": "MtUKCuM5Vqzh",
        "colab_type": "code",
        "colab": {}
      },
      "source": [
        ""
      ],
      "execution_count": 0,
      "outputs": []
    }
  ]
}