{
  "nbformat": 4,
  "nbformat_minor": 0,
  "metadata": {
    "colab": {
      "name": "Chapter 10.ipynb",
      "provenance": [],
      "collapsed_sections": []
    },
    "kernelspec": {
      "name": "python3",
      "display_name": "Python 3"
    }
  },
  "cells": [
    {
      "cell_type": "markdown",
      "metadata": {
        "id": "fXi2nNLwy-WK",
        "colab_type": "text"
      },
      "source": [
        "# Chapter 10 인공 신경망 소개"
      ]
    },
    {
      "cell_type": "markdown",
      "metadata": {
        "id": "96O6VaGfzDDp",
        "colab_type": "text"
      },
      "source": [
        "이전 부분은 교재 참고"
      ]
    },
    {
      "cell_type": "markdown",
      "metadata": {
        "id": "eiA-DESXzJlG",
        "colab_type": "text"
      },
      "source": [
        "### 10.1.3 퍼셉트론"
      ]
    },
    {
      "cell_type": "code",
      "metadata": {
        "id": "amc4bv4Uy5fk",
        "colab_type": "code",
        "colab": {}
      },
      "source": [
        "import numpy as np\n",
        "from sklearn.datasets import load_iris\n",
        "from sklearn.linear_model import Perceptron\n",
        "\n",
        "iris = load_iris()\n",
        "X = iris.data[:,(2,3)] #꽃잎의 길이와 너비\n",
        "y = (iris.target==0).astype(np.int) #부채붓꽃(Iris Setosa)인가?\n",
        "\n",
        "per_clf = Perceptron(random_state=42)\n",
        "per_clf.fit(X,y)\n",
        "\n",
        "y_pred = per_clf.predict([[2,0.5]])"
      ],
      "execution_count": 0,
      "outputs": []
    },
    {
      "cell_type": "markdown",
      "metadata": {
        "id": "0x8FJY4Ez2Wx",
        "colab_type": "text"
      },
      "source": [
        "사이킷런에서 제공하는 Perceptron 클래스(하나의 TLU 네트워크를 구현함)를 이용했다."
      ]
    },
    {
      "cell_type": "markdown",
      "metadata": {
        "id": "Sk6KCIa80H8i",
        "colab_type": "text"
      },
      "source": [
        "## 10.2 텐서플로의 고수준 API로 다층 퍼셉트론 훈련하기"
      ]
    },
    {
      "cell_type": "markdown",
      "metadata": {
        "id": "Tadr5U1T0Qea",
        "colab_type": "text"
      },
      "source": [
        "텐서플로로 다층 퍼셉트론(MLP)을 훈련시키는 가장 간단한 방법은 사이컷런과 호환되는 고수준 API인 TF.Learn을 사용하는 것이다. "
      ]
    },
    {
      "cell_type": "code",
      "metadata": {
        "id": "aWOXFLQazsmJ",
        "colab_type": "code",
        "colab": {
          "base_uri": "https://localhost:8080/",
          "height": 65
        },
        "outputId": "9414df21-0ca1-4a1c-b8de-683df3a03068"
      },
      "source": [
        "import tensorflow as tf"
      ],
      "execution_count": 2,
      "outputs": [
        {
          "output_type": "display_data",
          "data": {
            "text/html": [
              "<p style=\"color: red;\">\n",
              "The default version of TensorFlow in Colab will soon switch to TensorFlow 2.x.<br>\n",
              "We recommend you <a href=\"https://www.tensorflow.org/guide/migrate\" target=\"_blank\">upgrade</a> now \n",
              "or ensure your notebook will continue to use TensorFlow 1.x via the <code>%tensorflow_version 1.x</code> magic:\n",
              "<a href=\"https://colab.research.google.com/notebooks/tensorflow_version.ipynb\" target=\"_blank\">more info</a>.</p>\n"
            ],
            "text/plain": [
              "<IPython.core.display.HTML object>"
            ]
          },
          "metadata": {
            "tags": []
          }
        }
      ]
    },
    {
      "cell_type": "code",
      "metadata": {
        "id": "EVQfWjLq1fHH",
        "colab_type": "code",
        "colab": {
          "base_uri": "https://localhost:8080/",
          "height": 55
        },
        "outputId": "b26fb04c-065c-456e-8035-8e878b08e551"
      },
      "source": [
        "(X_train, y_train), (X_test, y_test) = tf.keras.datasets.mnist.load_data()\n",
        "X_train = X_train.astype(np.float32).reshape(-1, 28*28) / 255.0\n",
        "X_test = X_test.astype(np.float32).reshape(-1, 28*28) / 255.0\n",
        "y_train = y_train.astype(np.int32)\n",
        "y_test = y_test.astype(np.int32)\n",
        "X_valid, X_train = X_train[:5000], X_train[5000:]\n",
        "y_valid, y_train = y_train[:5000], y_train[5000:]"
      ],
      "execution_count": 4,
      "outputs": [
        {
          "output_type": "stream",
          "text": [
            "Downloading data from https://storage.googleapis.com/tensorflow/tf-keras-datasets/mnist.npz\n",
            "11493376/11490434 [==============================] - 0s 0us/step\n"
          ],
          "name": "stdout"
        }
      ]
    },
    {
      "cell_type": "code",
      "metadata": {
        "id": "mwtL9Rko0gKR",
        "colab_type": "code",
        "colab": {
          "base_uri": "https://localhost:8080/",
          "height": 1000
        },
        "outputId": "ef91bbe0-b640-42da-e880-c063d5ff0fe1"
      },
      "source": [
        "feature_cols = tf.contrib.learn.infer_real_valued_columns_from_input(X_train)\n",
        "dnn_clf = tf.contrib.learn.DNNClassifier(hidden_units=[300,100],n_classes=10,feature_columns=feature_cols) \n",
        "dnn_clf = tf.contrib.learn.SKCompat(dnn_clf)\n",
        "dnn_clf.fit(X_train,y_train,batch_size=50,steps=40000)"
      ],
      "execution_count": 5,
      "outputs": [
        {
          "output_type": "stream",
          "text": [
            "WARNING:tensorflow:From <ipython-input-5-a914d0223b9c>:1: infer_real_valued_columns_from_input (from tensorflow.contrib.learn.python.learn.estimators.estimator) is deprecated and will be removed in a future version.\n",
            "Instructions for updating:\n",
            "Please specify feature columns explicitly.\n",
            "WARNING:tensorflow:From /usr/local/lib/python3.6/dist-packages/tensorflow_core/contrib/learn/python/learn/estimators/estimator.py:143: setup_train_data_feeder (from tensorflow.contrib.learn.python.learn.learn_io.data_feeder) is deprecated and will be removed in a future version.\n",
            "Instructions for updating:\n",
            "Please use tensorflow/transform or tf.data.\n",
            "WARNING:tensorflow:From /usr/local/lib/python3.6/dist-packages/tensorflow_core/contrib/learn/python/learn/learn_io/data_feeder.py:96: extract_dask_data (from tensorflow.contrib.learn.python.learn.learn_io.dask_io) is deprecated and will be removed in a future version.\n",
            "Instructions for updating:\n",
            "Please feed input to tf.data to support dask.\n",
            "WARNING:tensorflow:From /usr/local/lib/python3.6/dist-packages/tensorflow_core/contrib/learn/python/learn/learn_io/data_feeder.py:100: extract_pandas_data (from tensorflow.contrib.learn.python.learn.learn_io.pandas_io) is deprecated and will be removed in a future version.\n",
            "Instructions for updating:\n",
            "Please access pandas data directly.\n",
            "WARNING:tensorflow:From /usr/local/lib/python3.6/dist-packages/tensorflow_core/contrib/learn/python/learn/learn_io/data_feeder.py:159: DataFeeder.__init__ (from tensorflow.contrib.learn.python.learn.learn_io.data_feeder) is deprecated and will be removed in a future version.\n",
            "Instructions for updating:\n",
            "Please use tensorflow/transform or tf.data.\n",
            "WARNING:tensorflow:From /usr/local/lib/python3.6/dist-packages/tensorflow_core/contrib/learn/python/learn/learn_io/data_feeder.py:340: check_array (from tensorflow.contrib.learn.python.learn.learn_io.data_feeder) is deprecated and will be removed in a future version.\n",
            "Instructions for updating:\n",
            "Please convert numpy dtypes explicitly.\n",
            "WARNING:tensorflow:From /usr/local/lib/python3.6/dist-packages/tensorflow_core/contrib/learn/python/learn/estimators/estimator.py:183: infer_real_valued_columns_from_input_fn (from tensorflow.contrib.learn.python.learn.estimators.estimator) is deprecated and will be removed in a future version.\n",
            "Instructions for updating:\n",
            "Please specify feature columns explicitly.\n",
            "WARNING:tensorflow:From /usr/local/lib/python3.6/dist-packages/tensorflow_core/contrib/learn/python/learn/estimators/dnn.py:378: multi_class_head (from tensorflow.contrib.learn.python.learn.estimators.head) is deprecated and will be removed in a future version.\n",
            "Instructions for updating:\n",
            "Please switch to tf.contrib.estimator.*_head.\n",
            "WARNING:tensorflow:From /usr/local/lib/python3.6/dist-packages/tensorflow_core/contrib/learn/python/learn/estimators/estimator.py:1180: BaseEstimator.__init__ (from tensorflow.contrib.learn.python.learn.estimators.estimator) is deprecated and will be removed in a future version.\n",
            "Instructions for updating:\n",
            "Please replace uses of any Estimator from tf.contrib.learn with an Estimator from tf.estimator.*\n",
            "WARNING:tensorflow:From /usr/local/lib/python3.6/dist-packages/tensorflow_core/contrib/learn/python/learn/estimators/estimator.py:427: RunConfig.__init__ (from tensorflow.contrib.learn.python.learn.estimators.run_config) is deprecated and will be removed in a future version.\n",
            "Instructions for updating:\n",
            "When switching to tf.estimator.Estimator, use tf.estimator.RunConfig instead.\n",
            "INFO:tensorflow:Using default config.\n",
            "WARNING:tensorflow:Using temporary folder as model directory: /tmp/tmp4vgz18qc\n",
            "INFO:tensorflow:Using config: {'_task_type': None, '_task_id': 0, '_cluster_spec': <tensorflow.python.training.server_lib.ClusterSpec object at 0x7fa061df28d0>, '_master': '', '_num_ps_replicas': 0, '_num_worker_replicas': 0, '_environment': 'local', '_is_chief': True, '_evaluation_master': '', '_train_distribute': None, '_eval_distribute': None, '_experimental_max_worker_delay_secs': None, '_device_fn': None, '_tf_config': gpu_options {\n",
            "  per_process_gpu_memory_fraction: 1.0\n",
            "}\n",
            ", '_tf_random_seed': None, '_save_summary_steps': 100, '_save_checkpoints_secs': 600, '_log_step_count_steps': 100, '_protocol': None, '_session_config': None, '_save_checkpoints_steps': None, '_keep_checkpoint_max': 5, '_keep_checkpoint_every_n_hours': 10000, '_model_dir': '/tmp/tmp4vgz18qc', '_session_creation_timeout_secs': 7200}\n",
            "WARNING:tensorflow:From <ipython-input-5-a914d0223b9c>:3: SKCompat.__init__ (from tensorflow.contrib.learn.python.learn.estimators.estimator) is deprecated and will be removed in a future version.\n",
            "Instructions for updating:\n",
            "Please switch to the Estimator interface.\n",
            "WARNING:tensorflow:From /usr/local/lib/python3.6/dist-packages/tensorflow_core/contrib/learn/python/learn/learn_io/data_feeder.py:98: extract_dask_labels (from tensorflow.contrib.learn.python.learn.learn_io.dask_io) is deprecated and will be removed in a future version.\n",
            "Instructions for updating:\n",
            "Please feed input to tf.data to support dask.\n",
            "WARNING:tensorflow:From /usr/local/lib/python3.6/dist-packages/tensorflow_core/contrib/learn/python/learn/learn_io/data_feeder.py:102: extract_pandas_labels (from tensorflow.contrib.learn.python.learn.learn_io.pandas_io) is deprecated and will be removed in a future version.\n",
            "Instructions for updating:\n",
            "Please access pandas data directly.\n",
            "WARNING:tensorflow:From /usr/local/lib/python3.6/dist-packages/tensorflow_core/python/training/training_util.py:236: Variable.initialized_value (from tensorflow.python.ops.variables) is deprecated and will be removed in a future version.\n",
            "Instructions for updating:\n",
            "Use Variable.read_value. Variables in 2.X are initialized automatically both in eager and graph (inside tf.defun) contexts.\n",
            "WARNING:tensorflow:From /usr/local/lib/python3.6/dist-packages/tensorflow_core/contrib/layers/python/layers/layers.py:1866: Layer.apply (from tensorflow.python.keras.engine.base_layer) is deprecated and will be removed in a future version.\n",
            "Instructions for updating:\n",
            "Please use `layer.__call__` method instead.\n",
            "WARNING:tensorflow:From /usr/local/lib/python3.6/dist-packages/tensorflow_core/python/training/adagrad.py:76: calling Constant.__init__ (from tensorflow.python.ops.init_ops) with dtype is deprecated and will be removed in a future version.\n",
            "Instructions for updating:\n",
            "Call initializer instance with the dtype argument instead of passing it to the constructor\n",
            "WARNING:tensorflow:From /usr/local/lib/python3.6/dist-packages/tensorflow_core/contrib/learn/python/learn/estimators/head.py:678: ModelFnOps.__new__ (from tensorflow.contrib.learn.python.learn.estimators.model_fn) is deprecated and will be removed in a future version.\n",
            "Instructions for updating:\n",
            "When switching to tf.estimator.Estimator, use tf.estimator.EstimatorSpec. You can use the `estimator_spec` method to create an equivalent one.\n",
            "INFO:tensorflow:Create CheckpointSaverHook.\n",
            "WARNING:tensorflow:From /usr/local/lib/python3.6/dist-packages/tensorflow_core/python/ops/array_ops.py:1475: where (from tensorflow.python.ops.array_ops) is deprecated and will be removed in a future version.\n",
            "Instructions for updating:\n",
            "Use tf.where in 2.0, which has the same broadcast rule as np.where\n",
            "INFO:tensorflow:Graph was finalized.\n",
            "INFO:tensorflow:Running local_init_op.\n",
            "INFO:tensorflow:Done running local_init_op.\n",
            "INFO:tensorflow:Saving checkpoints for 0 into /tmp/tmp4vgz18qc/model.ckpt.\n",
            "INFO:tensorflow:loss = 2.309527, step = 1\n",
            "INFO:tensorflow:global_step/sec: 234.198\n",
            "INFO:tensorflow:loss = 0.39197204, step = 101 (0.428 sec)\n",
            "INFO:tensorflow:global_step/sec: 246.6\n",
            "INFO:tensorflow:loss = 0.2899147, step = 201 (0.406 sec)\n",
            "INFO:tensorflow:global_step/sec: 260.924\n",
            "INFO:tensorflow:loss = 0.37110713, step = 301 (0.385 sec)\n",
            "INFO:tensorflow:global_step/sec: 266.943\n",
            "INFO:tensorflow:loss = 0.19372866, step = 401 (0.376 sec)\n",
            "INFO:tensorflow:global_step/sec: 239.055\n",
            "INFO:tensorflow:loss = 0.2574569, step = 501 (0.414 sec)\n",
            "INFO:tensorflow:global_step/sec: 248.633\n",
            "INFO:tensorflow:loss = 0.063247986, step = 601 (0.404 sec)\n",
            "INFO:tensorflow:global_step/sec: 267.129\n",
            "INFO:tensorflow:loss = 0.13487756, step = 701 (0.372 sec)\n",
            "INFO:tensorflow:global_step/sec: 268.982\n",
            "INFO:tensorflow:loss = 0.17176397, step = 801 (0.371 sec)\n",
            "INFO:tensorflow:global_step/sec: 271.689\n",
            "INFO:tensorflow:loss = 0.12878104, step = 901 (0.368 sec)\n",
            "INFO:tensorflow:global_step/sec: 265.79\n",
            "INFO:tensorflow:loss = 0.18514414, step = 1001 (0.377 sec)\n",
            "INFO:tensorflow:global_step/sec: 251.586\n",
            "INFO:tensorflow:loss = 0.1793994, step = 1101 (0.397 sec)\n",
            "INFO:tensorflow:global_step/sec: 275.34\n",
            "INFO:tensorflow:loss = 0.15993239, step = 1201 (0.363 sec)\n",
            "INFO:tensorflow:global_step/sec: 278.143\n",
            "INFO:tensorflow:loss = 0.1670168, step = 1301 (0.359 sec)\n",
            "INFO:tensorflow:global_step/sec: 285.727\n",
            "INFO:tensorflow:loss = 0.07314284, step = 1401 (0.350 sec)\n",
            "INFO:tensorflow:global_step/sec: 272.401\n",
            "INFO:tensorflow:loss = 0.109462455, step = 1501 (0.367 sec)\n",
            "INFO:tensorflow:global_step/sec: 272.869\n",
            "INFO:tensorflow:loss = 0.128223, step = 1601 (0.369 sec)\n",
            "INFO:tensorflow:global_step/sec: 263.852\n",
            "INFO:tensorflow:loss = 0.0377381, step = 1701 (0.376 sec)\n",
            "INFO:tensorflow:global_step/sec: 274.872\n",
            "INFO:tensorflow:loss = 0.13577987, step = 1801 (0.364 sec)\n",
            "INFO:tensorflow:global_step/sec: 269.785\n",
            "INFO:tensorflow:loss = 0.061774064, step = 1901 (0.371 sec)\n",
            "INFO:tensorflow:global_step/sec: 275.821\n",
            "INFO:tensorflow:loss = 0.09865596, step = 2001 (0.362 sec)\n",
            "INFO:tensorflow:global_step/sec: 265.154\n",
            "INFO:tensorflow:loss = 0.027666891, step = 2101 (0.377 sec)\n",
            "INFO:tensorflow:global_step/sec: 262.655\n",
            "INFO:tensorflow:loss = 0.030316439, step = 2201 (0.382 sec)\n",
            "INFO:tensorflow:global_step/sec: 274.981\n",
            "INFO:tensorflow:loss = 0.09677843, step = 2301 (0.363 sec)\n",
            "INFO:tensorflow:global_step/sec: 266.262\n",
            "INFO:tensorflow:loss = 0.07824574, step = 2401 (0.375 sec)\n",
            "INFO:tensorflow:global_step/sec: 266.942\n",
            "INFO:tensorflow:loss = 0.06576454, step = 2501 (0.376 sec)\n",
            "INFO:tensorflow:global_step/sec: 251.563\n",
            "INFO:tensorflow:loss = 0.045662627, step = 2601 (0.398 sec)\n",
            "INFO:tensorflow:global_step/sec: 255.785\n",
            "INFO:tensorflow:loss = 0.020748382, step = 2701 (0.389 sec)\n",
            "INFO:tensorflow:global_step/sec: 270.32\n",
            "INFO:tensorflow:loss = 0.073007524, step = 2801 (0.371 sec)\n",
            "INFO:tensorflow:global_step/sec: 254.102\n",
            "INFO:tensorflow:loss = 0.07726658, step = 2901 (0.393 sec)\n",
            "INFO:tensorflow:global_step/sec: 238.588\n",
            "INFO:tensorflow:loss = 0.021147618, step = 3001 (0.420 sec)\n",
            "INFO:tensorflow:global_step/sec: 265.809\n",
            "INFO:tensorflow:loss = 0.06266794, step = 3101 (0.379 sec)\n",
            "INFO:tensorflow:global_step/sec: 260.461\n",
            "INFO:tensorflow:loss = 0.010938822, step = 3201 (0.382 sec)\n",
            "INFO:tensorflow:global_step/sec: 254.955\n",
            "INFO:tensorflow:loss = 0.022425992, step = 3301 (0.394 sec)\n",
            "INFO:tensorflow:global_step/sec: 255.395\n",
            "INFO:tensorflow:loss = 0.16935866, step = 3401 (0.389 sec)\n",
            "INFO:tensorflow:global_step/sec: 268.837\n",
            "INFO:tensorflow:loss = 0.086578935, step = 3501 (0.372 sec)\n",
            "INFO:tensorflow:global_step/sec: 274.758\n",
            "INFO:tensorflow:loss = 0.13338628, step = 3601 (0.364 sec)\n",
            "INFO:tensorflow:global_step/sec: 265.889\n",
            "INFO:tensorflow:loss = 0.06833474, step = 3701 (0.379 sec)\n",
            "INFO:tensorflow:global_step/sec: 276.222\n",
            "INFO:tensorflow:loss = 0.008690368, step = 3801 (0.361 sec)\n",
            "INFO:tensorflow:global_step/sec: 277.655\n",
            "INFO:tensorflow:loss = 0.10901432, step = 3901 (0.359 sec)\n",
            "WARNING:tensorflow:It seems that global step (tf.train.get_global_step) has not been increased. Current value (could be stable): 3902 vs previous value: 3902. You could increase the global step by passing tf.train.get_global_step() to Optimizer.apply_gradients or Optimizer.minimize.\n",
            "WARNING:tensorflow:It seems that global step (tf.train.get_global_step) has not been increased. Current value (could be stable): 3969 vs previous value: 3969. You could increase the global step by passing tf.train.get_global_step() to Optimizer.apply_gradients or Optimizer.minimize.\n",
            "INFO:tensorflow:global_step/sec: 260.457\n",
            "INFO:tensorflow:loss = 0.11521652, step = 4001 (0.383 sec)\n",
            "INFO:tensorflow:global_step/sec: 268.832\n",
            "INFO:tensorflow:loss = 0.024787568, step = 4101 (0.372 sec)\n",
            "INFO:tensorflow:global_step/sec: 264.362\n",
            "INFO:tensorflow:loss = 0.07207131, step = 4201 (0.378 sec)\n",
            "INFO:tensorflow:global_step/sec: 280.864\n",
            "INFO:tensorflow:loss = 0.1406632, step = 4301 (0.357 sec)\n",
            "INFO:tensorflow:global_step/sec: 278.078\n",
            "INFO:tensorflow:loss = 0.12530798, step = 4401 (0.359 sec)\n",
            "INFO:tensorflow:global_step/sec: 264.628\n",
            "INFO:tensorflow:loss = 0.04265226, step = 4501 (0.377 sec)\n",
            "INFO:tensorflow:global_step/sec: 276.387\n",
            "INFO:tensorflow:loss = 0.014824856, step = 4601 (0.363 sec)\n",
            "INFO:tensorflow:global_step/sec: 278.858\n",
            "INFO:tensorflow:loss = 0.014319551, step = 4701 (0.357 sec)\n",
            "INFO:tensorflow:global_step/sec: 277.889\n",
            "INFO:tensorflow:loss = 0.023580253, step = 4801 (0.361 sec)\n",
            "INFO:tensorflow:global_step/sec: 266.388\n",
            "INFO:tensorflow:loss = 0.0798681, step = 4901 (0.375 sec)\n",
            "WARNING:tensorflow:It seems that global step (tf.train.get_global_step) has not been increased. Current value (could be stable): 4902 vs previous value: 4902. You could increase the global step by passing tf.train.get_global_step() to Optimizer.apply_gradients or Optimizer.minimize.\n",
            "WARNING:tensorflow:It seems that global step (tf.train.get_global_step) has not been increased. Current value (could be stable): 4983 vs previous value: 4983. You could increase the global step by passing tf.train.get_global_step() to Optimizer.apply_gradients or Optimizer.minimize.\n",
            "INFO:tensorflow:global_step/sec: 267.228\n",
            "INFO:tensorflow:loss = 0.0705552, step = 5001 (0.374 sec)\n",
            "WARNING:tensorflow:It seems that global step (tf.train.get_global_step) has not been increased. Current value (could be stable): 5002 vs previous value: 5002. You could increase the global step by passing tf.train.get_global_step() to Optimizer.apply_gradients or Optimizer.minimize.\n",
            "INFO:tensorflow:global_step/sec: 273.601\n",
            "INFO:tensorflow:loss = 0.0070134117, step = 5101 (0.368 sec)\n",
            "INFO:tensorflow:global_step/sec: 279.686\n",
            "INFO:tensorflow:loss = 0.020658117, step = 5201 (0.355 sec)\n",
            "INFO:tensorflow:global_step/sec: 276.515\n",
            "INFO:tensorflow:loss = 0.034983803, step = 5301 (0.361 sec)\n",
            "INFO:tensorflow:global_step/sec: 279.758\n",
            "INFO:tensorflow:loss = 0.06354326, step = 5401 (0.357 sec)\n",
            "INFO:tensorflow:global_step/sec: 275.885\n",
            "INFO:tensorflow:loss = 0.027825618, step = 5501 (0.365 sec)\n",
            "INFO:tensorflow:global_step/sec: 254.697\n",
            "INFO:tensorflow:loss = 0.051128834, step = 5601 (0.390 sec)\n",
            "INFO:tensorflow:global_step/sec: 272.736\n",
            "INFO:tensorflow:loss = 0.011658583, step = 5701 (0.370 sec)\n",
            "INFO:tensorflow:global_step/sec: 245.155\n",
            "INFO:tensorflow:loss = 0.010661223, step = 5801 (0.405 sec)\n",
            "INFO:tensorflow:global_step/sec: 264.243\n",
            "INFO:tensorflow:loss = 0.092885196, step = 5901 (0.379 sec)\n",
            "INFO:tensorflow:global_step/sec: 278.64\n",
            "INFO:tensorflow:loss = 0.10674732, step = 6001 (0.358 sec)\n",
            "INFO:tensorflow:global_step/sec: 278.457\n",
            "INFO:tensorflow:loss = 0.007857409, step = 6101 (0.359 sec)\n",
            "INFO:tensorflow:global_step/sec: 273.383\n",
            "INFO:tensorflow:loss = 0.021693327, step = 6201 (0.367 sec)\n",
            "INFO:tensorflow:global_step/sec: 276.064\n",
            "INFO:tensorflow:loss = 0.07180343, step = 6301 (0.361 sec)\n",
            "INFO:tensorflow:global_step/sec: 283.256\n",
            "INFO:tensorflow:loss = 0.06399486, step = 6401 (0.353 sec)\n",
            "INFO:tensorflow:global_step/sec: 278.893\n",
            "INFO:tensorflow:loss = 0.023011351, step = 6501 (0.359 sec)\n",
            "INFO:tensorflow:global_step/sec: 269.32\n",
            "INFO:tensorflow:loss = 0.005766837, step = 6601 (0.371 sec)\n",
            "INFO:tensorflow:global_step/sec: 263.583\n",
            "INFO:tensorflow:loss = 0.02103676, step = 6701 (0.379 sec)\n",
            "INFO:tensorflow:global_step/sec: 281.074\n",
            "INFO:tensorflow:loss = 0.012038439, step = 6801 (0.356 sec)\n",
            "INFO:tensorflow:global_step/sec: 279.432\n",
            "INFO:tensorflow:loss = 0.012373808, step = 6901 (0.358 sec)\n",
            "INFO:tensorflow:global_step/sec: 256.523\n",
            "INFO:tensorflow:loss = 0.032349646, step = 7001 (0.392 sec)\n",
            "INFO:tensorflow:global_step/sec: 255.125\n",
            "INFO:tensorflow:loss = 0.0052644415, step = 7101 (0.390 sec)\n",
            "INFO:tensorflow:global_step/sec: 267.933\n",
            "INFO:tensorflow:loss = 0.034745585, step = 7201 (0.373 sec)\n",
            "INFO:tensorflow:global_step/sec: 271.73\n",
            "INFO:tensorflow:loss = 0.006541844, step = 7301 (0.372 sec)\n",
            "INFO:tensorflow:global_step/sec: 273.553\n",
            "INFO:tensorflow:loss = 0.014820498, step = 7401 (0.362 sec)\n",
            "INFO:tensorflow:global_step/sec: 275.876\n",
            "INFO:tensorflow:loss = 0.0059154006, step = 7501 (0.363 sec)\n",
            "INFO:tensorflow:global_step/sec: 275.554\n",
            "INFO:tensorflow:loss = 0.020523705, step = 7601 (0.363 sec)\n",
            "INFO:tensorflow:global_step/sec: 264.428\n",
            "INFO:tensorflow:loss = 0.011356205, step = 7701 (0.378 sec)\n",
            "INFO:tensorflow:global_step/sec: 278.666\n",
            "INFO:tensorflow:loss = 0.008326715, step = 7801 (0.360 sec)\n",
            "INFO:tensorflow:global_step/sec: 263.793\n",
            "INFO:tensorflow:loss = 0.01567323, step = 7901 (0.378 sec)\n",
            "INFO:tensorflow:global_step/sec: 247.028\n",
            "INFO:tensorflow:loss = 0.001858359, step = 8001 (0.405 sec)\n",
            "INFO:tensorflow:global_step/sec: 258.036\n",
            "INFO:tensorflow:loss = 0.024989214, step = 8101 (0.388 sec)\n",
            "INFO:tensorflow:global_step/sec: 267.232\n",
            "INFO:tensorflow:loss = 0.014778741, step = 8201 (0.374 sec)\n",
            "INFO:tensorflow:global_step/sec: 271.999\n",
            "INFO:tensorflow:loss = 0.018562268, step = 8301 (0.367 sec)\n",
            "INFO:tensorflow:global_step/sec: 265.934\n",
            "INFO:tensorflow:loss = 0.0055103805, step = 8401 (0.376 sec)\n",
            "INFO:tensorflow:global_step/sec: 259.441\n",
            "INFO:tensorflow:loss = 0.0036247834, step = 8501 (0.390 sec)\n",
            "INFO:tensorflow:global_step/sec: 248.331\n",
            "INFO:tensorflow:loss = 0.0041514058, step = 8601 (0.398 sec)\n",
            "INFO:tensorflow:global_step/sec: 254.672\n",
            "INFO:tensorflow:loss = 0.0026644662, step = 8701 (0.392 sec)\n",
            "INFO:tensorflow:global_step/sec: 280.369\n",
            "INFO:tensorflow:loss = 0.016533475, step = 8801 (0.358 sec)\n",
            "INFO:tensorflow:global_step/sec: 273.81\n",
            "INFO:tensorflow:loss = 0.0028301084, step = 8901 (0.364 sec)\n",
            "INFO:tensorflow:global_step/sec: 280.014\n",
            "INFO:tensorflow:loss = 0.007817453, step = 9001 (0.358 sec)\n",
            "INFO:tensorflow:global_step/sec: 279.552\n",
            "INFO:tensorflow:loss = 0.0081027085, step = 9101 (0.360 sec)\n",
            "INFO:tensorflow:global_step/sec: 257.106\n",
            "INFO:tensorflow:loss = 0.008052409, step = 9201 (0.389 sec)\n",
            "INFO:tensorflow:global_step/sec: 258.977\n",
            "INFO:tensorflow:loss = 0.004452859, step = 9301 (0.384 sec)\n",
            "INFO:tensorflow:global_step/sec: 261.899\n",
            "INFO:tensorflow:loss = 0.044517327, step = 9401 (0.383 sec)\n",
            "INFO:tensorflow:global_step/sec: 280.358\n",
            "INFO:tensorflow:loss = 0.006695387, step = 9501 (0.356 sec)\n",
            "INFO:tensorflow:global_step/sec: 270.515\n",
            "INFO:tensorflow:loss = 0.018603247, step = 9601 (0.369 sec)\n",
            "INFO:tensorflow:global_step/sec: 280.065\n",
            "INFO:tensorflow:loss = 0.008727518, step = 9701 (0.357 sec)\n",
            "INFO:tensorflow:global_step/sec: 277.861\n",
            "INFO:tensorflow:loss = 0.0019590268, step = 9801 (0.363 sec)\n",
            "INFO:tensorflow:global_step/sec: 273.749\n",
            "INFO:tensorflow:loss = 0.012380611, step = 9901 (0.362 sec)\n",
            "INFO:tensorflow:global_step/sec: 281.851\n",
            "INFO:tensorflow:loss = 0.013332589, step = 10001 (0.355 sec)\n",
            "INFO:tensorflow:global_step/sec: 277.906\n",
            "INFO:tensorflow:loss = 0.00732017, step = 10101 (0.360 sec)\n",
            "INFO:tensorflow:global_step/sec: 268.599\n",
            "INFO:tensorflow:loss = 0.020914603, step = 10201 (0.372 sec)\n",
            "INFO:tensorflow:global_step/sec: 270.387\n",
            "INFO:tensorflow:loss = 0.0063177645, step = 10301 (0.371 sec)\n",
            "INFO:tensorflow:global_step/sec: 257.678\n",
            "INFO:tensorflow:loss = 0.008252385, step = 10401 (0.388 sec)\n",
            "INFO:tensorflow:global_step/sec: 273.13\n",
            "INFO:tensorflow:loss = 0.0017589539, step = 10501 (0.365 sec)\n",
            "INFO:tensorflow:global_step/sec: 271.168\n",
            "INFO:tensorflow:loss = 0.022809789, step = 10601 (0.372 sec)\n",
            "INFO:tensorflow:global_step/sec: 262.899\n",
            "INFO:tensorflow:loss = 0.024083326, step = 10701 (0.379 sec)\n",
            "INFO:tensorflow:global_step/sec: 273.324\n",
            "INFO:tensorflow:loss = 0.0041476088, step = 10801 (0.368 sec)\n",
            "INFO:tensorflow:global_step/sec: 260.342\n",
            "INFO:tensorflow:loss = 0.0015450926, step = 10901 (0.380 sec)\n",
            "INFO:tensorflow:global_step/sec: 265.315\n",
            "INFO:tensorflow:loss = 0.021381855, step = 11001 (0.378 sec)\n",
            "INFO:tensorflow:global_step/sec: 281.9\n",
            "INFO:tensorflow:loss = 0.005178781, step = 11101 (0.354 sec)\n",
            "INFO:tensorflow:global_step/sec: 268.174\n",
            "INFO:tensorflow:loss = 0.00095612044, step = 11201 (0.376 sec)\n",
            "INFO:tensorflow:global_step/sec: 278.886\n",
            "INFO:tensorflow:loss = 0.0071779806, step = 11301 (0.356 sec)\n",
            "INFO:tensorflow:global_step/sec: 248.956\n",
            "INFO:tensorflow:loss = 0.00913661, step = 11401 (0.401 sec)\n",
            "INFO:tensorflow:global_step/sec: 270.159\n",
            "INFO:tensorflow:loss = 0.013163655, step = 11501 (0.370 sec)\n",
            "INFO:tensorflow:global_step/sec: 250.167\n",
            "INFO:tensorflow:loss = 0.0007727336, step = 11601 (0.399 sec)\n",
            "INFO:tensorflow:global_step/sec: 273.78\n",
            "INFO:tensorflow:loss = 0.0026732152, step = 11701 (0.365 sec)\n",
            "INFO:tensorflow:global_step/sec: 277.041\n",
            "INFO:tensorflow:loss = 0.0010690568, step = 11801 (0.362 sec)\n",
            "INFO:tensorflow:global_step/sec: 277.914\n",
            "INFO:tensorflow:loss = 0.0030432309, step = 11901 (0.359 sec)\n",
            "INFO:tensorflow:global_step/sec: 278.283\n",
            "INFO:tensorflow:loss = 0.00014690647, step = 12001 (0.359 sec)\n",
            "INFO:tensorflow:global_step/sec: 269.145\n",
            "INFO:tensorflow:loss = 0.0031284033, step = 12101 (0.372 sec)\n",
            "INFO:tensorflow:global_step/sec: 274.995\n",
            "INFO:tensorflow:loss = 0.0050360803, step = 12201 (0.364 sec)\n",
            "INFO:tensorflow:global_step/sec: 263.962\n",
            "INFO:tensorflow:loss = 0.0039061042, step = 12301 (0.379 sec)\n",
            "INFO:tensorflow:global_step/sec: 257.739\n",
            "INFO:tensorflow:loss = 0.0003854135, step = 12401 (0.388 sec)\n",
            "INFO:tensorflow:global_step/sec: 285.898\n",
            "INFO:tensorflow:loss = 0.0049043247, step = 12501 (0.349 sec)\n",
            "INFO:tensorflow:global_step/sec: 281.187\n",
            "INFO:tensorflow:loss = 0.002628647, step = 12601 (0.356 sec)\n",
            "INFO:tensorflow:global_step/sec: 275.749\n",
            "INFO:tensorflow:loss = 0.0035764691, step = 12701 (0.363 sec)\n",
            "INFO:tensorflow:global_step/sec: 261.837\n",
            "INFO:tensorflow:loss = 0.0127754845, step = 12801 (0.382 sec)\n",
            "INFO:tensorflow:global_step/sec: 268.003\n",
            "INFO:tensorflow:loss = 0.0023129703, step = 12901 (0.372 sec)\n",
            "INFO:tensorflow:global_step/sec: 271.827\n",
            "INFO:tensorflow:loss = 0.003070615, step = 13001 (0.368 sec)\n",
            "INFO:tensorflow:global_step/sec: 274.963\n",
            "INFO:tensorflow:loss = 0.00259321, step = 13101 (0.364 sec)\n",
            "INFO:tensorflow:global_step/sec: 279.779\n",
            "INFO:tensorflow:loss = 0.005186426, step = 13201 (0.357 sec)\n",
            "INFO:tensorflow:global_step/sec: 278.183\n",
            "INFO:tensorflow:loss = 0.0045579933, step = 13301 (0.363 sec)\n",
            "INFO:tensorflow:global_step/sec: 259.753\n",
            "INFO:tensorflow:loss = 0.011493535, step = 13401 (0.383 sec)\n",
            "INFO:tensorflow:global_step/sec: 257.432\n",
            "INFO:tensorflow:loss = 0.005260281, step = 13501 (0.388 sec)\n",
            "INFO:tensorflow:global_step/sec: 258.741\n",
            "INFO:tensorflow:loss = 0.0042856713, step = 13601 (0.387 sec)\n",
            "INFO:tensorflow:global_step/sec: 265.165\n",
            "INFO:tensorflow:loss = 0.0029678836, step = 13701 (0.378 sec)\n",
            "INFO:tensorflow:global_step/sec: 268.876\n",
            "INFO:tensorflow:loss = 0.0040330817, step = 13801 (0.371 sec)\n",
            "INFO:tensorflow:global_step/sec: 261.014\n",
            "INFO:tensorflow:loss = 0.004505569, step = 13901 (0.384 sec)\n",
            "INFO:tensorflow:global_step/sec: 260.371\n",
            "INFO:tensorflow:loss = 0.0011653785, step = 14001 (0.384 sec)\n",
            "INFO:tensorflow:global_step/sec: 263.736\n",
            "INFO:tensorflow:loss = 0.0100007355, step = 14101 (0.381 sec)\n",
            "INFO:tensorflow:global_step/sec: 268.593\n",
            "INFO:tensorflow:loss = 0.004699443, step = 14201 (0.370 sec)\n",
            "INFO:tensorflow:global_step/sec: 287.113\n",
            "INFO:tensorflow:loss = 0.00084333075, step = 14301 (0.348 sec)\n",
            "INFO:tensorflow:global_step/sec: 280.087\n",
            "INFO:tensorflow:loss = 0.00045458463, step = 14401 (0.360 sec)\n",
            "INFO:tensorflow:global_step/sec: 268.764\n",
            "INFO:tensorflow:loss = 0.0009853775, step = 14501 (0.370 sec)\n",
            "INFO:tensorflow:global_step/sec: 256.432\n",
            "INFO:tensorflow:loss = 0.004678898, step = 14601 (0.394 sec)\n",
            "INFO:tensorflow:global_step/sec: 272.676\n",
            "INFO:tensorflow:loss = 0.0016940794, step = 14701 (0.362 sec)\n",
            "INFO:tensorflow:global_step/sec: 278.363\n",
            "INFO:tensorflow:loss = 0.0007362039, step = 14801 (0.359 sec)\n",
            "INFO:tensorflow:global_step/sec: 277.044\n",
            "INFO:tensorflow:loss = 0.0025004554, step = 14901 (0.361 sec)\n",
            "INFO:tensorflow:global_step/sec: 268.885\n",
            "INFO:tensorflow:loss = 0.0010289147, step = 15001 (0.372 sec)\n",
            "INFO:tensorflow:global_step/sec: 282.384\n",
            "INFO:tensorflow:loss = 0.0017448762, step = 15101 (0.354 sec)\n",
            "INFO:tensorflow:global_step/sec: 284.382\n",
            "INFO:tensorflow:loss = 0.0015943854, step = 15201 (0.352 sec)\n",
            "INFO:tensorflow:global_step/sec: 260.82\n",
            "INFO:tensorflow:loss = 0.0013474907, step = 15301 (0.384 sec)\n",
            "INFO:tensorflow:global_step/sec: 252.351\n",
            "INFO:tensorflow:loss = 0.003754385, step = 15401 (0.399 sec)\n",
            "INFO:tensorflow:global_step/sec: 263.926\n",
            "INFO:tensorflow:loss = 0.004846605, step = 15501 (0.376 sec)\n",
            "INFO:tensorflow:global_step/sec: 275.261\n",
            "INFO:tensorflow:loss = 0.003856157, step = 15601 (0.366 sec)\n",
            "INFO:tensorflow:global_step/sec: 276\n",
            "INFO:tensorflow:loss = 0.008612781, step = 15701 (0.360 sec)\n",
            "INFO:tensorflow:global_step/sec: 266.064\n",
            "INFO:tensorflow:loss = 0.0020085084, step = 15801 (0.376 sec)\n",
            "INFO:tensorflow:global_step/sec: 273.047\n",
            "INFO:tensorflow:loss = 0.00053413573, step = 15901 (0.366 sec)\n",
            "INFO:tensorflow:global_step/sec: 261.416\n",
            "INFO:tensorflow:loss = 0.0049632424, step = 16001 (0.384 sec)\n",
            "INFO:tensorflow:global_step/sec: 247.169\n",
            "INFO:tensorflow:loss = 0.0036948645, step = 16101 (0.404 sec)\n",
            "INFO:tensorflow:global_step/sec: 268.762\n",
            "INFO:tensorflow:loss = 0.00025399768, step = 16201 (0.374 sec)\n",
            "INFO:tensorflow:global_step/sec: 269.882\n",
            "INFO:tensorflow:loss = 0.0040813647, step = 16301 (0.369 sec)\n",
            "INFO:tensorflow:global_step/sec: 271.462\n",
            "INFO:tensorflow:loss = 0.0033529275, step = 16401 (0.370 sec)\n",
            "INFO:tensorflow:global_step/sec: 260.896\n",
            "INFO:tensorflow:loss = 0.0022680054, step = 16501 (0.382 sec)\n",
            "INFO:tensorflow:global_step/sec: 257.371\n",
            "INFO:tensorflow:loss = 0.0029602754, step = 16601 (0.389 sec)\n",
            "INFO:tensorflow:global_step/sec: 274.468\n",
            "INFO:tensorflow:loss = 0.0020395287, step = 16701 (0.364 sec)\n",
            "INFO:tensorflow:global_step/sec: 265.183\n",
            "INFO:tensorflow:loss = 0.0020813795, step = 16801 (0.378 sec)\n",
            "INFO:tensorflow:global_step/sec: 255.284\n",
            "INFO:tensorflow:loss = 0.002789488, step = 16901 (0.391 sec)\n",
            "INFO:tensorflow:global_step/sec: 278.471\n",
            "INFO:tensorflow:loss = 0.008110071, step = 17001 (0.359 sec)\n",
            "INFO:tensorflow:global_step/sec: 280.208\n",
            "INFO:tensorflow:loss = 0.0020614704, step = 17101 (0.357 sec)\n",
            "INFO:tensorflow:global_step/sec: 281.771\n",
            "INFO:tensorflow:loss = 0.0020164498, step = 17201 (0.355 sec)\n",
            "INFO:tensorflow:global_step/sec: 229.104\n",
            "INFO:tensorflow:loss = 0.0010802537, step = 17301 (0.436 sec)\n",
            "INFO:tensorflow:global_step/sec: 271.878\n",
            "INFO:tensorflow:loss = 0.001890427, step = 17401 (0.368 sec)\n",
            "INFO:tensorflow:global_step/sec: 280.308\n",
            "INFO:tensorflow:loss = 0.0018531516, step = 17501 (0.357 sec)\n",
            "INFO:tensorflow:global_step/sec: 268.429\n",
            "INFO:tensorflow:loss = 0.0004266454, step = 17601 (0.373 sec)\n",
            "INFO:tensorflow:global_step/sec: 268.835\n",
            "INFO:tensorflow:loss = 0.00089604297, step = 17701 (0.372 sec)\n",
            "INFO:tensorflow:global_step/sec: 271.465\n",
            "INFO:tensorflow:loss = 0.00052246446, step = 17801 (0.369 sec)\n",
            "INFO:tensorflow:global_step/sec: 267.474\n",
            "INFO:tensorflow:loss = 0.0022007225, step = 17901 (0.374 sec)\n",
            "INFO:tensorflow:global_step/sec: 273.897\n",
            "INFO:tensorflow:loss = 0.00029963345, step = 18001 (0.365 sec)\n",
            "INFO:tensorflow:global_step/sec: 247.198\n",
            "INFO:tensorflow:loss = 0.0005412512, step = 18101 (0.404 sec)\n",
            "INFO:tensorflow:global_step/sec: 268.381\n",
            "INFO:tensorflow:loss = 0.0042091254, step = 18201 (0.373 sec)\n",
            "INFO:tensorflow:global_step/sec: 267.407\n",
            "INFO:tensorflow:loss = 0.013293398, step = 18301 (0.374 sec)\n",
            "INFO:tensorflow:global_step/sec: 263.712\n",
            "INFO:tensorflow:loss = 0.002839642, step = 18401 (0.379 sec)\n",
            "INFO:tensorflow:global_step/sec: 268.833\n",
            "INFO:tensorflow:loss = 0.004188748, step = 18501 (0.372 sec)\n",
            "INFO:tensorflow:global_step/sec: 268.424\n",
            "INFO:tensorflow:loss = 0.0034595407, step = 18601 (0.373 sec)\n",
            "INFO:tensorflow:global_step/sec: 261.061\n",
            "INFO:tensorflow:loss = 0.0009765127, step = 18701 (0.383 sec)\n",
            "INFO:tensorflow:global_step/sec: 270.777\n",
            "INFO:tensorflow:loss = 0.0026712155, step = 18801 (0.371 sec)\n",
            "INFO:tensorflow:global_step/sec: 272.388\n",
            "INFO:tensorflow:loss = 0.0031403643, step = 18901 (0.365 sec)\n",
            "INFO:tensorflow:global_step/sec: 280.248\n",
            "INFO:tensorflow:loss = 0.0016880748, step = 19001 (0.357 sec)\n",
            "INFO:tensorflow:global_step/sec: 261.365\n",
            "INFO:tensorflow:loss = 0.0006885134, step = 19101 (0.383 sec)\n",
            "INFO:tensorflow:global_step/sec: 257.643\n",
            "INFO:tensorflow:loss = 0.001033876, step = 19201 (0.388 sec)\n",
            "INFO:tensorflow:global_step/sec: 253.451\n",
            "INFO:tensorflow:loss = 0.0062892903, step = 19301 (0.395 sec)\n",
            "INFO:tensorflow:global_step/sec: 255.561\n",
            "INFO:tensorflow:loss = 0.00045338544, step = 19401 (0.392 sec)\n",
            "INFO:tensorflow:global_step/sec: 256.775\n",
            "INFO:tensorflow:loss = 0.0027310036, step = 19501 (0.389 sec)\n",
            "INFO:tensorflow:global_step/sec: 277.052\n",
            "INFO:tensorflow:loss = 0.00028898337, step = 19601 (0.361 sec)\n",
            "INFO:tensorflow:global_step/sec: 265.171\n",
            "INFO:tensorflow:loss = 6.440741e-05, step = 19701 (0.377 sec)\n",
            "INFO:tensorflow:global_step/sec: 268.073\n",
            "INFO:tensorflow:loss = 0.00018117484, step = 19801 (0.374 sec)\n",
            "INFO:tensorflow:global_step/sec: 282.237\n",
            "INFO:tensorflow:loss = 0.0014310313, step = 19901 (0.354 sec)\n",
            "INFO:tensorflow:global_step/sec: 285.154\n",
            "INFO:tensorflow:loss = 0.0019607025, step = 20001 (0.350 sec)\n",
            "INFO:tensorflow:global_step/sec: 273.877\n",
            "INFO:tensorflow:loss = 0.00060165056, step = 20101 (0.365 sec)\n",
            "INFO:tensorflow:global_step/sec: 279.642\n",
            "INFO:tensorflow:loss = 0.0027277002, step = 20201 (0.358 sec)\n",
            "INFO:tensorflow:global_step/sec: 269.547\n",
            "INFO:tensorflow:loss = 0.0017949669, step = 20301 (0.371 sec)\n",
            "INFO:tensorflow:global_step/sec: 283.112\n",
            "INFO:tensorflow:loss = 7.112342e-05, step = 20401 (0.353 sec)\n",
            "INFO:tensorflow:global_step/sec: 283.189\n",
            "INFO:tensorflow:loss = 0.0011328519, step = 20501 (0.353 sec)\n",
            "INFO:tensorflow:global_step/sec: 275.684\n",
            "INFO:tensorflow:loss = 0.0015458509, step = 20601 (0.363 sec)\n",
            "INFO:tensorflow:global_step/sec: 274.967\n",
            "INFO:tensorflow:loss = 0.0006517609, step = 20701 (0.363 sec)\n",
            "INFO:tensorflow:global_step/sec: 283.475\n",
            "INFO:tensorflow:loss = 0.0016572305, step = 20801 (0.353 sec)\n",
            "INFO:tensorflow:global_step/sec: 243.502\n",
            "INFO:tensorflow:loss = 0.00073726266, step = 20901 (0.411 sec)\n",
            "INFO:tensorflow:global_step/sec: 270.139\n",
            "INFO:tensorflow:loss = 0.0020881519, step = 21001 (0.370 sec)\n",
            "INFO:tensorflow:global_step/sec: 281.755\n",
            "INFO:tensorflow:loss = 0.0014119219, step = 21101 (0.355 sec)\n",
            "INFO:tensorflow:global_step/sec: 287.111\n",
            "INFO:tensorflow:loss = 0.0038136297, step = 21201 (0.348 sec)\n",
            "INFO:tensorflow:global_step/sec: 260.27\n",
            "INFO:tensorflow:loss = 0.0010903501, step = 21301 (0.384 sec)\n",
            "INFO:tensorflow:global_step/sec: 255.165\n",
            "INFO:tensorflow:loss = 0.0023279395, step = 21401 (0.392 sec)\n",
            "INFO:tensorflow:global_step/sec: 259.277\n",
            "INFO:tensorflow:loss = 0.00014321099, step = 21501 (0.386 sec)\n",
            "INFO:tensorflow:global_step/sec: 265.59\n",
            "INFO:tensorflow:loss = 0.0010018987, step = 21601 (0.376 sec)\n",
            "INFO:tensorflow:global_step/sec: 285.981\n",
            "INFO:tensorflow:loss = 0.000815817, step = 21701 (0.350 sec)\n",
            "INFO:tensorflow:global_step/sec: 275.326\n",
            "INFO:tensorflow:loss = 0.00037684254, step = 21801 (0.363 sec)\n",
            "INFO:tensorflow:global_step/sec: 251.762\n",
            "INFO:tensorflow:loss = 0.0004360396, step = 21901 (0.397 sec)\n",
            "INFO:tensorflow:global_step/sec: 269.458\n",
            "INFO:tensorflow:loss = 0.00020368204, step = 22001 (0.372 sec)\n",
            "INFO:tensorflow:global_step/sec: 273.409\n",
            "INFO:tensorflow:loss = 0.00041978003, step = 22101 (0.365 sec)\n",
            "INFO:tensorflow:global_step/sec: 269.383\n",
            "INFO:tensorflow:loss = 0.0011731745, step = 22201 (0.371 sec)\n",
            "INFO:tensorflow:global_step/sec: 252.948\n",
            "INFO:tensorflow:loss = 0.0027828896, step = 22301 (0.396 sec)\n",
            "INFO:tensorflow:global_step/sec: 251.895\n",
            "INFO:tensorflow:loss = 0.0017963498, step = 22401 (0.397 sec)\n",
            "INFO:tensorflow:global_step/sec: 264.921\n",
            "INFO:tensorflow:loss = 0.0009840976, step = 22501 (0.377 sec)\n",
            "INFO:tensorflow:global_step/sec: 271.891\n",
            "INFO:tensorflow:loss = 0.0030442544, step = 22601 (0.372 sec)\n",
            "INFO:tensorflow:global_step/sec: 266.805\n",
            "INFO:tensorflow:loss = 0.0010359962, step = 22701 (0.370 sec)\n",
            "INFO:tensorflow:global_step/sec: 254.198\n",
            "INFO:tensorflow:loss = 0.00052908924, step = 22801 (0.394 sec)\n",
            "INFO:tensorflow:global_step/sec: 250.671\n",
            "INFO:tensorflow:loss = 0.0026802225, step = 22901 (0.398 sec)\n",
            "INFO:tensorflow:global_step/sec: 249.362\n",
            "INFO:tensorflow:loss = 0.0007370414, step = 23001 (0.402 sec)\n",
            "INFO:tensorflow:global_step/sec: 261.713\n",
            "INFO:tensorflow:loss = 0.0038934422, step = 23101 (0.385 sec)\n",
            "INFO:tensorflow:global_step/sec: 274.898\n",
            "INFO:tensorflow:loss = 0.0015513146, step = 23201 (0.362 sec)\n",
            "INFO:tensorflow:global_step/sec: 268.788\n",
            "INFO:tensorflow:loss = 0.0016890344, step = 23301 (0.372 sec)\n",
            "INFO:tensorflow:global_step/sec: 269.152\n",
            "INFO:tensorflow:loss = 0.0004907099, step = 23401 (0.370 sec)\n",
            "INFO:tensorflow:global_step/sec: 266.744\n",
            "INFO:tensorflow:loss = 0.0008376477, step = 23501 (0.375 sec)\n",
            "INFO:tensorflow:global_step/sec: 255.41\n",
            "INFO:tensorflow:loss = 0.00090434833, step = 23601 (0.392 sec)\n",
            "INFO:tensorflow:global_step/sec: 233.179\n",
            "INFO:tensorflow:loss = 0.00043260626, step = 23701 (0.428 sec)\n",
            "INFO:tensorflow:global_step/sec: 248.626\n",
            "INFO:tensorflow:loss = 0.001549087, step = 23801 (0.403 sec)\n",
            "INFO:tensorflow:global_step/sec: 255.897\n",
            "INFO:tensorflow:loss = 0.0014339817, step = 23901 (0.390 sec)\n",
            "INFO:tensorflow:global_step/sec: 257.555\n",
            "INFO:tensorflow:loss = 0.001031445, step = 24001 (0.388 sec)\n",
            "INFO:tensorflow:global_step/sec: 252.003\n",
            "INFO:tensorflow:loss = 0.00074126443, step = 24101 (0.397 sec)\n",
            "INFO:tensorflow:global_step/sec: 266.796\n",
            "INFO:tensorflow:loss = 0.002260873, step = 24201 (0.375 sec)\n",
            "INFO:tensorflow:global_step/sec: 238.008\n",
            "INFO:tensorflow:loss = 6.0165406e-05, step = 24301 (0.421 sec)\n",
            "INFO:tensorflow:global_step/sec: 234.979\n",
            "INFO:tensorflow:loss = 0.001544584, step = 24401 (0.428 sec)\n",
            "INFO:tensorflow:global_step/sec: 238.816\n",
            "INFO:tensorflow:loss = 0.0010475335, step = 24501 (0.415 sec)\n",
            "INFO:tensorflow:global_step/sec: 254.183\n",
            "INFO:tensorflow:loss = 0.00020877941, step = 24601 (0.394 sec)\n",
            "INFO:tensorflow:global_step/sec: 241.831\n",
            "INFO:tensorflow:loss = 0.0007542226, step = 24701 (0.414 sec)\n",
            "INFO:tensorflow:global_step/sec: 247.343\n",
            "INFO:tensorflow:loss = 0.0010615375, step = 24801 (0.404 sec)\n",
            "INFO:tensorflow:global_step/sec: 271.045\n",
            "INFO:tensorflow:loss = 0.001953496, step = 24901 (0.369 sec)\n",
            "INFO:tensorflow:global_step/sec: 273.057\n",
            "INFO:tensorflow:loss = 0.0001454565, step = 25001 (0.366 sec)\n",
            "INFO:tensorflow:global_step/sec: 259.536\n",
            "INFO:tensorflow:loss = 0.0008575115, step = 25101 (0.386 sec)\n",
            "INFO:tensorflow:global_step/sec: 275.068\n",
            "INFO:tensorflow:loss = 0.0015314459, step = 25201 (0.363 sec)\n",
            "INFO:tensorflow:global_step/sec: 255.391\n",
            "INFO:tensorflow:loss = 0.00018310714, step = 25301 (0.392 sec)\n",
            "INFO:tensorflow:global_step/sec: 252.661\n",
            "INFO:tensorflow:loss = 0.00031751502, step = 25401 (0.396 sec)\n",
            "INFO:tensorflow:global_step/sec: 268.458\n",
            "INFO:tensorflow:loss = 0.0009628117, step = 25501 (0.372 sec)\n",
            "INFO:tensorflow:global_step/sec: 254.763\n",
            "INFO:tensorflow:loss = 0.0013094575, step = 25601 (0.394 sec)\n",
            "INFO:tensorflow:global_step/sec: 257.242\n",
            "INFO:tensorflow:loss = 0.00096465787, step = 25701 (0.388 sec)\n",
            "INFO:tensorflow:global_step/sec: 256.211\n",
            "INFO:tensorflow:loss = 0.0018046972, step = 25801 (0.390 sec)\n",
            "INFO:tensorflow:global_step/sec: 250.371\n",
            "INFO:tensorflow:loss = 0.0025450324, step = 25901 (0.399 sec)\n",
            "INFO:tensorflow:global_step/sec: 255.586\n",
            "INFO:tensorflow:loss = 0.00017818098, step = 26001 (0.392 sec)\n",
            "INFO:tensorflow:global_step/sec: 257.677\n",
            "INFO:tensorflow:loss = 0.0008136221, step = 26101 (0.388 sec)\n",
            "INFO:tensorflow:global_step/sec: 264.174\n",
            "INFO:tensorflow:loss = 0.0009258039, step = 26201 (0.378 sec)\n",
            "INFO:tensorflow:global_step/sec: 242.661\n",
            "INFO:tensorflow:loss = 0.0007365963, step = 26301 (0.412 sec)\n",
            "INFO:tensorflow:global_step/sec: 265.125\n",
            "INFO:tensorflow:loss = 0.0015278995, step = 26401 (0.377 sec)\n",
            "INFO:tensorflow:global_step/sec: 258.367\n",
            "INFO:tensorflow:loss = 0.0008894314, step = 26501 (0.387 sec)\n",
            "INFO:tensorflow:global_step/sec: 252.983\n",
            "INFO:tensorflow:loss = 0.00033612392, step = 26601 (0.395 sec)\n",
            "INFO:tensorflow:global_step/sec: 267.223\n",
            "INFO:tensorflow:loss = 6.6562234e-06, step = 26701 (0.374 sec)\n",
            "INFO:tensorflow:global_step/sec: 256.305\n",
            "INFO:tensorflow:loss = 0.0005334024, step = 26801 (0.390 sec)\n",
            "INFO:tensorflow:global_step/sec: 242.378\n",
            "INFO:tensorflow:loss = 0.00077948195, step = 26901 (0.412 sec)\n",
            "INFO:tensorflow:global_step/sec: 238.606\n",
            "INFO:tensorflow:loss = 0.00070724374, step = 27001 (0.420 sec)\n",
            "INFO:tensorflow:global_step/sec: 235.801\n",
            "INFO:tensorflow:loss = 0.00039179355, step = 27101 (0.424 sec)\n",
            "INFO:tensorflow:global_step/sec: 220.306\n",
            "INFO:tensorflow:loss = 0.00063074485, step = 27201 (0.455 sec)\n",
            "INFO:tensorflow:global_step/sec: 220.542\n",
            "INFO:tensorflow:loss = 0.0010920956, step = 27301 (0.453 sec)\n",
            "INFO:tensorflow:global_step/sec: 229.674\n",
            "INFO:tensorflow:loss = 0.00011168496, step = 27401 (0.436 sec)\n",
            "INFO:tensorflow:global_step/sec: 228.828\n",
            "INFO:tensorflow:loss = 0.00096484745, step = 27501 (0.436 sec)\n",
            "INFO:tensorflow:global_step/sec: 230.225\n",
            "INFO:tensorflow:loss = 0.0014179839, step = 27601 (0.434 sec)\n",
            "INFO:tensorflow:global_step/sec: 250.306\n",
            "INFO:tensorflow:loss = 0.00059328147, step = 27701 (0.400 sec)\n",
            "INFO:tensorflow:global_step/sec: 230.106\n",
            "INFO:tensorflow:loss = 0.00039474544, step = 27801 (0.435 sec)\n",
            "INFO:tensorflow:global_step/sec: 239.663\n",
            "INFO:tensorflow:loss = 0.0004499758, step = 27901 (0.417 sec)\n",
            "INFO:tensorflow:global_step/sec: 234.614\n",
            "INFO:tensorflow:loss = 0.001714574, step = 28001 (0.426 sec)\n",
            "INFO:tensorflow:global_step/sec: 231.903\n",
            "INFO:tensorflow:loss = 0.0005203514, step = 28101 (0.432 sec)\n",
            "INFO:tensorflow:global_step/sec: 224.046\n",
            "INFO:tensorflow:loss = 0.00072067, step = 28201 (0.447 sec)\n",
            "INFO:tensorflow:global_step/sec: 234.076\n",
            "INFO:tensorflow:loss = 0.0008114936, step = 28301 (0.425 sec)\n",
            "INFO:tensorflow:global_step/sec: 231.883\n",
            "INFO:tensorflow:loss = 0.001270999, step = 28401 (0.431 sec)\n",
            "INFO:tensorflow:global_step/sec: 231.9\n",
            "INFO:tensorflow:loss = 0.0002924642, step = 28501 (0.431 sec)\n",
            "INFO:tensorflow:global_step/sec: 233.697\n",
            "INFO:tensorflow:loss = 0.00043914598, step = 28601 (0.429 sec)\n",
            "INFO:tensorflow:global_step/sec: 240.351\n",
            "INFO:tensorflow:loss = 0.00087693543, step = 28701 (0.416 sec)\n",
            "INFO:tensorflow:global_step/sec: 232.588\n",
            "INFO:tensorflow:loss = 0.001065223, step = 28801 (0.430 sec)\n",
            "INFO:tensorflow:global_step/sec: 234.071\n",
            "INFO:tensorflow:loss = 0.0004396263, step = 28901 (0.426 sec)\n",
            "INFO:tensorflow:global_step/sec: 239.287\n",
            "INFO:tensorflow:loss = 0.0012949512, step = 29001 (0.418 sec)\n",
            "INFO:tensorflow:global_step/sec: 226.652\n",
            "INFO:tensorflow:loss = 0.0010465455, step = 29101 (0.441 sec)\n",
            "INFO:tensorflow:global_step/sec: 227.299\n",
            "INFO:tensorflow:loss = 0.002442325, step = 29201 (0.441 sec)\n",
            "INFO:tensorflow:global_step/sec: 224.739\n",
            "INFO:tensorflow:loss = 0.002109482, step = 29301 (0.444 sec)\n",
            "INFO:tensorflow:global_step/sec: 221.348\n",
            "INFO:tensorflow:loss = 0.0010441155, step = 29401 (0.453 sec)\n",
            "INFO:tensorflow:global_step/sec: 231.562\n",
            "INFO:tensorflow:loss = 0.0010797085, step = 29501 (0.431 sec)\n",
            "INFO:tensorflow:global_step/sec: 252.532\n",
            "INFO:tensorflow:loss = 0.00033229394, step = 29601 (0.396 sec)\n",
            "INFO:tensorflow:global_step/sec: 243.38\n",
            "INFO:tensorflow:loss = 0.00015190641, step = 29701 (0.416 sec)\n",
            "INFO:tensorflow:global_step/sec: 249.378\n",
            "INFO:tensorflow:loss = 0.00071101566, step = 29801 (0.396 sec)\n",
            "INFO:tensorflow:global_step/sec: 254.997\n",
            "INFO:tensorflow:loss = 0.0010469247, step = 29901 (0.392 sec)\n",
            "INFO:tensorflow:global_step/sec: 262.893\n",
            "INFO:tensorflow:loss = 4.746763e-05, step = 30001 (0.380 sec)\n",
            "INFO:tensorflow:global_step/sec: 253.674\n",
            "INFO:tensorflow:loss = 0.0007840238, step = 30101 (0.394 sec)\n",
            "INFO:tensorflow:global_step/sec: 254.268\n",
            "INFO:tensorflow:loss = 0.00036643742, step = 30201 (0.394 sec)\n",
            "INFO:tensorflow:global_step/sec: 265.617\n",
            "INFO:tensorflow:loss = 0.00080256927, step = 30301 (0.376 sec)\n",
            "INFO:tensorflow:global_step/sec: 253.221\n",
            "INFO:tensorflow:loss = 0.0013803729, step = 30401 (0.395 sec)\n",
            "INFO:tensorflow:global_step/sec: 250.302\n",
            "INFO:tensorflow:loss = 0.0007872634, step = 30501 (0.400 sec)\n",
            "INFO:tensorflow:global_step/sec: 249.603\n",
            "INFO:tensorflow:loss = 0.0008599411, step = 30601 (0.401 sec)\n",
            "INFO:tensorflow:global_step/sec: 252.028\n",
            "INFO:tensorflow:loss = 0.0012809457, step = 30701 (0.396 sec)\n",
            "INFO:tensorflow:global_step/sec: 251.643\n",
            "INFO:tensorflow:loss = 0.0010823599, step = 30801 (0.397 sec)\n",
            "INFO:tensorflow:global_step/sec: 254.774\n",
            "INFO:tensorflow:loss = 0.0013947109, step = 30901 (0.393 sec)\n",
            "INFO:tensorflow:global_step/sec: 271.16\n",
            "INFO:tensorflow:loss = 0.0013519233, step = 31001 (0.369 sec)\n",
            "INFO:tensorflow:global_step/sec: 258.831\n",
            "INFO:tensorflow:loss = 0.0010971294, step = 31101 (0.386 sec)\n",
            "INFO:tensorflow:global_step/sec: 254.338\n",
            "INFO:tensorflow:loss = 0.0004557178, step = 31201 (0.393 sec)\n",
            "INFO:tensorflow:global_step/sec: 262.405\n",
            "INFO:tensorflow:loss = 0.00041079606, step = 31301 (0.381 sec)\n",
            "INFO:tensorflow:global_step/sec: 265.07\n",
            "INFO:tensorflow:loss = 0.0012425777, step = 31401 (0.377 sec)\n",
            "INFO:tensorflow:global_step/sec: 262.852\n",
            "INFO:tensorflow:loss = 0.0002983135, step = 31501 (0.380 sec)\n",
            "INFO:tensorflow:global_step/sec: 263.43\n",
            "INFO:tensorflow:loss = 0.00010662673, step = 31601 (0.380 sec)\n",
            "INFO:tensorflow:global_step/sec: 255.534\n",
            "INFO:tensorflow:loss = 0.0005507501, step = 31701 (0.391 sec)\n",
            "INFO:tensorflow:global_step/sec: 276.328\n",
            "INFO:tensorflow:loss = 0.00025545352, step = 31801 (0.362 sec)\n",
            "INFO:tensorflow:global_step/sec: 260.314\n",
            "INFO:tensorflow:loss = 0.00089406135, step = 31901 (0.384 sec)\n",
            "INFO:tensorflow:global_step/sec: 241.608\n",
            "INFO:tensorflow:loss = 0.00012941855, step = 32001 (0.414 sec)\n",
            "INFO:tensorflow:global_step/sec: 242.586\n",
            "INFO:tensorflow:loss = 0.0004160229, step = 32101 (0.413 sec)\n",
            "INFO:tensorflow:global_step/sec: 228.219\n",
            "INFO:tensorflow:loss = 0.0009897824, step = 32201 (0.440 sec)\n",
            "INFO:tensorflow:global_step/sec: 227.135\n",
            "INFO:tensorflow:loss = 0.00062528555, step = 32301 (0.438 sec)\n",
            "INFO:tensorflow:global_step/sec: 216.837\n",
            "INFO:tensorflow:loss = 0.00032545425, step = 32401 (0.465 sec)\n",
            "INFO:tensorflow:global_step/sec: 236.662\n",
            "INFO:tensorflow:loss = 0.00050865323, step = 32501 (0.419 sec)\n",
            "INFO:tensorflow:global_step/sec: 241.546\n",
            "INFO:tensorflow:loss = 0.0001124474, step = 32601 (0.414 sec)\n",
            "INFO:tensorflow:global_step/sec: 231.052\n",
            "INFO:tensorflow:loss = 0.0010382746, step = 32701 (0.432 sec)\n",
            "INFO:tensorflow:global_step/sec: 215.944\n",
            "INFO:tensorflow:loss = 0.0014741034, step = 32801 (0.463 sec)\n",
            "INFO:tensorflow:global_step/sec: 233.676\n",
            "INFO:tensorflow:loss = 0.00043037854, step = 32901 (0.429 sec)\n",
            "INFO:tensorflow:global_step/sec: 241.871\n",
            "INFO:tensorflow:loss = 0.0006354744, step = 33001 (0.413 sec)\n",
            "INFO:tensorflow:global_step/sec: 224.323\n",
            "INFO:tensorflow:loss = 0.0025305536, step = 33101 (0.446 sec)\n",
            "INFO:tensorflow:global_step/sec: 232.453\n",
            "INFO:tensorflow:loss = 0.0009250966, step = 33201 (0.431 sec)\n",
            "INFO:tensorflow:global_step/sec: 222.603\n",
            "INFO:tensorflow:loss = 0.00029616393, step = 33301 (0.449 sec)\n",
            "INFO:tensorflow:global_step/sec: 238.979\n",
            "INFO:tensorflow:loss = 0.0012545005, step = 33401 (0.418 sec)\n",
            "INFO:tensorflow:global_step/sec: 244.501\n",
            "INFO:tensorflow:loss = 0.00031543986, step = 33501 (0.409 sec)\n",
            "INFO:tensorflow:global_step/sec: 264.569\n",
            "INFO:tensorflow:loss = 0.0009563554, step = 33601 (0.378 sec)\n",
            "INFO:tensorflow:global_step/sec: 264.171\n",
            "INFO:tensorflow:loss = 0.00089449016, step = 33701 (0.379 sec)\n",
            "INFO:tensorflow:global_step/sec: 246.962\n",
            "INFO:tensorflow:loss = 0.0008214423, step = 33801 (0.405 sec)\n",
            "INFO:tensorflow:global_step/sec: 264.681\n",
            "INFO:tensorflow:loss = 0.0009624812, step = 33901 (0.378 sec)\n",
            "INFO:tensorflow:global_step/sec: 267.639\n",
            "INFO:tensorflow:loss = 0.0005859293, step = 34001 (0.375 sec)\n",
            "INFO:tensorflow:global_step/sec: 264.498\n",
            "INFO:tensorflow:loss = 0.0006404178, step = 34101 (0.377 sec)\n",
            "INFO:tensorflow:global_step/sec: 269.823\n",
            "INFO:tensorflow:loss = 0.0010869548, step = 34201 (0.371 sec)\n",
            "INFO:tensorflow:global_step/sec: 269.572\n",
            "INFO:tensorflow:loss = 0.0002010458, step = 34301 (0.371 sec)\n",
            "INFO:tensorflow:global_step/sec: 254.734\n",
            "INFO:tensorflow:loss = 0.00042944067, step = 34401 (0.392 sec)\n",
            "INFO:tensorflow:global_step/sec: 248.129\n",
            "INFO:tensorflow:loss = 0.00061893626, step = 34501 (0.403 sec)\n",
            "INFO:tensorflow:global_step/sec: 254.316\n",
            "INFO:tensorflow:loss = 0.00039838857, step = 34601 (0.393 sec)\n",
            "INFO:tensorflow:global_step/sec: 263.537\n",
            "INFO:tensorflow:loss = 0.001105425, step = 34701 (0.380 sec)\n",
            "INFO:tensorflow:global_step/sec: 264.78\n",
            "INFO:tensorflow:loss = 0.0004813418, step = 34801 (0.377 sec)\n",
            "INFO:tensorflow:global_step/sec: 266.58\n",
            "INFO:tensorflow:loss = 0.0005479478, step = 34901 (0.375 sec)\n",
            "INFO:tensorflow:global_step/sec: 256.865\n",
            "INFO:tensorflow:loss = 0.00062428677, step = 35001 (0.390 sec)\n",
            "INFO:tensorflow:global_step/sec: 244.542\n",
            "INFO:tensorflow:loss = 0.00076908077, step = 35101 (0.409 sec)\n",
            "INFO:tensorflow:global_step/sec: 274.097\n",
            "INFO:tensorflow:loss = 0.00020655378, step = 35201 (0.365 sec)\n",
            "INFO:tensorflow:global_step/sec: 255.51\n",
            "INFO:tensorflow:loss = 0.00018378625, step = 35301 (0.392 sec)\n",
            "INFO:tensorflow:global_step/sec: 253.272\n",
            "INFO:tensorflow:loss = 0.0012431794, step = 35401 (0.394 sec)\n",
            "INFO:tensorflow:global_step/sec: 270.234\n",
            "INFO:tensorflow:loss = 0.00012663104, step = 35501 (0.370 sec)\n",
            "INFO:tensorflow:global_step/sec: 275.562\n",
            "INFO:tensorflow:loss = 0.00036924283, step = 35601 (0.363 sec)\n",
            "INFO:tensorflow:global_step/sec: 274.489\n",
            "INFO:tensorflow:loss = 0.00075709284, step = 35701 (0.364 sec)\n",
            "INFO:tensorflow:global_step/sec: 263.272\n",
            "INFO:tensorflow:loss = 0.00070933794, step = 35801 (0.380 sec)\n",
            "INFO:tensorflow:global_step/sec: 262.63\n",
            "INFO:tensorflow:loss = 0.0005954553, step = 35901 (0.381 sec)\n",
            "INFO:tensorflow:global_step/sec: 277.07\n",
            "INFO:tensorflow:loss = 0.00042215484, step = 36001 (0.360 sec)\n",
            "INFO:tensorflow:global_step/sec: 268.956\n",
            "INFO:tensorflow:loss = 0.0011471141, step = 36101 (0.372 sec)\n",
            "INFO:tensorflow:global_step/sec: 268.314\n",
            "INFO:tensorflow:loss = 0.00084842416, step = 36201 (0.373 sec)\n",
            "INFO:tensorflow:global_step/sec: 253.229\n",
            "INFO:tensorflow:loss = 0.00010070753, step = 36301 (0.395 sec)\n",
            "INFO:tensorflow:global_step/sec: 258.289\n",
            "INFO:tensorflow:loss = 0.00078730384, step = 36401 (0.387 sec)\n",
            "INFO:tensorflow:global_step/sec: 277.492\n",
            "INFO:tensorflow:loss = 0.0004129917, step = 36501 (0.360 sec)\n",
            "INFO:tensorflow:global_step/sec: 275.358\n",
            "INFO:tensorflow:loss = 0.0002286522, step = 36601 (0.363 sec)\n",
            "INFO:tensorflow:global_step/sec: 265.918\n",
            "INFO:tensorflow:loss = 0.00049497397, step = 36701 (0.376 sec)\n",
            "INFO:tensorflow:global_step/sec: 273.62\n",
            "INFO:tensorflow:loss = 0.0010898095, step = 36801 (0.365 sec)\n",
            "INFO:tensorflow:global_step/sec: 264.985\n",
            "INFO:tensorflow:loss = 0.00077484874, step = 36901 (0.377 sec)\n",
            "INFO:tensorflow:global_step/sec: 267.83\n",
            "INFO:tensorflow:loss = 0.00054596516, step = 37001 (0.373 sec)\n",
            "INFO:tensorflow:global_step/sec: 270.693\n",
            "INFO:tensorflow:loss = 0.00037344315, step = 37101 (0.370 sec)\n",
            "INFO:tensorflow:global_step/sec: 255.629\n",
            "INFO:tensorflow:loss = 0.0002698487, step = 37201 (0.391 sec)\n",
            "INFO:tensorflow:global_step/sec: 255.762\n",
            "INFO:tensorflow:loss = 0.0005982028, step = 37301 (0.392 sec)\n",
            "INFO:tensorflow:global_step/sec: 253.533\n",
            "INFO:tensorflow:loss = 0.00041470773, step = 37401 (0.393 sec)\n",
            "INFO:tensorflow:global_step/sec: 274.978\n",
            "INFO:tensorflow:loss = 0.00032233, step = 37501 (0.364 sec)\n",
            "INFO:tensorflow:global_step/sec: 255.158\n",
            "INFO:tensorflow:loss = 0.00039723737, step = 37601 (0.392 sec)\n",
            "INFO:tensorflow:global_step/sec: 260.395\n",
            "INFO:tensorflow:loss = 6.530093e-05, step = 37701 (0.384 sec)\n",
            "INFO:tensorflow:global_step/sec: 269.565\n",
            "INFO:tensorflow:loss = 0.00049624307, step = 37801 (0.371 sec)\n",
            "INFO:tensorflow:global_step/sec: 275.19\n",
            "INFO:tensorflow:loss = 0.0014704359, step = 37901 (0.364 sec)\n",
            "INFO:tensorflow:global_step/sec: 272.499\n",
            "INFO:tensorflow:loss = 0.00016983988, step = 38001 (0.367 sec)\n",
            "INFO:tensorflow:global_step/sec: 253.372\n",
            "INFO:tensorflow:loss = 0.00096178113, step = 38101 (0.395 sec)\n",
            "INFO:tensorflow:global_step/sec: 261.101\n",
            "INFO:tensorflow:loss = 0.0005098135, step = 38201 (0.383 sec)\n",
            "INFO:tensorflow:global_step/sec: 272.014\n",
            "INFO:tensorflow:loss = 6.371339e-05, step = 38301 (0.367 sec)\n",
            "INFO:tensorflow:global_step/sec: 251.097\n",
            "INFO:tensorflow:loss = 0.00012269405, step = 38401 (0.399 sec)\n",
            "INFO:tensorflow:global_step/sec: 247.638\n",
            "INFO:tensorflow:loss = 0.00047503694, step = 38501 (0.404 sec)\n",
            "INFO:tensorflow:global_step/sec: 260.573\n",
            "INFO:tensorflow:loss = 0.0007363576, step = 38601 (0.385 sec)\n",
            "INFO:tensorflow:global_step/sec: 265.338\n",
            "INFO:tensorflow:loss = 0.00046511716, step = 38701 (0.376 sec)\n",
            "INFO:tensorflow:global_step/sec: 271.405\n",
            "INFO:tensorflow:loss = 7.266025e-05, step = 38801 (0.369 sec)\n",
            "INFO:tensorflow:global_step/sec: 257.664\n",
            "INFO:tensorflow:loss = 0.0014046007, step = 38901 (0.388 sec)\n",
            "INFO:tensorflow:global_step/sec: 277.921\n",
            "INFO:tensorflow:loss = 0.00016317943, step = 39001 (0.360 sec)\n",
            "INFO:tensorflow:global_step/sec: 265.07\n",
            "INFO:tensorflow:loss = 0.00089843007, step = 39101 (0.377 sec)\n",
            "INFO:tensorflow:global_step/sec: 283.766\n",
            "INFO:tensorflow:loss = 0.00045623168, step = 39201 (0.352 sec)\n",
            "INFO:tensorflow:global_step/sec: 259.672\n",
            "INFO:tensorflow:loss = 0.00020218223, step = 39301 (0.385 sec)\n",
            "INFO:tensorflow:global_step/sec: 266.928\n",
            "INFO:tensorflow:loss = 0.0006998238, step = 39401 (0.375 sec)\n",
            "INFO:tensorflow:global_step/sec: 252.247\n",
            "INFO:tensorflow:loss = 0.00015579193, step = 39501 (0.397 sec)\n",
            "INFO:tensorflow:global_step/sec: 252.016\n",
            "INFO:tensorflow:loss = 0.00062320085, step = 39601 (0.397 sec)\n",
            "INFO:tensorflow:global_step/sec: 269.68\n",
            "INFO:tensorflow:loss = 7.535477e-05, step = 39701 (0.371 sec)\n",
            "INFO:tensorflow:global_step/sec: 257.021\n",
            "INFO:tensorflow:loss = 0.0010569555, step = 39801 (0.389 sec)\n",
            "INFO:tensorflow:global_step/sec: 254.683\n",
            "INFO:tensorflow:loss = 0.0011109151, step = 39901 (0.393 sec)\n",
            "INFO:tensorflow:Saving checkpoints for 40000 into /tmp/tmp4vgz18qc/model.ckpt.\n",
            "INFO:tensorflow:Loss for final step: 0.0005028504.\n"
          ],
          "name": "stdout"
        },
        {
          "output_type": "execute_result",
          "data": {
            "text/plain": [
              "SKCompat()"
            ]
          },
          "metadata": {
            "tags": []
          },
          "execution_count": 5
        }
      ]
    },
    {
      "cell_type": "markdown",
      "metadata": {
        "id": "jZ9pL74x2RBU",
        "colab_type": "text"
      },
      "source": [
        "은닉층 2개(각각의 뉴런 수는 300개와 100개)와 10개의 뉴런을 가진 소프트맥스 출력층 하나로 구성된 분류 문제용 심층 신경망(DNN)을 훈련시켰다. \n",
        "\n",
        "먼저 훈련 세트로부터 실숫값으로 된 열을 만들고, DNNClassifier의 객체를 만든 뒤 사이킷런 인터페이스와 호환되게 만들어주는 SKCompat 클래스로 감쌌다. 마지막으로 샘플이 50개인 배치로 훈련을 40,000번 반복했다."
      ]
    },
    {
      "cell_type": "code",
      "metadata": {
        "id": "IDAXrmpo0_YH",
        "colab_type": "code",
        "colab": {
          "base_uri": "https://localhost:8080/",
          "height": 111
        },
        "outputId": "f61bad2f-5325-4635-d07d-0c9e0ec2902b"
      },
      "source": [
        "from sklearn.metrics import accuracy_score\n",
        "y_pred = dnn_clf.predict(X_test)\n",
        "accuracy_score(y_test,y_pred['classes'])"
      ],
      "execution_count": 6,
      "outputs": [
        {
          "output_type": "stream",
          "text": [
            "INFO:tensorflow:Graph was finalized.\n",
            "INFO:tensorflow:Restoring parameters from /tmp/tmp4vgz18qc/model.ckpt-40000\n",
            "INFO:tensorflow:Running local_init_op.\n",
            "INFO:tensorflow:Done running local_init_op.\n"
          ],
          "name": "stdout"
        },
        {
          "output_type": "execute_result",
          "data": {
            "text/plain": [
              "0.983"
            ]
          },
          "metadata": {
            "tags": []
          },
          "execution_count": 6
        }
      ]
    },
    {
      "cell_type": "markdown",
      "metadata": {
        "id": "1akyS-yS28mI",
        "colab_type": "text"
      },
      "source": [
        "위에서 훈련한 모델이 테스트 세트에서 98.3%의 정확도를 낸다는 것을 확인하였다. (성능이 매우 좋음을 알 수 있음)"
      ]
    },
    {
      "cell_type": "markdown",
      "metadata": {
        "id": "KFZqb64u3Phb",
        "colab_type": "text"
      },
      "source": [
        "## 10.3 텐서플로의 저수준 API로 심층 신경망 훈련하기"
      ]
    },
    {
      "cell_type": "markdown",
      "metadata": {
        "id": "ykue55dB5M1F",
        "colab_type": "text"
      },
      "source": [
        "네트워크의 구조를 더 상세히 제어하려면 텐서플로의 저수준 파이썬 API가 나을 수 있다. "
      ]
    },
    {
      "cell_type": "markdown",
      "metadata": {
        "id": "1qJ1pkxm5UXE",
        "colab_type": "text"
      },
      "source": [
        "### 10.3.1 구성 단계"
      ]
    },
    {
      "cell_type": "code",
      "metadata": {
        "id": "KOEOQp3A26r2",
        "colab_type": "code",
        "colab": {}
      },
      "source": [
        "n_inputs = 28*28 #MNIST\n",
        "n_hidden1 = 300\n",
        "n_hidden2 = 100\n",
        "n_outputs = 10"
      ],
      "execution_count": 0,
      "outputs": []
    },
    {
      "cell_type": "markdown",
      "metadata": {
        "id": "Q59lERGN5hHj",
        "colab_type": "text"
      },
      "source": [
        "입력과 출력 크기를 지정하고 은닉층의 뉴런 수를 설정했다."
      ]
    },
    {
      "cell_type": "code",
      "metadata": {
        "id": "xW58To-v5fpB",
        "colab_type": "code",
        "colab": {}
      },
      "source": [
        "X = tf.placeholder(tf.float32,shape=(None,n_inputs),name=\"X\")\n",
        "y = tf.placeholder(tf.int32, shape=(None),name=\"y\")"
      ],
      "execution_count": 0,
      "outputs": []
    },
    {
      "cell_type": "markdown",
      "metadata": {
        "id": "8vixl_VM5_il",
        "colab_type": "text"
      },
      "source": [
        "9장에서 한 것처럼 플레이스홀더 노드를 사용해 훈련 데이터와 타깃을 표현했다. \n",
        "\n",
        "X는 특성의 수가 28*28(픽셀 당 하나의 특성이므로)임을 알고 있지만 훈련 배치에 몇 개의 샘플이 포함될지 모르기 때문에 크기를 일부분만 정의했다. \n",
        "\n",
        "y는 값이 샘플당 하나인 1차원 텐서라는 것은 알지만 훈련 배치의 크기를 알 수 없기 때문에 크기를 (None)이라고 정의해주었다."
      ]
    },
    {
      "cell_type": "code",
      "metadata": {
        "id": "mJ3s8QiF5-j1",
        "colab_type": "code",
        "colab": {}
      },
      "source": [
        "def neuron_layer(X,n_neurons,name,activation=None):\n",
        "  with tf.name_scope(name):                                                      \n",
        "    n_inputs = int(X.get_shape()[1])                                             \n",
        "    stddev = 2/np.sqrt(n_inputs+n_neurons)                                       \n",
        "    init = tf.truncated_normal((n_inputs,n_neurons),stddev=stddev)               \n",
        "    W = tf.Variable(init,name=\"kernel\")                                          \n",
        "    b = tf.Variable(tf.zeros([n_neurons]),name=\"bias\")                           \n",
        "    Z = tf.matmul(X,W) + b\n",
        "    if activation is not None:\n",
        "      return activation(Z)\n",
        "    else:\n",
        "      return Z"
      ],
      "execution_count": 0,
      "outputs": []
    },
    {
      "cell_type": "markdown",
      "metadata": {
        "id": "Mhxx-oKj8_UG",
        "colab_type": "text"
      },
      "source": [
        "2번째 줄: 층 이름으로 이름 범위를 만들었다.\n",
        "\n",
        "3번째 줄: 입력 행렬의 크기에서 두 번째 차원을 사용해 입력 특성의 수를 구했다.\n",
        "\n",
        "4~6번째 줄: 가중치 행렬을 담을 W 변수를 만들었다. 이 행렬은 각 입력과 각 뉴런 사이의 모든 연결 가중치를 담고 있는 2D 텐서이다. 그래서 크기는 (n_inputs,n_neurons)가 된다. 표준편차가 2/루트(n_inputs+n_neurons) 인 절단 정규(가우시안) 분포를 사용해 무작위로 초기화된다. 모든 은닉층의 가중치를 무작위로 초기화하는 이유는 대칭성을 피해 경사 하강법 알고리즘이 중단되지 않도록 하기 위함이다.\n",
        "\n",
        "7번째 줄: 뉴런마다 하나의 편향을 갖도록 변수 b를 만들고 0으로 초기화했다. (여기서는 대칭 문제가 없어서 0으로 초기화해도 문제가 되지 않는다.)\n",
        "\n",
        "8번째 줄: Z =X·W + b 를 계산하기 위한 그래프를 만들었다. 이는 층에 있는 모든 뉴런과 배치에 있는 모든 샘플에 대해 입력에 대한 가중치 합에 편향을 더하는 계산을 효율적으로 한 번에 수행한다.\n",
        "\n",
        "9번째 줄~마지막 줄: tf.nn.relu와 같은 activation 매개변수가 지정되어 있으면 activation(Z)(즉 max(0,Z))를 반환하고, 그렇지 않으면 그냥 Z를 반환한다.\n",
        "\n",
        "\n",
        "이로써 하나의 뉴런 층을 만드는 함수를 만들었다."
      ]
    },
    {
      "cell_type": "code",
      "metadata": {
        "id": "HPiDXVjO7RXD",
        "colab_type": "code",
        "colab": {}
      },
      "source": [
        "with tf.name_scope(\"dnn\"):\n",
        "  hidden1 = neuron_layer(X,n_hidden1,name=\"hidden1\",activation=tf.nn.relu)\n",
        "  hidden2 = neuron_layer(hidden1, n_hidden2, name=\"hidden2\",activation=tf.nn.relu)\n",
        "  logits = neuron_layer(hidden2, n_outputs, name=\"outputs\")"
      ],
      "execution_count": 0,
      "outputs": []
    },
    {
      "cell_type": "markdown",
      "metadata": {
        "id": "bnApcEvCABNe",
        "colab_type": "text"
      },
      "source": [
        "첫 번째 은닉층은 X를 입력으로 받고, 두 번째는 첫 번째 은닉층의 출력을 입력으로 받는다. 마지막 출력층은 두 번째 은닉층의 출력을 입력으로 받는다.\n",
        "\n",
        "여기에서도 이름 범위를 사용해 정리했다."
      ]
    },
    {
      "cell_type": "code",
      "metadata": {
        "id": "-hvqwMk3___L",
        "colab_type": "code",
        "colab": {
          "base_uri": "https://localhost:8080/",
          "height": 73
        },
        "outputId": "1c11410e-a5c0-4e4a-c4f9-a1b1b0943afe"
      },
      "source": [
        "with tf.name_scope(\"dnn\"):\n",
        "  hidden1 = tf.layers.dense(X,n_hidden1,name=\"hidden1\",activation=tf.nn.relu)\n",
        "  hidden2 = tf.layers.dense(hidden1, n_hidden2, name=\"hidden2\",activation=tf.nn.relu)\n",
        "  logits = tf.layers.dense(hidden2, n_outputs, name=\"outputs\")"
      ],
      "execution_count": 13,
      "outputs": [
        {
          "output_type": "stream",
          "text": [
            "WARNING:tensorflow:From <ipython-input-13-617c0992dfea>:2: dense (from tensorflow.python.layers.core) is deprecated and will be removed in a future version.\n",
            "Instructions for updating:\n",
            "Use keras.layers.Dense instead.\n"
          ],
          "name": "stdout"
        }
      ]
    },
    {
      "cell_type": "markdown",
      "metadata": {
        "id": "oej_UcEFAyxc",
        "colab_type": "text"
      },
      "source": [
        "위의 코드를 neuron_layer() 함수가 아니라 dense() 함수를 사용하도록 수정해보았다."
      ]
    },
    {
      "cell_type": "code",
      "metadata": {
        "id": "B_2sYFbCAvDr",
        "colab_type": "code",
        "colab": {}
      },
      "source": [
        "with tf.name_scope(\"loss\"):\n",
        "  xentropy = tf.nn.sparse_softmax_cross_entropy_with_logits(labels=y,logits=logits)\n",
        "  loss = tf.reduce_mean(xentropy,name=\"loss\")"
      ],
      "execution_count": 0,
      "outputs": []
    },
    {
      "cell_type": "markdown",
      "metadata": {
        "id": "LR7WsMe4EEKQ",
        "colab_type": "text"
      },
      "source": [
        "훈련에 사용할 비용 함수를 정의했다. 크로스 엔트로피를 사용했다. 크로스 엔트로피는 모델이 타깃 클래스에 대해 낮은 확률을 추정하지 않도록 제약을 가한다. "
      ]
    },
    {
      "cell_type": "code",
      "metadata": {
        "id": "ZQw0Kp4PEDa2",
        "colab_type": "code",
        "colab": {}
      },
      "source": [
        "learning_rate = 0.01\n",
        "\n",
        "with tf.name_scope(\"train\"):\n",
        "  optimizer = tf.train.GradientDescentOptimizer(learning_rate)\n",
        "  training_op = optimizer.minimize(loss)"
      ],
      "execution_count": 0,
      "outputs": []
    },
    {
      "cell_type": "markdown",
      "metadata": {
        "id": "nUyXfRbcEe1E",
        "colab_type": "text"
      },
      "source": [
        "GradientDescentOptimizer를 사용해 비용 함수를 최소화시키도록 모델 파라미터를 조정했다."
      ]
    },
    {
      "cell_type": "code",
      "metadata": {
        "id": "niOsxGc-Ed5M",
        "colab_type": "code",
        "colab": {}
      },
      "source": [
        "with tf.name_scope(\"eval\"):\n",
        "  correct = tf.nn.in_top_k(logits,y,1)\n",
        "  accuracy = tf.reduce_mean(tf.cast(correct,tf.float32))"
      ],
      "execution_count": 0,
      "outputs": []
    },
    {
      "cell_type": "markdown",
      "metadata": {
        "id": "mtjRQLgnF6D2",
        "colab_type": "text"
      },
      "source": [
        "먼저 in_top_k() 함수를 사용해 샘플마다 가장 큰 로짓이 타깃 클래스에 해당하는지 여부를 확인해 신경망의 예측이 맞는지 결정했다. 정확도를 사용해 성능을 측정했다."
      ]
    },
    {
      "cell_type": "code",
      "metadata": {
        "id": "4UuEAUOQF467",
        "colab_type": "code",
        "colab": {}
      },
      "source": [
        "init = tf.global_variables_initializer()\n",
        "saver = tf.train.Saver()"
      ],
      "execution_count": 0,
      "outputs": []
    },
    {
      "cell_type": "markdown",
      "metadata": {
        "id": "PUiwlKU4GXI7",
        "colab_type": "text"
      },
      "source": [
        "모든 변수를 초기화하는 노드를 만들고 훈련된 모델 파라미터를 디스크에 저장하기 위한 Saver 객체를 생성했다."
      ]
    },
    {
      "cell_type": "markdown",
      "metadata": {
        "id": "MuCdsNMwGipv",
        "colab_type": "text"
      },
      "source": [
        "여기까지가 구성 단계이다. 입력과 출력을 위한 플레이스 홀더를 만들었고 뉴런의 층을 구성하는 함수를 만들고 이 함수를 사용해 심층 신경망을 생성했다. 비용 함수와 옵티마이저를 생성하고 마지막에 성능 지표를 정의했다. 이 다음은 실행 단계이다."
      ]
    },
    {
      "cell_type": "markdown",
      "metadata": {
        "id": "sx_KRohEGwMX",
        "colab_type": "text"
      },
      "source": [
        "### 10.3.2 실행단계"
      ]
    },
    {
      "cell_type": "code",
      "metadata": {
        "id": "M-P3oVMlGWjK",
        "colab_type": "code",
        "colab": {}
      },
      "source": [
        "n_epochs = 40\n",
        "batch_size = 50"
      ],
      "execution_count": 0,
      "outputs": []
    },
    {
      "cell_type": "markdown",
      "metadata": {
        "id": "5lJz2R8tHRzU",
        "colab_type": "text"
      },
      "source": [
        "앞에서 MNIST 데이터셋을 이미 읽어 들여왔으므로 이 단계는 생략하고 실행시킬 에포크 횟수와 미니배치 크기를 정의했다."
      ]
    },
    {
      "cell_type": "code",
      "metadata": {
        "id": "UemG5cZQHQ2k",
        "colab_type": "code",
        "colab": {
          "base_uri": "https://localhost:8080/",
          "height": 251
        },
        "outputId": "6cb44225-74fa-4735-de94-e4634bdc98ea"
      },
      "source": [
        "with tf.Session() as sess:\n",
        "  init.run()\n",
        "  for X_batch,y_batch in shuffle_batch(X_train,y_train,batch_size):\n",
        "    sess.run(training_op, feed_dict={X:X_batch,y:y_batch})\n",
        "    acc_batch = accuracy.eval(feed_dict={X:X_batch,y:y_batch})\n",
        "    acc_valid = accuracy.eval(feed_dict={X:X_valid,y:y_valid})\n",
        "    print(epoch,\"배치 데이터 정확도:\",acc_batch,\"검증 세트 정확도:\",acc_valid)\n",
        "\n",
        "  save_path = saver.save(sess,\"./my_model_final.ckpt\")\n"
      ],
      "execution_count": 26,
      "outputs": [
        {
          "output_type": "error",
          "ename": "NameError",
          "evalue": "ignored",
          "traceback": [
            "\u001b[0;31m---------------------------------------------------------------------------\u001b[0m",
            "\u001b[0;31mNameError\u001b[0m                                 Traceback (most recent call last)",
            "\u001b[0;32m<ipython-input-26-2189edac7bfc>\u001b[0m in \u001b[0;36m<module>\u001b[0;34m()\u001b[0m\n\u001b[1;32m      1\u001b[0m \u001b[0;32mwith\u001b[0m \u001b[0mtf\u001b[0m\u001b[0;34m.\u001b[0m\u001b[0mSession\u001b[0m\u001b[0;34m(\u001b[0m\u001b[0;34m)\u001b[0m \u001b[0;32mas\u001b[0m \u001b[0msess\u001b[0m\u001b[0;34m:\u001b[0m\u001b[0;34m\u001b[0m\u001b[0;34m\u001b[0m\u001b[0m\n\u001b[1;32m      2\u001b[0m   \u001b[0minit\u001b[0m\u001b[0;34m.\u001b[0m\u001b[0mrun\u001b[0m\u001b[0;34m(\u001b[0m\u001b[0;34m)\u001b[0m\u001b[0;34m\u001b[0m\u001b[0;34m\u001b[0m\u001b[0m\n\u001b[0;32m----> 3\u001b[0;31m   \u001b[0;32mfor\u001b[0m \u001b[0mX_batch\u001b[0m\u001b[0;34m,\u001b[0m\u001b[0my_batch\u001b[0m \u001b[0;32min\u001b[0m \u001b[0mshuffle_batch\u001b[0m\u001b[0;34m(\u001b[0m\u001b[0mX_train\u001b[0m\u001b[0;34m,\u001b[0m\u001b[0my_train\u001b[0m\u001b[0;34m,\u001b[0m\u001b[0mbatch_size\u001b[0m\u001b[0;34m)\u001b[0m\u001b[0;34m:\u001b[0m\u001b[0;34m\u001b[0m\u001b[0;34m\u001b[0m\u001b[0m\n\u001b[0m\u001b[1;32m      4\u001b[0m     \u001b[0msess\u001b[0m\u001b[0;34m.\u001b[0m\u001b[0mrun\u001b[0m\u001b[0;34m(\u001b[0m\u001b[0mtraining_op\u001b[0m\u001b[0;34m,\u001b[0m \u001b[0mfeed_dict\u001b[0m\u001b[0;34m=\u001b[0m\u001b[0;34m{\u001b[0m\u001b[0mX\u001b[0m\u001b[0;34m:\u001b[0m\u001b[0mX_batch\u001b[0m\u001b[0;34m,\u001b[0m\u001b[0my\u001b[0m\u001b[0;34m:\u001b[0m\u001b[0my_batch\u001b[0m\u001b[0;34m}\u001b[0m\u001b[0;34m)\u001b[0m\u001b[0;34m\u001b[0m\u001b[0;34m\u001b[0m\u001b[0m\n\u001b[1;32m      5\u001b[0m     \u001b[0macc_batch\u001b[0m \u001b[0;34m=\u001b[0m \u001b[0maccuracy\u001b[0m\u001b[0;34m.\u001b[0m\u001b[0meval\u001b[0m\u001b[0;34m(\u001b[0m\u001b[0mfeed_dict\u001b[0m\u001b[0;34m=\u001b[0m\u001b[0;34m{\u001b[0m\u001b[0mX\u001b[0m\u001b[0;34m:\u001b[0m\u001b[0mX_batch\u001b[0m\u001b[0;34m,\u001b[0m\u001b[0my\u001b[0m\u001b[0;34m:\u001b[0m\u001b[0my_batch\u001b[0m\u001b[0;34m}\u001b[0m\u001b[0;34m)\u001b[0m\u001b[0;34m\u001b[0m\u001b[0;34m\u001b[0m\u001b[0m\n",
            "\u001b[0;31mNameError\u001b[0m: name 'shuffle_batch' is not defined"
          ]
        }
      ]
    },
    {
      "cell_type": "markdown",
      "metadata": {
        "id": "U8ECqHU8I2e4",
        "colab_type": "text"
      },
      "source": [
        "에러\n",
        "\n",
        "텐서플로 세션을 열고 init 노드를 실행해서 모든 변수를 초기화했다. 그 다음 바깥쪽 훈련 루프를 실행했다. 매 에포크에서 훈련 데이터의 크기를 미니배치 크기로 나눈 횟수만큼 반복했다. 그리고 에포크의 끝에서 마지막 미니배치와 검증 데이터를 사용해 모델을 평가하여 결과를 출력했다. 마지막으로 모델 파라미터를 디스크에 저장했다."
      ]
    },
    {
      "cell_type": "markdown",
      "metadata": {
        "id": "BTUZSeSzKwas",
        "colab_type": "text"
      },
      "source": [
        "### 10.3.3 신경망 사용하기 "
      ]
    },
    {
      "cell_type": "markdown",
      "metadata": {
        "id": "KL-Bt0_4L3HX",
        "colab_type": "text"
      },
      "source": [
        "신경망을 훈련시키고 나면 이를 사용해 예측을 만들 수도 있다. 이 때 구성 단계는 그대로 재사용할 수 있지만 실행 단계는 다음과 같이 수정이 필요하다."
      ]
    },
    {
      "cell_type": "code",
      "metadata": {
        "id": "bcNBfQVgIRom",
        "colab_type": "code",
        "colab": {
          "base_uri": "https://localhost:8080/",
          "height": 381
        },
        "outputId": "046155de-1c23-4657-eba5-ed182c399892"
      },
      "source": [
        "with tf.Session() as sess:\n",
        "  saver.restore(sess,\"./my_model_final.ckpt\")\n",
        "  X_new_scaled = [...]\n",
        "  Z = logits.eval(feed_dict = {X:X_new_scaled})\n",
        "  y_pred = np.argmax(Z,axis=1)"
      ],
      "execution_count": 27,
      "outputs": [
        {
          "output_type": "error",
          "ename": "ValueError",
          "evalue": "ignored",
          "traceback": [
            "\u001b[0;31m---------------------------------------------------------------------------\u001b[0m",
            "\u001b[0;31mValueError\u001b[0m                                Traceback (most recent call last)",
            "\u001b[0;32m<ipython-input-27-8dbbda59be50>\u001b[0m in \u001b[0;36m<module>\u001b[0;34m()\u001b[0m\n\u001b[1;32m      1\u001b[0m \u001b[0;32mwith\u001b[0m \u001b[0mtf\u001b[0m\u001b[0;34m.\u001b[0m\u001b[0mSession\u001b[0m\u001b[0;34m(\u001b[0m\u001b[0;34m)\u001b[0m \u001b[0;32mas\u001b[0m \u001b[0msess\u001b[0m\u001b[0;34m:\u001b[0m\u001b[0;34m\u001b[0m\u001b[0;34m\u001b[0m\u001b[0m\n\u001b[0;32m----> 2\u001b[0;31m   \u001b[0msaver\u001b[0m\u001b[0;34m.\u001b[0m\u001b[0mrestore\u001b[0m\u001b[0;34m(\u001b[0m\u001b[0msess\u001b[0m\u001b[0;34m,\u001b[0m\u001b[0;34m\"./my_model_final.ckpt\"\u001b[0m\u001b[0;34m)\u001b[0m\u001b[0;34m\u001b[0m\u001b[0;34m\u001b[0m\u001b[0m\n\u001b[0m\u001b[1;32m      3\u001b[0m   \u001b[0mX_new_scaled\u001b[0m \u001b[0;34m=\u001b[0m \u001b[0;34m[\u001b[0m\u001b[0;34m...\u001b[0m\u001b[0;34m]\u001b[0m\u001b[0;34m\u001b[0m\u001b[0;34m\u001b[0m\u001b[0m\n\u001b[1;32m      4\u001b[0m   \u001b[0mZ\u001b[0m \u001b[0;34m=\u001b[0m \u001b[0mlogits\u001b[0m\u001b[0;34m.\u001b[0m\u001b[0meval\u001b[0m\u001b[0;34m(\u001b[0m\u001b[0mfeed_dict\u001b[0m \u001b[0;34m=\u001b[0m \u001b[0;34m{\u001b[0m\u001b[0mX\u001b[0m\u001b[0;34m:\u001b[0m\u001b[0mX_new_scaled\u001b[0m\u001b[0;34m}\u001b[0m\u001b[0;34m)\u001b[0m\u001b[0;34m\u001b[0m\u001b[0;34m\u001b[0m\u001b[0m\n\u001b[1;32m      5\u001b[0m   \u001b[0my_pred\u001b[0m \u001b[0;34m=\u001b[0m \u001b[0mnp\u001b[0m\u001b[0;34m.\u001b[0m\u001b[0margmax\u001b[0m\u001b[0;34m(\u001b[0m\u001b[0mZ\u001b[0m\u001b[0;34m,\u001b[0m\u001b[0maxis\u001b[0m\u001b[0;34m=\u001b[0m\u001b[0;36m1\u001b[0m\u001b[0;34m)\u001b[0m\u001b[0;34m\u001b[0m\u001b[0;34m\u001b[0m\u001b[0m\n",
            "\u001b[0;32m/usr/local/lib/python3.6/dist-packages/tensorflow_core/python/training/saver.py\u001b[0m in \u001b[0;36mrestore\u001b[0;34m(self, sess, save_path)\u001b[0m\n\u001b[1;32m   1280\u001b[0m     \u001b[0;32mif\u001b[0m \u001b[0;32mnot\u001b[0m \u001b[0mcheckpoint_management\u001b[0m\u001b[0;34m.\u001b[0m\u001b[0mcheckpoint_exists_internal\u001b[0m\u001b[0;34m(\u001b[0m\u001b[0mcheckpoint_prefix\u001b[0m\u001b[0;34m)\u001b[0m\u001b[0;34m:\u001b[0m\u001b[0;34m\u001b[0m\u001b[0;34m\u001b[0m\u001b[0m\n\u001b[1;32m   1281\u001b[0m       raise ValueError(\"The passed save_path is not a valid checkpoint: \" +\n\u001b[0;32m-> 1282\u001b[0;31m                        checkpoint_prefix)\n\u001b[0m\u001b[1;32m   1283\u001b[0m \u001b[0;34m\u001b[0m\u001b[0m\n\u001b[1;32m   1284\u001b[0m     \u001b[0mlogging\u001b[0m\u001b[0;34m.\u001b[0m\u001b[0minfo\u001b[0m\u001b[0;34m(\u001b[0m\u001b[0;34m\"Restoring parameters from %s\"\u001b[0m\u001b[0;34m,\u001b[0m \u001b[0mcheckpoint_prefix\u001b[0m\u001b[0;34m)\u001b[0m\u001b[0;34m\u001b[0m\u001b[0;34m\u001b[0m\u001b[0m\n",
            "\u001b[0;31mValueError\u001b[0m: The passed save_path is not a valid checkpoint: ./my_model_final.ckpt"
          ]
        }
      ]
    },
    {
      "cell_type": "markdown",
      "metadata": {
        "id": "KdajFAzqMVUZ",
        "colab_type": "text"
      },
      "source": [
        "에러가 떴지만^^,, 일단 코드만 보면\n",
        "\n",
        "먼저 디스크로부터 모델 파라미터를 읽어들이고, 분류하려는 새 이미지를 읽는다. 훈련 데이터와 같은 특성 스케일로 조정한다. 그런 다음 logits 노드를 평가한다. 모든 클래스에 대한 추정 확률을 알고 싶다면 로짓에 softmax() 함수를 적용하면 되고, 어떤 클래스 하나를 예측하는 것이라면 간단하게 로짓 값이 가장 큰 클래스를 선택하면 된다. (argmax() 함수가 이 작업을 담당함)\n",
        "\n"
      ]
    },
    {
      "cell_type": "markdown",
      "metadata": {
        "id": "fGvGymJeM0Zt",
        "colab_type": "text"
      },
      "source": [
        "\n",
        "\n",
        "10.4는 코드가 없으니 책 참고하기"
      ]
    },
    {
      "cell_type": "code",
      "metadata": {
        "id": "Z_4NxkVtMSoX",
        "colab_type": "code",
        "colab": {}
      },
      "source": [
        ""
      ],
      "execution_count": 0,
      "outputs": []
    }
  ]
}